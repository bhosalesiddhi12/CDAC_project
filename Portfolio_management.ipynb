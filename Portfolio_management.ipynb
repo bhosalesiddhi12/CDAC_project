{
  "cells": [
    {
      "cell_type": "markdown",
      "metadata": {
        "id": "xwTCYBOGkjgW"
      },
      "source": [
        "#Problem Statement :- Protfolio Management using ML"
      ]
    },
    {
      "cell_type": "code",
      "execution_count": null,
      "metadata": {
        "id": "h1XN2-IokvRh"
      },
      "outputs": [],
      "source": [
        "import numpy as np\n",
        "from numpy import cov\n",
        "from scipy.stats import pearsonr,spearmanr\n",
        "import os\n",
        "%matplotlib inline\n",
        "import matplotlib\n",
        "import matplotlib.pyplot as plt\n",
        "import warnings; warnings.simplefilter('ignore')\n",
        "from numpy import math\n",
        "from sklearn.model_selection import train_test_split\n",
        "import pandas as pd\n",
        "from pandas import read_csv\n",
        "from sklearn.preprocessing import StandardScaler\n",
        "from sklearn.metrics import mean_squared_error, r2_score"
      ]
    },
    {
      "cell_type": "code",
      "execution_count": null,
      "metadata": {
        "colab": {
          "base_uri": "https://localhost:8080/",
          "height": 363
        },
        "id": "dvFFwQx_n0O4",
        "outputId": "032ca248-bfaf-47a8-c809-09825fcc7b20"
      },
      "outputs": [
        {
          "output_type": "execute_result",
          "data": {
            "text/plain": [
              "         date   open   high    low  close    volume Name\n",
              "0  2013-02-08  15.07  15.12  14.63  14.75   8407500  AAL\n",
              "1  2013-02-11  14.89  15.01  14.26  14.46   8882000  AAL\n",
              "2  2013-02-12  14.45  14.51  14.10  14.27   8126000  AAL\n",
              "3  2013-02-13  14.30  14.94  14.25  14.66  10259500  AAL\n",
              "4  2013-02-14  14.94  14.96  13.16  13.99  31879900  AAL\n",
              "5  2013-02-15  13.93  14.61  13.93  14.50  15628000  AAL\n",
              "6  2013-02-19  14.33  14.56  14.08  14.26  11354400  AAL\n",
              "7  2013-02-20  14.17  14.26  13.15  13.33  14725200  AAL\n",
              "8  2013-02-21  13.62  13.95  12.90  13.37  11922100  AAL\n",
              "9  2013-02-22  13.57  13.60  13.21  13.57   6071400  AAL"
            ],
            "text/html": [
              "\n",
              "  <div id=\"df-9c89820c-01c6-48c9-94fa-093798035995\">\n",
              "    <div class=\"colab-df-container\">\n",
              "      <div>\n",
              "<style scoped>\n",
              "    .dataframe tbody tr th:only-of-type {\n",
              "        vertical-align: middle;\n",
              "    }\n",
              "\n",
              "    .dataframe tbody tr th {\n",
              "        vertical-align: top;\n",
              "    }\n",
              "\n",
              "    .dataframe thead th {\n",
              "        text-align: right;\n",
              "    }\n",
              "</style>\n",
              "<table border=\"1\" class=\"dataframe\">\n",
              "  <thead>\n",
              "    <tr style=\"text-align: right;\">\n",
              "      <th></th>\n",
              "      <th>date</th>\n",
              "      <th>open</th>\n",
              "      <th>high</th>\n",
              "      <th>low</th>\n",
              "      <th>close</th>\n",
              "      <th>volume</th>\n",
              "      <th>Name</th>\n",
              "    </tr>\n",
              "  </thead>\n",
              "  <tbody>\n",
              "    <tr>\n",
              "      <th>0</th>\n",
              "      <td>2013-02-08</td>\n",
              "      <td>15.07</td>\n",
              "      <td>15.12</td>\n",
              "      <td>14.63</td>\n",
              "      <td>14.75</td>\n",
              "      <td>8407500</td>\n",
              "      <td>AAL</td>\n",
              "    </tr>\n",
              "    <tr>\n",
              "      <th>1</th>\n",
              "      <td>2013-02-11</td>\n",
              "      <td>14.89</td>\n",
              "      <td>15.01</td>\n",
              "      <td>14.26</td>\n",
              "      <td>14.46</td>\n",
              "      <td>8882000</td>\n",
              "      <td>AAL</td>\n",
              "    </tr>\n",
              "    <tr>\n",
              "      <th>2</th>\n",
              "      <td>2013-02-12</td>\n",
              "      <td>14.45</td>\n",
              "      <td>14.51</td>\n",
              "      <td>14.10</td>\n",
              "      <td>14.27</td>\n",
              "      <td>8126000</td>\n",
              "      <td>AAL</td>\n",
              "    </tr>\n",
              "    <tr>\n",
              "      <th>3</th>\n",
              "      <td>2013-02-13</td>\n",
              "      <td>14.30</td>\n",
              "      <td>14.94</td>\n",
              "      <td>14.25</td>\n",
              "      <td>14.66</td>\n",
              "      <td>10259500</td>\n",
              "      <td>AAL</td>\n",
              "    </tr>\n",
              "    <tr>\n",
              "      <th>4</th>\n",
              "      <td>2013-02-14</td>\n",
              "      <td>14.94</td>\n",
              "      <td>14.96</td>\n",
              "      <td>13.16</td>\n",
              "      <td>13.99</td>\n",
              "      <td>31879900</td>\n",
              "      <td>AAL</td>\n",
              "    </tr>\n",
              "    <tr>\n",
              "      <th>5</th>\n",
              "      <td>2013-02-15</td>\n",
              "      <td>13.93</td>\n",
              "      <td>14.61</td>\n",
              "      <td>13.93</td>\n",
              "      <td>14.50</td>\n",
              "      <td>15628000</td>\n",
              "      <td>AAL</td>\n",
              "    </tr>\n",
              "    <tr>\n",
              "      <th>6</th>\n",
              "      <td>2013-02-19</td>\n",
              "      <td>14.33</td>\n",
              "      <td>14.56</td>\n",
              "      <td>14.08</td>\n",
              "      <td>14.26</td>\n",
              "      <td>11354400</td>\n",
              "      <td>AAL</td>\n",
              "    </tr>\n",
              "    <tr>\n",
              "      <th>7</th>\n",
              "      <td>2013-02-20</td>\n",
              "      <td>14.17</td>\n",
              "      <td>14.26</td>\n",
              "      <td>13.15</td>\n",
              "      <td>13.33</td>\n",
              "      <td>14725200</td>\n",
              "      <td>AAL</td>\n",
              "    </tr>\n",
              "    <tr>\n",
              "      <th>8</th>\n",
              "      <td>2013-02-21</td>\n",
              "      <td>13.62</td>\n",
              "      <td>13.95</td>\n",
              "      <td>12.90</td>\n",
              "      <td>13.37</td>\n",
              "      <td>11922100</td>\n",
              "      <td>AAL</td>\n",
              "    </tr>\n",
              "    <tr>\n",
              "      <th>9</th>\n",
              "      <td>2013-02-22</td>\n",
              "      <td>13.57</td>\n",
              "      <td>13.60</td>\n",
              "      <td>13.21</td>\n",
              "      <td>13.57</td>\n",
              "      <td>6071400</td>\n",
              "      <td>AAL</td>\n",
              "    </tr>\n",
              "  </tbody>\n",
              "</table>\n",
              "</div>\n",
              "      <button class=\"colab-df-convert\" onclick=\"convertToInteractive('df-9c89820c-01c6-48c9-94fa-093798035995')\"\n",
              "              title=\"Convert this dataframe to an interactive table.\"\n",
              "              style=\"display:none;\">\n",
              "        \n",
              "  <svg xmlns=\"http://www.w3.org/2000/svg\" height=\"24px\"viewBox=\"0 0 24 24\"\n",
              "       width=\"24px\">\n",
              "    <path d=\"M0 0h24v24H0V0z\" fill=\"none\"/>\n",
              "    <path d=\"M18.56 5.44l.94 2.06.94-2.06 2.06-.94-2.06-.94-.94-2.06-.94 2.06-2.06.94zm-11 1L8.5 8.5l.94-2.06 2.06-.94-2.06-.94L8.5 2.5l-.94 2.06-2.06.94zm10 10l.94 2.06.94-2.06 2.06-.94-2.06-.94-.94-2.06-.94 2.06-2.06.94z\"/><path d=\"M17.41 7.96l-1.37-1.37c-.4-.4-.92-.59-1.43-.59-.52 0-1.04.2-1.43.59L10.3 9.45l-7.72 7.72c-.78.78-.78 2.05 0 2.83L4 21.41c.39.39.9.59 1.41.59.51 0 1.02-.2 1.41-.59l7.78-7.78 2.81-2.81c.8-.78.8-2.07 0-2.86zM5.41 20L4 18.59l7.72-7.72 1.47 1.35L5.41 20z\"/>\n",
              "  </svg>\n",
              "      </button>\n",
              "      \n",
              "  <style>\n",
              "    .colab-df-container {\n",
              "      display:flex;\n",
              "      flex-wrap:wrap;\n",
              "      gap: 12px;\n",
              "    }\n",
              "\n",
              "    .colab-df-convert {\n",
              "      background-color: #E8F0FE;\n",
              "      border: none;\n",
              "      border-radius: 50%;\n",
              "      cursor: pointer;\n",
              "      display: none;\n",
              "      fill: #1967D2;\n",
              "      height: 32px;\n",
              "      padding: 0 0 0 0;\n",
              "      width: 32px;\n",
              "    }\n",
              "\n",
              "    .colab-df-convert:hover {\n",
              "      background-color: #E2EBFA;\n",
              "      box-shadow: 0px 1px 2px rgba(60, 64, 67, 0.3), 0px 1px 3px 1px rgba(60, 64, 67, 0.15);\n",
              "      fill: #174EA6;\n",
              "    }\n",
              "\n",
              "    [theme=dark] .colab-df-convert {\n",
              "      background-color: #3B4455;\n",
              "      fill: #D2E3FC;\n",
              "    }\n",
              "\n",
              "    [theme=dark] .colab-df-convert:hover {\n",
              "      background-color: #434B5C;\n",
              "      box-shadow: 0px 1px 3px 1px rgba(0, 0, 0, 0.15);\n",
              "      filter: drop-shadow(0px 1px 2px rgba(0, 0, 0, 0.3));\n",
              "      fill: #FFFFFF;\n",
              "    }\n",
              "  </style>\n",
              "\n",
              "      <script>\n",
              "        const buttonEl =\n",
              "          document.querySelector('#df-9c89820c-01c6-48c9-94fa-093798035995 button.colab-df-convert');\n",
              "        buttonEl.style.display =\n",
              "          google.colab.kernel.accessAllowed ? 'block' : 'none';\n",
              "\n",
              "        async function convertToInteractive(key) {\n",
              "          const element = document.querySelector('#df-9c89820c-01c6-48c9-94fa-093798035995');\n",
              "          const dataTable =\n",
              "            await google.colab.kernel.invokeFunction('convertToInteractive',\n",
              "                                                     [key], {});\n",
              "          if (!dataTable) return;\n",
              "\n",
              "          const docLinkHtml = 'Like what you see? Visit the ' +\n",
              "            '<a target=\"_blank\" href=https://colab.research.google.com/notebooks/data_table.ipynb>data table notebook</a>'\n",
              "            + ' to learn more about interactive tables.';\n",
              "          element.innerHTML = '';\n",
              "          dataTable['output_type'] = 'display_data';\n",
              "          await google.colab.output.renderOutput(dataTable, element);\n",
              "          const docLink = document.createElement('div');\n",
              "          docLink.innerHTML = docLinkHtml;\n",
              "          element.appendChild(docLink);\n",
              "        }\n",
              "      </script>\n",
              "    </div>\n",
              "  </div>\n",
              "  "
            ]
          },
          "metadata": {},
          "execution_count": 8
        }
      ],
      "source": [
        "df = read_csv('/content/all_stocks_5yr.csv')\n",
        "df.head(10)"
      ]
    },
    {
      "cell_type": "code",
      "source": [
        "df_2=pd.read_csv('/content/all_stocks_5yr.csv')\n",
        "df_2.head()"
      ],
      "metadata": {
        "id": "NvZY9swUfjAV",
        "colab": {
          "base_uri": "https://localhost:8080/",
          "height": 206
        },
        "outputId": "7a2a8ffb-81b1-4d25-d77d-3d088338f3e1"
      },
      "execution_count": null,
      "outputs": [
        {
          "output_type": "execute_result",
          "data": {
            "text/plain": [
              "         date   open   high    low  close    volume Name\n",
              "0  2013-02-08  15.07  15.12  14.63  14.75   8407500  AAL\n",
              "1  2013-02-11  14.89  15.01  14.26  14.46   8882000  AAL\n",
              "2  2013-02-12  14.45  14.51  14.10  14.27   8126000  AAL\n",
              "3  2013-02-13  14.30  14.94  14.25  14.66  10259500  AAL\n",
              "4  2013-02-14  14.94  14.96  13.16  13.99  31879900  AAL"
            ],
            "text/html": [
              "\n",
              "  <div id=\"df-4b807f0d-3efc-4779-96fe-310a6cdfa0b5\">\n",
              "    <div class=\"colab-df-container\">\n",
              "      <div>\n",
              "<style scoped>\n",
              "    .dataframe tbody tr th:only-of-type {\n",
              "        vertical-align: middle;\n",
              "    }\n",
              "\n",
              "    .dataframe tbody tr th {\n",
              "        vertical-align: top;\n",
              "    }\n",
              "\n",
              "    .dataframe thead th {\n",
              "        text-align: right;\n",
              "    }\n",
              "</style>\n",
              "<table border=\"1\" class=\"dataframe\">\n",
              "  <thead>\n",
              "    <tr style=\"text-align: right;\">\n",
              "      <th></th>\n",
              "      <th>date</th>\n",
              "      <th>open</th>\n",
              "      <th>high</th>\n",
              "      <th>low</th>\n",
              "      <th>close</th>\n",
              "      <th>volume</th>\n",
              "      <th>Name</th>\n",
              "    </tr>\n",
              "  </thead>\n",
              "  <tbody>\n",
              "    <tr>\n",
              "      <th>0</th>\n",
              "      <td>2013-02-08</td>\n",
              "      <td>15.07</td>\n",
              "      <td>15.12</td>\n",
              "      <td>14.63</td>\n",
              "      <td>14.75</td>\n",
              "      <td>8407500</td>\n",
              "      <td>AAL</td>\n",
              "    </tr>\n",
              "    <tr>\n",
              "      <th>1</th>\n",
              "      <td>2013-02-11</td>\n",
              "      <td>14.89</td>\n",
              "      <td>15.01</td>\n",
              "      <td>14.26</td>\n",
              "      <td>14.46</td>\n",
              "      <td>8882000</td>\n",
              "      <td>AAL</td>\n",
              "    </tr>\n",
              "    <tr>\n",
              "      <th>2</th>\n",
              "      <td>2013-02-12</td>\n",
              "      <td>14.45</td>\n",
              "      <td>14.51</td>\n",
              "      <td>14.10</td>\n",
              "      <td>14.27</td>\n",
              "      <td>8126000</td>\n",
              "      <td>AAL</td>\n",
              "    </tr>\n",
              "    <tr>\n",
              "      <th>3</th>\n",
              "      <td>2013-02-13</td>\n",
              "      <td>14.30</td>\n",
              "      <td>14.94</td>\n",
              "      <td>14.25</td>\n",
              "      <td>14.66</td>\n",
              "      <td>10259500</td>\n",
              "      <td>AAL</td>\n",
              "    </tr>\n",
              "    <tr>\n",
              "      <th>4</th>\n",
              "      <td>2013-02-14</td>\n",
              "      <td>14.94</td>\n",
              "      <td>14.96</td>\n",
              "      <td>13.16</td>\n",
              "      <td>13.99</td>\n",
              "      <td>31879900</td>\n",
              "      <td>AAL</td>\n",
              "    </tr>\n",
              "  </tbody>\n",
              "</table>\n",
              "</div>\n",
              "      <button class=\"colab-df-convert\" onclick=\"convertToInteractive('df-4b807f0d-3efc-4779-96fe-310a6cdfa0b5')\"\n",
              "              title=\"Convert this dataframe to an interactive table.\"\n",
              "              style=\"display:none;\">\n",
              "        \n",
              "  <svg xmlns=\"http://www.w3.org/2000/svg\" height=\"24px\"viewBox=\"0 0 24 24\"\n",
              "       width=\"24px\">\n",
              "    <path d=\"M0 0h24v24H0V0z\" fill=\"none\"/>\n",
              "    <path d=\"M18.56 5.44l.94 2.06.94-2.06 2.06-.94-2.06-.94-.94-2.06-.94 2.06-2.06.94zm-11 1L8.5 8.5l.94-2.06 2.06-.94-2.06-.94L8.5 2.5l-.94 2.06-2.06.94zm10 10l.94 2.06.94-2.06 2.06-.94-2.06-.94-.94-2.06-.94 2.06-2.06.94z\"/><path d=\"M17.41 7.96l-1.37-1.37c-.4-.4-.92-.59-1.43-.59-.52 0-1.04.2-1.43.59L10.3 9.45l-7.72 7.72c-.78.78-.78 2.05 0 2.83L4 21.41c.39.39.9.59 1.41.59.51 0 1.02-.2 1.41-.59l7.78-7.78 2.81-2.81c.8-.78.8-2.07 0-2.86zM5.41 20L4 18.59l7.72-7.72 1.47 1.35L5.41 20z\"/>\n",
              "  </svg>\n",
              "      </button>\n",
              "      \n",
              "  <style>\n",
              "    .colab-df-container {\n",
              "      display:flex;\n",
              "      flex-wrap:wrap;\n",
              "      gap: 12px;\n",
              "    }\n",
              "\n",
              "    .colab-df-convert {\n",
              "      background-color: #E8F0FE;\n",
              "      border: none;\n",
              "      border-radius: 50%;\n",
              "      cursor: pointer;\n",
              "      display: none;\n",
              "      fill: #1967D2;\n",
              "      height: 32px;\n",
              "      padding: 0 0 0 0;\n",
              "      width: 32px;\n",
              "    }\n",
              "\n",
              "    .colab-df-convert:hover {\n",
              "      background-color: #E2EBFA;\n",
              "      box-shadow: 0px 1px 2px rgba(60, 64, 67, 0.3), 0px 1px 3px 1px rgba(60, 64, 67, 0.15);\n",
              "      fill: #174EA6;\n",
              "    }\n",
              "\n",
              "    [theme=dark] .colab-df-convert {\n",
              "      background-color: #3B4455;\n",
              "      fill: #D2E3FC;\n",
              "    }\n",
              "\n",
              "    [theme=dark] .colab-df-convert:hover {\n",
              "      background-color: #434B5C;\n",
              "      box-shadow: 0px 1px 3px 1px rgba(0, 0, 0, 0.15);\n",
              "      filter: drop-shadow(0px 1px 2px rgba(0, 0, 0, 0.3));\n",
              "      fill: #FFFFFF;\n",
              "    }\n",
              "  </style>\n",
              "\n",
              "      <script>\n",
              "        const buttonEl =\n",
              "          document.querySelector('#df-4b807f0d-3efc-4779-96fe-310a6cdfa0b5 button.colab-df-convert');\n",
              "        buttonEl.style.display =\n",
              "          google.colab.kernel.accessAllowed ? 'block' : 'none';\n",
              "\n",
              "        async function convertToInteractive(key) {\n",
              "          const element = document.querySelector('#df-4b807f0d-3efc-4779-96fe-310a6cdfa0b5');\n",
              "          const dataTable =\n",
              "            await google.colab.kernel.invokeFunction('convertToInteractive',\n",
              "                                                     [key], {});\n",
              "          if (!dataTable) return;\n",
              "\n",
              "          const docLinkHtml = 'Like what you see? Visit the ' +\n",
              "            '<a target=\"_blank\" href=https://colab.research.google.com/notebooks/data_table.ipynb>data table notebook</a>'\n",
              "            + ' to learn more about interactive tables.';\n",
              "          element.innerHTML = '';\n",
              "          dataTable['output_type'] = 'display_data';\n",
              "          await google.colab.output.renderOutput(dataTable, element);\n",
              "          const docLink = document.createElement('div');\n",
              "          docLink.innerHTML = docLinkHtml;\n",
              "          element.appendChild(docLink);\n",
              "        }\n",
              "      </script>\n",
              "    </div>\n",
              "  </div>\n",
              "  "
            ]
          },
          "metadata": {},
          "execution_count": 9
        }
      ]
    },
    {
      "cell_type": "code",
      "execution_count": null,
      "metadata": {
        "colab": {
          "base_uri": "https://localhost:8080/"
        },
        "id": "qBZ2Q-OCoHR2",
        "outputId": "6d4f503c-ffb7-44b3-b80c-f8492c94ec6c"
      },
      "outputs": [
        {
          "output_type": "execute_result",
          "data": {
            "text/plain": [
              "(619040, 7)"
            ]
          },
          "metadata": {},
          "execution_count": 10
        }
      ],
      "source": [
        "df.shape"
      ]
    },
    {
      "cell_type": "code",
      "execution_count": null,
      "metadata": {
        "id": "M-Zd1eGXuqkC"
      },
      "outputs": [],
      "source": [
        "df = df.set_index('date')#we set the date column as index"
      ]
    },
    {
      "cell_type": "markdown",
      "metadata": {
        "id": "0RWe4co-1WlZ"
      },
      "source": [
        "      Exploratory Data Analysis"
      ]
    },
    {
      "cell_type": "code",
      "execution_count": null,
      "metadata": {
        "colab": {
          "base_uri": "https://localhost:8080/",
          "height": 237
        },
        "id": "V2VuumfwsiRy",
        "outputId": "79f7623f-3da4-4d6c-af03-aab66ae24713"
      },
      "outputs": [
        {
          "output_type": "execute_result",
          "data": {
            "text/plain": [
              "             open   high    low  close    volume Name  changeduringday  \\\n",
              "date                                                                     \n",
              "2013-02-08  15.07  15.12  14.63  14.75   8407500  AAL         3.349282   \n",
              "2013-02-11  14.89  15.01  14.26  14.46   8882000  AAL         5.259467   \n",
              "2013-02-12  14.45  14.51  14.10  14.27   8126000  AAL         2.907801   \n",
              "2013-02-13  14.30  14.94  14.25  14.66  10259500  AAL         4.842105   \n",
              "2013-02-14  14.94  14.96  13.16  13.99  31879900  AAL        13.677812   \n",
              "\n",
              "            changefrompreviousday  \n",
              "date                               \n",
              "2013-02-08                    NaN  \n",
              "2013-02-11               2.005533  \n",
              "2013-02-12               1.331465  \n",
              "2013-02-13               2.660300  \n",
              "2013-02-14               4.789135  "
            ],
            "text/html": [
              "\n",
              "  <div id=\"df-a7c10839-0c36-4074-ab4c-7342102fa161\">\n",
              "    <div class=\"colab-df-container\">\n",
              "      <div>\n",
              "<style scoped>\n",
              "    .dataframe tbody tr th:only-of-type {\n",
              "        vertical-align: middle;\n",
              "    }\n",
              "\n",
              "    .dataframe tbody tr th {\n",
              "        vertical-align: top;\n",
              "    }\n",
              "\n",
              "    .dataframe thead th {\n",
              "        text-align: right;\n",
              "    }\n",
              "</style>\n",
              "<table border=\"1\" class=\"dataframe\">\n",
              "  <thead>\n",
              "    <tr style=\"text-align: right;\">\n",
              "      <th></th>\n",
              "      <th>open</th>\n",
              "      <th>high</th>\n",
              "      <th>low</th>\n",
              "      <th>close</th>\n",
              "      <th>volume</th>\n",
              "      <th>Name</th>\n",
              "      <th>changeduringday</th>\n",
              "      <th>changefrompreviousday</th>\n",
              "    </tr>\n",
              "    <tr>\n",
              "      <th>date</th>\n",
              "      <th></th>\n",
              "      <th></th>\n",
              "      <th></th>\n",
              "      <th></th>\n",
              "      <th></th>\n",
              "      <th></th>\n",
              "      <th></th>\n",
              "      <th></th>\n",
              "    </tr>\n",
              "  </thead>\n",
              "  <tbody>\n",
              "    <tr>\n",
              "      <th>2013-02-08</th>\n",
              "      <td>15.07</td>\n",
              "      <td>15.12</td>\n",
              "      <td>14.63</td>\n",
              "      <td>14.75</td>\n",
              "      <td>8407500</td>\n",
              "      <td>AAL</td>\n",
              "      <td>3.349282</td>\n",
              "      <td>NaN</td>\n",
              "    </tr>\n",
              "    <tr>\n",
              "      <th>2013-02-11</th>\n",
              "      <td>14.89</td>\n",
              "      <td>15.01</td>\n",
              "      <td>14.26</td>\n",
              "      <td>14.46</td>\n",
              "      <td>8882000</td>\n",
              "      <td>AAL</td>\n",
              "      <td>5.259467</td>\n",
              "      <td>2.005533</td>\n",
              "    </tr>\n",
              "    <tr>\n",
              "      <th>2013-02-12</th>\n",
              "      <td>14.45</td>\n",
              "      <td>14.51</td>\n",
              "      <td>14.10</td>\n",
              "      <td>14.27</td>\n",
              "      <td>8126000</td>\n",
              "      <td>AAL</td>\n",
              "      <td>2.907801</td>\n",
              "      <td>1.331465</td>\n",
              "    </tr>\n",
              "    <tr>\n",
              "      <th>2013-02-13</th>\n",
              "      <td>14.30</td>\n",
              "      <td>14.94</td>\n",
              "      <td>14.25</td>\n",
              "      <td>14.66</td>\n",
              "      <td>10259500</td>\n",
              "      <td>AAL</td>\n",
              "      <td>4.842105</td>\n",
              "      <td>2.660300</td>\n",
              "    </tr>\n",
              "    <tr>\n",
              "      <th>2013-02-14</th>\n",
              "      <td>14.94</td>\n",
              "      <td>14.96</td>\n",
              "      <td>13.16</td>\n",
              "      <td>13.99</td>\n",
              "      <td>31879900</td>\n",
              "      <td>AAL</td>\n",
              "      <td>13.677812</td>\n",
              "      <td>4.789135</td>\n",
              "    </tr>\n",
              "  </tbody>\n",
              "</table>\n",
              "</div>\n",
              "      <button class=\"colab-df-convert\" onclick=\"convertToInteractive('df-a7c10839-0c36-4074-ab4c-7342102fa161')\"\n",
              "              title=\"Convert this dataframe to an interactive table.\"\n",
              "              style=\"display:none;\">\n",
              "        \n",
              "  <svg xmlns=\"http://www.w3.org/2000/svg\" height=\"24px\"viewBox=\"0 0 24 24\"\n",
              "       width=\"24px\">\n",
              "    <path d=\"M0 0h24v24H0V0z\" fill=\"none\"/>\n",
              "    <path d=\"M18.56 5.44l.94 2.06.94-2.06 2.06-.94-2.06-.94-.94-2.06-.94 2.06-2.06.94zm-11 1L8.5 8.5l.94-2.06 2.06-.94-2.06-.94L8.5 2.5l-.94 2.06-2.06.94zm10 10l.94 2.06.94-2.06 2.06-.94-2.06-.94-.94-2.06-.94 2.06-2.06.94z\"/><path d=\"M17.41 7.96l-1.37-1.37c-.4-.4-.92-.59-1.43-.59-.52 0-1.04.2-1.43.59L10.3 9.45l-7.72 7.72c-.78.78-.78 2.05 0 2.83L4 21.41c.39.39.9.59 1.41.59.51 0 1.02-.2 1.41-.59l7.78-7.78 2.81-2.81c.8-.78.8-2.07 0-2.86zM5.41 20L4 18.59l7.72-7.72 1.47 1.35L5.41 20z\"/>\n",
              "  </svg>\n",
              "      </button>\n",
              "      \n",
              "  <style>\n",
              "    .colab-df-container {\n",
              "      display:flex;\n",
              "      flex-wrap:wrap;\n",
              "      gap: 12px;\n",
              "    }\n",
              "\n",
              "    .colab-df-convert {\n",
              "      background-color: #E8F0FE;\n",
              "      border: none;\n",
              "      border-radius: 50%;\n",
              "      cursor: pointer;\n",
              "      display: none;\n",
              "      fill: #1967D2;\n",
              "      height: 32px;\n",
              "      padding: 0 0 0 0;\n",
              "      width: 32px;\n",
              "    }\n",
              "\n",
              "    .colab-df-convert:hover {\n",
              "      background-color: #E2EBFA;\n",
              "      box-shadow: 0px 1px 2px rgba(60, 64, 67, 0.3), 0px 1px 3px 1px rgba(60, 64, 67, 0.15);\n",
              "      fill: #174EA6;\n",
              "    }\n",
              "\n",
              "    [theme=dark] .colab-df-convert {\n",
              "      background-color: #3B4455;\n",
              "      fill: #D2E3FC;\n",
              "    }\n",
              "\n",
              "    [theme=dark] .colab-df-convert:hover {\n",
              "      background-color: #434B5C;\n",
              "      box-shadow: 0px 1px 3px 1px rgba(0, 0, 0, 0.15);\n",
              "      filter: drop-shadow(0px 1px 2px rgba(0, 0, 0, 0.3));\n",
              "      fill: #FFFFFF;\n",
              "    }\n",
              "  </style>\n",
              "\n",
              "      <script>\n",
              "        const buttonEl =\n",
              "          document.querySelector('#df-a7c10839-0c36-4074-ab4c-7342102fa161 button.colab-df-convert');\n",
              "        buttonEl.style.display =\n",
              "          google.colab.kernel.accessAllowed ? 'block' : 'none';\n",
              "\n",
              "        async function convertToInteractive(key) {\n",
              "          const element = document.querySelector('#df-a7c10839-0c36-4074-ab4c-7342102fa161');\n",
              "          const dataTable =\n",
              "            await google.colab.kernel.invokeFunction('convertToInteractive',\n",
              "                                                     [key], {});\n",
              "          if (!dataTable) return;\n",
              "\n",
              "          const docLinkHtml = 'Like what you see? Visit the ' +\n",
              "            '<a target=\"_blank\" href=https://colab.research.google.com/notebooks/data_table.ipynb>data table notebook</a>'\n",
              "            + ' to learn more about interactive tables.';\n",
              "          element.innerHTML = '';\n",
              "          dataTable['output_type'] = 'display_data';\n",
              "          await google.colab.output.renderOutput(dataTable, element);\n",
              "          const docLink = document.createElement('div');\n",
              "          docLink.innerHTML = docLinkHtml;\n",
              "          element.appendChild(docLink);\n",
              "        }\n",
              "      </script>\n",
              "    </div>\n",
              "  </div>\n",
              "  "
            ]
          },
          "metadata": {},
          "execution_count": 12
        }
      ],
      "source": [
        "# Calulating daily Daily_return#creating new features\n",
        "#df['Daily_return'] = df['close']/df['open']-1 \n",
        "df['changeduringday'] = ((df['high'] - df['low'] )/ df['low'])*100\n",
        "\n",
        "df['changefrompreviousday'] = (abs(df['close'].shift() - df['close'] )/ df['close'])*100\n",
        "df.head()"
      ]
    },
    {
      "cell_type": "code",
      "execution_count": null,
      "metadata": {
        "id": "KQ4apLMwoPPv"
      },
      "outputs": [],
      "source": [
        "#df = df.fillna(method='ffill')#frontfill used to fill the null values"
      ]
    },
    {
      "cell_type": "code",
      "execution_count": null,
      "metadata": {
        "colab": {
          "base_uri": "https://localhost:8080/"
        },
        "id": "WLKzFlP3ocGf",
        "outputId": "8b1ac84c-2f9d-4107-b472-00965fa83000"
      },
      "outputs": [
        {
          "output_type": "execute_result",
          "data": {
            "text/plain": [
              "open                     11\n",
              "high                      8\n",
              "low                       8\n",
              "close                     0\n",
              "volume                    0\n",
              "Name                      0\n",
              "changeduringday           8\n",
              "changefrompreviousday     1\n",
              "dtype: int64"
            ]
          },
          "metadata": {},
          "execution_count": 13
        }
      ],
      "source": [
        "df.isnull().sum()#all null values filled"
      ]
    },
    {
      "cell_type": "code",
      "source": [
        "df = df.fillna(method='ffill')#frontfill used to fill the null values"
      ],
      "metadata": {
        "id": "0ZETZpuWZL4L"
      },
      "execution_count": null,
      "outputs": []
    },
    {
      "cell_type": "code",
      "execution_count": null,
      "metadata": {
        "colab": {
          "base_uri": "https://localhost:8080/"
        },
        "id": "NLAfdvmpHhtT",
        "outputId": "77e48afe-9967-4895-f1b5-da8b1b2bad9a"
      },
      "outputs": [
        {
          "output_type": "execute_result",
          "data": {
            "text/plain": [
              "open                     0\n",
              "high                     0\n",
              "low                      0\n",
              "close                    0\n",
              "volume                   0\n",
              "Name                     0\n",
              "changeduringday          0\n",
              "changefrompreviousday    0\n",
              "dtype: int64"
            ]
          },
          "metadata": {},
          "execution_count": 15
        }
      ],
      "source": [
        "df = df.dropna()#dropped the one null values which was NaN\n",
        "df.isnull().sum()"
      ]
    },
    {
      "cell_type": "code",
      "execution_count": null,
      "metadata": {
        "colab": {
          "base_uri": "https://localhost:8080/"
        },
        "id": "Aerfk08woe-E",
        "outputId": "6adc6ae6-ef86-4baf-c5c1-d967be944d92"
      },
      "outputs": [
        {
          "output_type": "execute_result",
          "data": {
            "text/plain": [
              "5"
            ]
          },
          "metadata": {},
          "execution_count": 16
        }
      ],
      "source": [
        "df.duplicated().sum()"
      ]
    },
    {
      "cell_type": "code",
      "execution_count": null,
      "metadata": {
        "colab": {
          "base_uri": "https://localhost:8080/"
        },
        "id": "Ex-9oPz_12ZB",
        "outputId": "00ffef3f-a0f3-4cb5-c3d2-305aec0e6cfb"
      },
      "outputs": [
        {
          "output_type": "execute_result",
          "data": {
            "text/plain": [
              "0"
            ]
          },
          "metadata": {},
          "execution_count": 17
        }
      ],
      "source": [
        "df = df.drop_duplicates()\n",
        "df.duplicated().sum()"
      ]
    },
    {
      "cell_type": "code",
      "execution_count": null,
      "metadata": {
        "id": "NO_HuiNRory1"
      },
      "outputs": [],
      "source": [
        "value = df.quantile(0.98)#if eg:2.3456785674675..... then it will be converted to 98% of 2.3456785674675.....\n",
        "df = df.replace(np.inf, value)#replace that values with infinite value"
      ]
    },
    {
      "cell_type": "code",
      "execution_count": null,
      "metadata": {
        "colab": {
          "base_uri": "https://localhost:8080/",
          "height": 300
        },
        "id": "yxHndAQAqJTL",
        "outputId": "1a33f29f-e225-4654-d755-f4a4047599c2"
      },
      "outputs": [
        {
          "output_type": "execute_result",
          "data": {
            "text/plain": [
              "                open           high            low          close  \\\n",
              "count  619034.000000  619034.000000  619034.000000  619034.000000   \n",
              "mean       83.024009      83.779099      82.256845      83.043940   \n",
              "std        97.380144      98.209108      96.508914      97.390171   \n",
              "min         1.620000       1.690000       1.500000       1.590000   \n",
              "25%        40.220000      40.620000      39.830000      40.245000   \n",
              "50%        62.590000      63.150000      62.020000      62.620000   \n",
              "75%        94.370000      95.180000      93.540000      94.410000   \n",
              "max      2044.000000    2067.990000    2035.110000    2049.000000   \n",
              "\n",
              "             volume  changeduringday  changefrompreviousday  \n",
              "count  6.190340e+05    619034.000000          619034.000000  \n",
              "mean   4.321839e+06         1.936899               1.240529  \n",
              "std    8.693646e+06         1.462067              16.333592  \n",
              "min    0.000000e+00        -1.069182               0.000000  \n",
              "25%    1.070328e+06         1.176471               0.333948  \n",
              "50%    2.082094e+06         1.620426               0.748628  \n",
              "75%    4.284514e+06         2.304856               1.406695  \n",
              "max    6.182376e+08       596.666667            8183.354839  "
            ],
            "text/html": [
              "\n",
              "  <div id=\"df-b6a65f0e-3c7c-42a0-ad27-eb92a7ae1476\">\n",
              "    <div class=\"colab-df-container\">\n",
              "      <div>\n",
              "<style scoped>\n",
              "    .dataframe tbody tr th:only-of-type {\n",
              "        vertical-align: middle;\n",
              "    }\n",
              "\n",
              "    .dataframe tbody tr th {\n",
              "        vertical-align: top;\n",
              "    }\n",
              "\n",
              "    .dataframe thead th {\n",
              "        text-align: right;\n",
              "    }\n",
              "</style>\n",
              "<table border=\"1\" class=\"dataframe\">\n",
              "  <thead>\n",
              "    <tr style=\"text-align: right;\">\n",
              "      <th></th>\n",
              "      <th>open</th>\n",
              "      <th>high</th>\n",
              "      <th>low</th>\n",
              "      <th>close</th>\n",
              "      <th>volume</th>\n",
              "      <th>changeduringday</th>\n",
              "      <th>changefrompreviousday</th>\n",
              "    </tr>\n",
              "  </thead>\n",
              "  <tbody>\n",
              "    <tr>\n",
              "      <th>count</th>\n",
              "      <td>619034.000000</td>\n",
              "      <td>619034.000000</td>\n",
              "      <td>619034.000000</td>\n",
              "      <td>619034.000000</td>\n",
              "      <td>6.190340e+05</td>\n",
              "      <td>619034.000000</td>\n",
              "      <td>619034.000000</td>\n",
              "    </tr>\n",
              "    <tr>\n",
              "      <th>mean</th>\n",
              "      <td>83.024009</td>\n",
              "      <td>83.779099</td>\n",
              "      <td>82.256845</td>\n",
              "      <td>83.043940</td>\n",
              "      <td>4.321839e+06</td>\n",
              "      <td>1.936899</td>\n",
              "      <td>1.240529</td>\n",
              "    </tr>\n",
              "    <tr>\n",
              "      <th>std</th>\n",
              "      <td>97.380144</td>\n",
              "      <td>98.209108</td>\n",
              "      <td>96.508914</td>\n",
              "      <td>97.390171</td>\n",
              "      <td>8.693646e+06</td>\n",
              "      <td>1.462067</td>\n",
              "      <td>16.333592</td>\n",
              "    </tr>\n",
              "    <tr>\n",
              "      <th>min</th>\n",
              "      <td>1.620000</td>\n",
              "      <td>1.690000</td>\n",
              "      <td>1.500000</td>\n",
              "      <td>1.590000</td>\n",
              "      <td>0.000000e+00</td>\n",
              "      <td>-1.069182</td>\n",
              "      <td>0.000000</td>\n",
              "    </tr>\n",
              "    <tr>\n",
              "      <th>25%</th>\n",
              "      <td>40.220000</td>\n",
              "      <td>40.620000</td>\n",
              "      <td>39.830000</td>\n",
              "      <td>40.245000</td>\n",
              "      <td>1.070328e+06</td>\n",
              "      <td>1.176471</td>\n",
              "      <td>0.333948</td>\n",
              "    </tr>\n",
              "    <tr>\n",
              "      <th>50%</th>\n",
              "      <td>62.590000</td>\n",
              "      <td>63.150000</td>\n",
              "      <td>62.020000</td>\n",
              "      <td>62.620000</td>\n",
              "      <td>2.082094e+06</td>\n",
              "      <td>1.620426</td>\n",
              "      <td>0.748628</td>\n",
              "    </tr>\n",
              "    <tr>\n",
              "      <th>75%</th>\n",
              "      <td>94.370000</td>\n",
              "      <td>95.180000</td>\n",
              "      <td>93.540000</td>\n",
              "      <td>94.410000</td>\n",
              "      <td>4.284514e+06</td>\n",
              "      <td>2.304856</td>\n",
              "      <td>1.406695</td>\n",
              "    </tr>\n",
              "    <tr>\n",
              "      <th>max</th>\n",
              "      <td>2044.000000</td>\n",
              "      <td>2067.990000</td>\n",
              "      <td>2035.110000</td>\n",
              "      <td>2049.000000</td>\n",
              "      <td>6.182376e+08</td>\n",
              "      <td>596.666667</td>\n",
              "      <td>8183.354839</td>\n",
              "    </tr>\n",
              "  </tbody>\n",
              "</table>\n",
              "</div>\n",
              "      <button class=\"colab-df-convert\" onclick=\"convertToInteractive('df-b6a65f0e-3c7c-42a0-ad27-eb92a7ae1476')\"\n",
              "              title=\"Convert this dataframe to an interactive table.\"\n",
              "              style=\"display:none;\">\n",
              "        \n",
              "  <svg xmlns=\"http://www.w3.org/2000/svg\" height=\"24px\"viewBox=\"0 0 24 24\"\n",
              "       width=\"24px\">\n",
              "    <path d=\"M0 0h24v24H0V0z\" fill=\"none\"/>\n",
              "    <path d=\"M18.56 5.44l.94 2.06.94-2.06 2.06-.94-2.06-.94-.94-2.06-.94 2.06-2.06.94zm-11 1L8.5 8.5l.94-2.06 2.06-.94-2.06-.94L8.5 2.5l-.94 2.06-2.06.94zm10 10l.94 2.06.94-2.06 2.06-.94-2.06-.94-.94-2.06-.94 2.06-2.06.94z\"/><path d=\"M17.41 7.96l-1.37-1.37c-.4-.4-.92-.59-1.43-.59-.52 0-1.04.2-1.43.59L10.3 9.45l-7.72 7.72c-.78.78-.78 2.05 0 2.83L4 21.41c.39.39.9.59 1.41.59.51 0 1.02-.2 1.41-.59l7.78-7.78 2.81-2.81c.8-.78.8-2.07 0-2.86zM5.41 20L4 18.59l7.72-7.72 1.47 1.35L5.41 20z\"/>\n",
              "  </svg>\n",
              "      </button>\n",
              "      \n",
              "  <style>\n",
              "    .colab-df-container {\n",
              "      display:flex;\n",
              "      flex-wrap:wrap;\n",
              "      gap: 12px;\n",
              "    }\n",
              "\n",
              "    .colab-df-convert {\n",
              "      background-color: #E8F0FE;\n",
              "      border: none;\n",
              "      border-radius: 50%;\n",
              "      cursor: pointer;\n",
              "      display: none;\n",
              "      fill: #1967D2;\n",
              "      height: 32px;\n",
              "      padding: 0 0 0 0;\n",
              "      width: 32px;\n",
              "    }\n",
              "\n",
              "    .colab-df-convert:hover {\n",
              "      background-color: #E2EBFA;\n",
              "      box-shadow: 0px 1px 2px rgba(60, 64, 67, 0.3), 0px 1px 3px 1px rgba(60, 64, 67, 0.15);\n",
              "      fill: #174EA6;\n",
              "    }\n",
              "\n",
              "    [theme=dark] .colab-df-convert {\n",
              "      background-color: #3B4455;\n",
              "      fill: #D2E3FC;\n",
              "    }\n",
              "\n",
              "    [theme=dark] .colab-df-convert:hover {\n",
              "      background-color: #434B5C;\n",
              "      box-shadow: 0px 1px 3px 1px rgba(0, 0, 0, 0.15);\n",
              "      filter: drop-shadow(0px 1px 2px rgba(0, 0, 0, 0.3));\n",
              "      fill: #FFFFFF;\n",
              "    }\n",
              "  </style>\n",
              "\n",
              "      <script>\n",
              "        const buttonEl =\n",
              "          document.querySelector('#df-b6a65f0e-3c7c-42a0-ad27-eb92a7ae1476 button.colab-df-convert');\n",
              "        buttonEl.style.display =\n",
              "          google.colab.kernel.accessAllowed ? 'block' : 'none';\n",
              "\n",
              "        async function convertToInteractive(key) {\n",
              "          const element = document.querySelector('#df-b6a65f0e-3c7c-42a0-ad27-eb92a7ae1476');\n",
              "          const dataTable =\n",
              "            await google.colab.kernel.invokeFunction('convertToInteractive',\n",
              "                                                     [key], {});\n",
              "          if (!dataTable) return;\n",
              "\n",
              "          const docLinkHtml = 'Like what you see? Visit the ' +\n",
              "            '<a target=\"_blank\" href=https://colab.research.google.com/notebooks/data_table.ipynb>data table notebook</a>'\n",
              "            + ' to learn more about interactive tables.';\n",
              "          element.innerHTML = '';\n",
              "          dataTable['output_type'] = 'display_data';\n",
              "          await google.colab.output.renderOutput(dataTable, element);\n",
              "          const docLink = document.createElement('div');\n",
              "          docLink.innerHTML = docLinkHtml;\n",
              "          element.appendChild(docLink);\n",
              "        }\n",
              "      </script>\n",
              "    </div>\n",
              "  </div>\n",
              "  "
            ]
          },
          "metadata": {},
          "execution_count": 19
        }
      ],
      "source": [
        "df.describe()"
      ]
    },
    {
      "cell_type": "code",
      "execution_count": null,
      "metadata": {
        "colab": {
          "base_uri": "https://localhost:8080/"
        },
        "id": "EypAsonZqNbd",
        "outputId": "67d170cc-3efc-4a6a-babf-58bf2e749838"
      },
      "outputs": [
        {
          "output_type": "stream",
          "name": "stdout",
          "text": [
            "<class 'pandas.core.frame.DataFrame'>\n",
            "Index: 619034 entries, 2013-02-11 to 2018-02-07\n",
            "Data columns (total 8 columns):\n",
            " #   Column                 Non-Null Count   Dtype  \n",
            "---  ------                 --------------   -----  \n",
            " 0   open                   619034 non-null  float64\n",
            " 1   high                   619034 non-null  float64\n",
            " 2   low                    619034 non-null  float64\n",
            " 3   close                  619034 non-null  float64\n",
            " 4   volume                 619034 non-null  int64  \n",
            " 5   Name                   619034 non-null  object \n",
            " 6   changeduringday        619034 non-null  float64\n",
            " 7   changefrompreviousday  619034 non-null  float64\n",
            "dtypes: float64(6), int64(1), object(1)\n",
            "memory usage: 42.5+ MB\n"
          ]
        }
      ],
      "source": [
        "df.info()"
      ]
    },
    {
      "cell_type": "code",
      "execution_count": null,
      "metadata": {
        "colab": {
          "base_uri": "https://localhost:8080/"
        },
        "id": "4KyJ5xH1xsHT",
        "outputId": "c22c516a-588c-4f32-cb7a-25c29817d039"
      },
      "outputs": [
        {
          "output_type": "execute_result",
          "data": {
            "text/plain": [
              "(1258, 8)"
            ]
          },
          "metadata": {},
          "execution_count": 21
        }
      ],
      "source": [
        "ticker = 'AAL'\n",
        "df_demo = df[df['Name'] == ticker]\n",
        "df_demo.shape"
      ]
    },
    {
      "cell_type": "code",
      "execution_count": null,
      "metadata": {
        "colab": {
          "base_uri": "https://localhost:8080/",
          "height": 282
        },
        "id": "4hY4B-s3vWWL",
        "outputId": "43c2160b-2062-4918-d17f-7d287b667d95"
      },
      "outputs": [
        {
          "output_type": "stream",
          "name": "stdout",
          "text": [
            "Pearsons correlation: 0.998\n"
          ]
        },
        {
          "output_type": "display_data",
          "data": {
            "text/plain": [
              "<Figure size 432x288 with 1 Axes>"
            ],
            "image/png": "[encoded data removed]"
          },
          "metadata": {
            "needs_background": "light"
          }
        }
      ],
      "source": [
        "corr, _ = pearsonr(df_demo['close'],df_demo['open'])\n",
        "print('Pearsons correlation: %.3f' % corr)\n",
        "plt.scatter(df_demo['close'],df_demo['open'])#close is the target column\n",
        "plt.show()\n",
        "#gives corelation between open and close values"
      ]
    },
    {
      "cell_type": "markdown",
      "metadata": {
        "id": "cXOI12fq3lKQ"
      },
      "source": [
        "We can see that the closing price and open price are positively correlated and that the correlation is 0.9. This suggests a high level of correlation, (a value above 0.5 and close to 1.0.)"
      ]
    },
    {
      "cell_type": "code",
      "execution_count": null,
      "metadata": {
        "colab": {
          "base_uri": "https://localhost:8080/",
          "height": 282
        },
        "id": "Y2Q2AD6ry4YO",
        "outputId": "607cabe8-3e78-4457-919c-f89e3483b323"
      },
      "outputs": [
        {
          "output_type": "stream",
          "name": "stdout",
          "text": [
            "Pearsons correlation: 0.999\n"
          ]
        },
        {
          "output_type": "display_data",
          "data": {
            "text/plain": [
              "<Figure size 432x288 with 1 Axes>"
            ],
            "image/png": "[encoded data removed]"
          },
          "metadata": {
            "needs_background": "light"
          }
        }
      ],
      "source": [
        "corr, _ = pearsonr(df_demo['close'],df_demo['high'])\n",
        "print('Pearsons correlation: %.3f' % corr)\n",
        "plt.scatter(df_demo['close'],df_demo['high'])\n",
        "plt.show()"
      ]
    },
    {
      "cell_type": "markdown",
      "metadata": {
        "id": "hYUkhOZX3t5U"
      },
      "source": [
        "We can see that the closing price and high price are positively correlated and that the correlation is 0.99. This suggests a high level of correlation"
      ]
    },
    {
      "cell_type": "code",
      "execution_count": null,
      "metadata": {
        "colab": {
          "base_uri": "https://localhost:8080/",
          "height": 286
        },
        "id": "7XYIA46RzBAq",
        "outputId": "73555a7b-1051-4904-8644-80b8e995300d"
      },
      "outputs": [
        {
          "output_type": "stream",
          "name": "stdout",
          "text": [
            "Pearsons correlation: 0.999\n"
          ]
        },
        {
          "output_type": "display_data",
          "data": {
            "text/plain": [
              "<Figure size 432x288 with 1 Axes>"
            ],
            "image/png": "[encoded data removed]"
          },
          "metadata": {
            "needs_background": "light"
          }
        }
      ],
      "source": [
        "corr, _ = pearsonr(df_demo['close'],df_demo['low'])\n",
        "print('Pearsons correlation: %.3f' % corr)\n",
        "plt.scatter(df_demo['close'],df_demo['low'])\n",
        "plt.show()"
      ]
    },
    {
      "cell_type": "markdown",
      "metadata": {
        "id": "BPeN-t-64F_m"
      },
      "source": [
        "We can see that the closing price and high price are positively correlated and that the correlation is 0.99. This suggests a high level of correlation"
      ]
    },
    {
      "cell_type": "code",
      "execution_count": null,
      "metadata": {
        "colab": {
          "base_uri": "https://localhost:8080/",
          "height": 311
        },
        "id": "vLKfjqqUzGT_",
        "outputId": "9311d417-41e4-4747-96fe-d48a88f8be66"
      },
      "outputs": [
        {
          "output_type": "stream",
          "name": "stdout",
          "text": [
            "Pearsons correlation: -0.005\n",
            "Spearmans correlation: -0.099\n"
          ]
        },
        {
          "output_type": "display_data",
          "data": {
            "text/plain": [
              "<Figure size 432x288 with 1 Axes>"
            ],
            "image/png": "[encoded data removed]"
          },
          "metadata": {
            "needs_background": "light"
          }
        }
      ],
      "source": [
        "corr, _ = pearsonr(df_demo['close'],df_demo['volume'])\n",
        "print('Pearsons correlation: %.3f' % corr)\n",
        "corr, _ = spearmanr(df_demo['close'],df_demo['volume'])\n",
        "print('Spearmans correlation: %.3f' % corr)\n",
        "plt.scatter(df_demo['close'],df_demo['volume'])\n",
        "plt.show()\n",
        "#close and volume are weakly corelated(negatively corelated)"
      ]
    },
    {
      "cell_type": "markdown",
      "metadata": {
        "id": "BPAh6M8i8f2I"
      },
      "source": [
        "      Train-test split :- "
      ]
    },
    {
      "cell_type": "code",
      "execution_count": null,
      "metadata": {
        "id": "SdN1lUNRCqW8"
      },
      "outputs": [],
      "source": [
        "#evaluation function\n",
        "def eval_fun(Y_test,Y_pred):\n",
        "    from sklearn.metrics import r2_score,mean_squared_error,mean_absolute_error\n",
        "    r2 = r2_score(y_test,Y_pred)\n",
        "    mse = mean_squared_error(y_test,Y_pred)\n",
        "    mae = mean_absolute_error(y_test,Y_pred)\n",
        "    return r2, mse, mae"
      ]
    },
    {
      "cell_type": "code",
      "execution_count": null,
      "metadata": {
        "id": "ONqZFEIOkBzX"
      },
      "outputs": [],
      "source": [
        "df = df.drop(['Name','volume'], axis=1)"
      ]
    },
    {
      "cell_type": "code",
      "execution_count": null,
      "metadata": {
        "id": "OO7q2lDPkDsB"
      },
      "outputs": [],
      "source": [
        "#train test split into 80-20\n",
        "x = df.drop(['close'], axis=1)\n",
        "y =  df['close']\n",
        "\n",
        "X_train, X_test, y_train, y_test = train_test_split(x, y, test_size=0.2, random_state=42)\n",
        "                                                                            "
      ]
    },
    {
      "cell_type": "code",
      "execution_count": null,
      "metadata": {
        "colab": {
          "base_uri": "https://localhost:8080/"
        },
        "id": "JdYcH6JqmxKh",
        "outputId": "840b0ac0-f605-4966-eb0e-5a6a55eadd64"
      },
      "outputs": [
        {
          "output_type": "execute_result",
          "data": {
            "text/plain": [
              "((495227, 5), (123807, 5), (495227,), (123807,))"
            ]
          },
          "metadata": {},
          "execution_count": 31
        }
      ],
      "source": [
        "X_train.shape, X_test.shape, y_train.shape, y_test.shape"
      ]
    },
    {
      "cell_type": "code",
      "execution_count": null,
      "metadata": {
        "id": "8FHXsedb-Knh"
      },
      "outputs": [],
      "source": [
        "from sklearn.preprocessing import StandardScaler# it makes all mean=0 and s.d=1\n",
        "sc = StandardScaler()\n",
        "X_train = sc.fit_transform(X_train)\n",
        "X_test = sc.transform(X_test)"
      ]
    },
    {
      "cell_type": "code",
      "execution_count": null,
      "metadata": {
        "id": "oKqdC7Zxj5Og"
      },
      "outputs": [],
      "source": [
        "value = df.quantile(0.98)\n",
        "df = df.replace(np.inf, value)"
      ]
    },
    {
      "cell_type": "code",
      "execution_count": null,
      "metadata": {
        "id": "tVj8vYmHj6wz"
      },
      "outputs": [],
      "source": [
        "#print(X_train.astype(np.float32))\n",
        "X_train = np.nan_to_num(X_train.astype(np.float32))# to remove the float 32 error"
      ]
    },
    {
      "cell_type": "markdown",
      "metadata": {
        "id": "l5sB348uefC2"
      },
      "source": [
        "      Appling linear regression here"
      ]
    },
    {
      "cell_type": "code",
      "execution_count": null,
      "metadata": {
        "colab": {
          "base_uri": "https://localhost:8080/"
        },
        "id": "t7t1mAWSejnm",
        "outputId": "b4a9601e-dd72-4551-9528-828908e4ee1a"
      },
      "outputs": [
        {
          "output_type": "execute_result",
          "data": {
            "text/plain": [
              "LinearRegression()"
            ]
          },
          "metadata": {},
          "execution_count": 35
        }
      ],
      "source": [
        "from sklearn.linear_model import LinearRegression\n",
        "reg = LinearRegression()\n",
        "reg.fit(X_train, y_train)"
      ]
    },
    {
      "cell_type": "code",
      "execution_count": null,
      "metadata": {
        "id": "lGzS51Njf79T"
      },
      "outputs": [],
      "source": [
        "Y_pred_reg = reg.predict(X_test)"
      ]
    },
    {
      "cell_type": "code",
      "execution_count": null,
      "metadata": {
        "colab": {
          "base_uri": "https://localhost:8080/"
        },
        "id": "OsFlwd6sgIxH",
        "outputId": "984f3cbe-b7d7-4c0e-ef47-cace03e97f44"
      },
      "outputs": [
        {
          "output_type": "stream",
          "name": "stdout",
          "text": [
            "r2 score =  0.9999506899054441 mse =  0.486834909527814  mae = 0.34044377192316344\n"
          ]
        }
      ],
      "source": [
        "r2, mse, mae = eval_fun(y_test,Y_pred_reg) \n",
        "print(\"r2 score = \", r2, \"mse = \", mse, \" mae =\", mae)"
      ]
    },
    {
      "cell_type": "markdown",
      "metadata": {
        "id": "hFAglemam1rQ"
      },
      "source": [
        "      DTR"
      ]
    },
    {
      "cell_type": "code",
      "execution_count": null,
      "metadata": {
        "colab": {
          "base_uri": "https://localhost:8080/"
        },
        "id": "qBtCZPdFm9-N",
        "outputId": "59175f88-dc05-4cff-83e1-b4bd8a022824"
      },
      "outputs": [
        {
          "output_type": "execute_result",
          "data": {
            "text/plain": [
              "DecisionTreeRegressor(random_state=0)"
            ]
          },
          "metadata": {},
          "execution_count": 32
        }
      ],
      "source": [
        "from sklearn.tree import DecisionTreeRegressor\n",
        "regressor = DecisionTreeRegressor(random_state = 0)\n",
        "regressor.fit(X_train, y_train)"
      ]
    },
    {
      "cell_type": "code",
      "execution_count": null,
      "metadata": {
        "id": "X6mq_x2foyaa"
      },
      "outputs": [],
      "source": [
        "Y_pred_dt = regressor.predict(X_test)"
      ]
    },
    {
      "cell_type": "code",
      "execution_count": null,
      "metadata": {
        "colab": {
          "base_uri": "https://localhost:8080/"
        },
        "id": "fAeJtwc9orr4",
        "outputId": "951534b9-5580-4a3c-ec9d-b8f18a94ac43"
      },
      "outputs": [
        {
          "output_type": "stream",
          "name": "stdout",
          "text": [
            "r2 score =  0.9998980614950876 mse =  1.0064313050577915  mae = 0.4105517014385292\n"
          ]
        }
      ],
      "source": [
        "r2, mse, mae = eval_fun(y_test,Y_pred_dt) \n",
        "print(\"r2 score = \", r2, \"mse = \", mse, \" mae =\", mae)"
      ]
    },
    {
      "cell_type": "markdown",
      "metadata": {
        "id": "ZsuMPph3-xUV"
      },
      "source": [
        "      RandomForestRegression"
      ]
    },
    {
      "cell_type": "code",
      "execution_count": null,
      "metadata": {
        "id": "t7zxqEOR-zcr"
      },
      "outputs": [],
      "source": [
        "from sklearn.ensemble import RandomForestRegressor\n",
        "rf = RandomForestRegressor(n_estimators = 100, random_state = 0,oob_score=True)\n",
        "rf.fit(X_train,y_train)\n",
        "Y_pred = rf.predict(X_test)"
      ]
    },
    {
      "cell_type": "markdown",
      "metadata": {
        "id": "8zWesXOC_-1f"
      },
      "source": [
        "    Evaluating RF"
      ]
    },
    {
      "cell_type": "code",
      "execution_count": null,
      "metadata": {
        "colab": {
          "base_uri": "https://localhost:8080/"
        },
        "id": "DxEQ4xiMDKR7",
        "outputId": "79165b03-6614-4cbe-cb4d-35be25725295"
      },
      "outputs": [
        {
          "output_type": "stream",
          "name": "stdout",
          "text": [
            "r2 score =  0.9999428141996209 mse =  0.5645911695075657  mae = 0.3149424190716196\n"
          ]
        }
      ],
      "source": [
        "r2, mse, mae = eval_fun(y_test,Y_pred) \n",
        "print(\"r2 score = \", r2, \"mse = \", mse, \" mae =\", mae)"
      ]
    },
    {
      "cell_type": "markdown",
      "metadata": {
        "id": "11whnYPEAKhP"
      },
      "source": [
        "    Hyper Parameter tuning for Random forest using grid serach"
      ]
    },
    {
      "cell_type": "code",
      "execution_count": null,
      "metadata": {
        "id": "IJsyB5kJAPo7"
      },
      "outputs": [],
      "source": [
        "from sklearn.ensemble import RandomForestRegressor\n",
        "from sklearn.model_selection import GridSearchCV\n",
        "rf = RandomForestRegressor(oob_score=True)"
      ]
    },
    {
      "cell_type": "code",
      "execution_count": null,
      "metadata": {
        "id": "HfTP9pojAXVI"
      },
      "outputs": [],
      "source": [
        "param_grid = {\n",
        "'n_estimators' : [ 50, 100],\n",
        "'max_depth' :[ 3,5],\n",
        "'max_features' : ['sqrt', 'log2'],\n",
        "'max_samples' : [ 0.8, 0.9]\n",
        "}"
      ]
    },
    {
      "cell_type": "code",
      "execution_count": null,
      "metadata": {
        "colab": {
          "base_uri": "https://localhost:8080/"
        },
        "id": "QGNoVw0cAadb",
        "outputId": "2b27f220-3a7f-4517-b096-7450257a07c5"
      },
      "outputs": [
        {
          "output_type": "stream",
          "name": "stdout",
          "text": [
            "Fitting 2 folds for each of 16 candidates, totalling 32 fits\n",
            "[CV] END max_depth=3, max_features=sqrt, max_samples=0.8, n_estimators=50; total time=   8.8s\n",
            "[CV] END max_depth=3, max_features=sqrt, max_samples=0.8, n_estimators=50; total time=   8.8s\n",
            "[CV] END max_depth=3, max_features=sqrt, max_samples=0.8, n_estimators=100; total time=  17.6s\n",
            "[CV] END max_depth=3, max_features=sqrt, max_samples=0.8, n_estimators=100; total time=  17.5s\n",
            "[CV] END max_depth=3, max_features=sqrt, max_samples=0.9, n_estimators=50; total time=   9.3s\n",
            "[CV] END max_depth=3, max_features=sqrt, max_samples=0.9, n_estimators=50; total time=   9.3s\n",
            "[CV] END max_depth=3, max_features=sqrt, max_samples=0.9, n_estimators=100; total time=  18.6s\n",
            "[CV] END max_depth=3, max_features=sqrt, max_samples=0.9, n_estimators=100; total time=  18.8s\n",
            "[CV] END max_depth=3, max_features=log2, max_samples=0.8, n_estimators=50; total time=   9.0s\n",
            "[CV] END max_depth=3, max_features=log2, max_samples=0.8, n_estimators=50; total time=   8.8s\n",
            "[CV] END max_depth=3, max_features=log2, max_samples=0.8, n_estimators=100; total time=  17.6s\n",
            "[CV] END max_depth=3, max_features=log2, max_samples=0.8, n_estimators=100; total time=  17.5s\n",
            "[CV] END max_depth=3, max_features=log2, max_samples=0.9, n_estimators=50; total time=   9.4s\n",
            "[CV] END max_depth=3, max_features=log2, max_samples=0.9, n_estimators=50; total time=   9.3s\n",
            "[CV] END max_depth=3, max_features=log2, max_samples=0.9, n_estimators=100; total time=  18.8s\n",
            "[CV] END max_depth=3, max_features=log2, max_samples=0.9, n_estimators=100; total time=  18.7s\n",
            "[CV] END max_depth=5, max_features=sqrt, max_samples=0.8, n_estimators=50; total time=  13.9s\n",
            "[CV] END max_depth=5, max_features=sqrt, max_samples=0.8, n_estimators=50; total time=  13.9s\n",
            "[CV] END max_depth=5, max_features=sqrt, max_samples=0.8, n_estimators=100; total time=  27.7s\n",
            "[CV] END max_depth=5, max_features=sqrt, max_samples=0.8, n_estimators=100; total time=  27.7s\n",
            "[CV] END max_depth=5, max_features=sqrt, max_samples=0.9, n_estimators=50; total time=  14.7s\n",
            "[CV] END max_depth=5, max_features=sqrt, max_samples=0.9, n_estimators=50; total time=  14.5s\n",
            "[CV] END max_depth=5, max_features=sqrt, max_samples=0.9, n_estimators=100; total time=  29.1s\n",
            "[CV] END max_depth=5, max_features=sqrt, max_samples=0.9, n_estimators=100; total time=  29.4s\n",
            "[CV] END max_depth=5, max_features=log2, max_samples=0.8, n_estimators=50; total time=  13.8s\n",
            "[CV] END max_depth=5, max_features=log2, max_samples=0.8, n_estimators=50; total time=  13.7s\n",
            "[CV] END max_depth=5, max_features=log2, max_samples=0.8, n_estimators=100; total time=  27.5s\n",
            "[CV] END max_depth=5, max_features=log2, max_samples=0.8, n_estimators=100; total time=  27.4s\n",
            "[CV] END max_depth=5, max_features=log2, max_samples=0.9, n_estimators=50; total time=  14.6s\n",
            "[CV] END max_depth=5, max_features=log2, max_samples=0.9, n_estimators=50; total time=  14.7s\n",
            "[CV] END max_depth=5, max_features=log2, max_samples=0.9, n_estimators=100; total time=  29.3s\n",
            "[CV] END max_depth=5, max_features=log2, max_samples=0.9, n_estimators=100; total time=  29.4s\n"
          ]
        },
        {
          "output_type": "execute_result",
          "data": {
            "text/plain": [
              "GridSearchCV(cv=2, estimator=RandomForestRegressor(oob_score=True),\n",
              "             param_grid={'max_depth': [3, 5], 'max_features': ['sqrt', 'log2'],\n",
              "                         'max_samples': [0.8, 0.9], 'n_estimators': [50, 100]},\n",
              "             verbose=2)"
            ]
          },
          "metadata": {},
          "execution_count": 39
        }
      ],
      "source": [
        "gscv =GridSearchCV(estimator = rf, param_grid = param_grid, cv=2, verbose=2)\n",
        "gscv.fit(X_train,y_train)"
      ]
    },
    {
      "cell_type": "code",
      "execution_count": null,
      "metadata": {
        "colab": {
          "base_uri": "https://localhost:8080/"
        },
        "id": "siSWaWu3AfOe",
        "outputId": "8a95ccdb-f9d2-4219-cf7d-ed9c20ce6520"
      },
      "outputs": [
        {
          "output_type": "execute_result",
          "data": {
            "text/plain": [
              "{'max_depth': 5,\n",
              " 'max_features': 'sqrt',\n",
              " 'max_samples': 0.8,\n",
              " 'n_estimators': 50}"
            ]
          },
          "metadata": {},
          "execution_count": 40
        }
      ],
      "source": [
        "#best parameter\n",
        "gscv.best_params_"
      ]
    },
    {
      "cell_type": "code",
      "execution_count": null,
      "metadata": {
        "colab": {
          "base_uri": "https://localhost:8080/"
        },
        "id": "VQAfSCt9B9NY",
        "outputId": "c935fda6-b13f-47ce-eb5e-6cb809b026c2"
      },
      "outputs": [
        {
          "output_type": "execute_result",
          "data": {
            "text/plain": [
              "RandomForestRegressor(max_depth=5, max_samples=0.9, n_estimators=50,\n",
              "                      oob_score=True, random_state=0)"
            ]
          },
          "metadata": {},
          "execution_count": 41
        }
      ],
      "source": [
        "#hyperparameter tuning\n",
        "rf = RandomForestRegressor(n_estimators=50,max_depth=5,max_samples=0.9, oob_score=True,random_state=0)\n",
        "rf.fit(X_train,y_train)"
      ]
    },
    {
      "cell_type": "code",
      "execution_count": null,
      "metadata": {
        "id": "-CRJwNdfCY5j"
      },
      "outputs": [],
      "source": [
        "Y_pred_rf = rf.predict(X_test)"
      ]
    },
    {
      "cell_type": "code",
      "execution_count": null,
      "metadata": {
        "colab": {
          "base_uri": "https://localhost:8080/"
        },
        "id": "s3vKBCXBChAM",
        "outputId": "7bdc4beb-7d9b-487a-cfdf-a61ff00dcef5"
      },
      "outputs": [
        {
          "output_type": "stream",
          "name": "stdout",
          "text": [
            "r2 score =  0.9980111632805019 mse =  19.635637552985727  mae = 3.3487264075884817\n"
          ]
        }
      ],
      "source": [
        "r2, mse, mae = eval_fun(y_test,Y_pred_rf) \n",
        "print(\"r2 score = \", r2, \"mse = \", mse, \" mae =\", mae)"
      ]
    },
    {
      "cell_type": "markdown",
      "metadata": {
        "id": "rmBVYEAIEF6O"
      },
      "source": [
        "    XGboost"
      ]
    },
    {
      "cell_type": "code",
      "execution_count": null,
      "metadata": {
        "id": "zHzuJLIFEE9l"
      },
      "outputs": [],
      "source": [
        "from sklearn.ensemble import GradientBoostingRegressor"
      ]
    },
    {
      "cell_type": "code",
      "execution_count": null,
      "metadata": {
        "id": "3TSupIPlEa1k"
      },
      "outputs": [],
      "source": [
        "param_grid = {\n",
        "'n_estimators' : [ 50, 100],\n",
        "\n",
        "'subsample' : [0.7, 0.8],\n",
        "'max_depth' :[ 5,7]\n",
        "}"
      ]
    },
    {
      "cell_type": "code",
      "execution_count": null,
      "metadata": {
        "id": "sZdwwWR5EsQR"
      },
      "outputs": [],
      "source": [
        "gscv =GridSearchCV(estimator = GradientBoostingRegressor(), param_grid = param_grid, cv=2, verbose=2)"
      ]
    },
    {
      "cell_type": "code",
      "execution_count": null,
      "metadata": {
        "colab": {
          "base_uri": "https://localhost:8080/"
        },
        "id": "Epgxt8SGEuUQ",
        "outputId": "902ae8ec-bcec-4610-addc-3b024defaafc"
      },
      "outputs": [
        {
          "output_type": "stream",
          "name": "stdout",
          "text": [
            "Fitting 2 folds for each of 8 candidates, totalling 16 fits\n",
            "[CV] END ........max_depth=5, n_estimators=50, subsample=0.7; total time=  43.7s\n",
            "[CV] END ........max_depth=5, n_estimators=50, subsample=0.7; total time=  43.0s\n",
            "[CV] END ........max_depth=5, n_estimators=50, subsample=0.8; total time=  47.7s\n",
            "[CV] END ........max_depth=5, n_estimators=50, subsample=0.8; total time=  57.0s\n",
            "[CV] END .......max_depth=5, n_estimators=100, subsample=0.7; total time= 1.3min\n",
            "[CV] END .......max_depth=5, n_estimators=100, subsample=0.7; total time= 1.3min\n",
            "[CV] END .......max_depth=5, n_estimators=100, subsample=0.8; total time= 1.4min\n",
            "[CV] END .......max_depth=5, n_estimators=100, subsample=0.8; total time= 1.4min\n",
            "[CV] END ........max_depth=7, n_estimators=50, subsample=0.7; total time=  48.4s\n",
            "[CV] END ........max_depth=7, n_estimators=50, subsample=0.7; total time=  48.1s\n",
            "[CV] END ........max_depth=7, n_estimators=50, subsample=0.8; total time=  53.9s\n",
            "[CV] END ........max_depth=7, n_estimators=50, subsample=0.8; total time=  54.1s\n",
            "[CV] END .......max_depth=7, n_estimators=100, subsample=0.7; total time= 1.7min\n",
            "[CV] END .......max_depth=7, n_estimators=100, subsample=0.7; total time= 1.7min\n",
            "[CV] END .......max_depth=7, n_estimators=100, subsample=0.8; total time= 1.9min\n",
            "[CV] END .......max_depth=7, n_estimators=100, subsample=0.8; total time= 1.9min\n"
          ]
        },
        {
          "output_type": "execute_result",
          "data": {
            "text/plain": [
              "GridSearchCV(cv=2, estimator=GradientBoostingRegressor(),\n",
              "             param_grid={'max_depth': [5, 7], 'n_estimators': [50, 100],\n",
              "                         'subsample': [0.7, 0.8]},\n",
              "             verbose=2)"
            ]
          },
          "metadata": {},
          "execution_count": 101
        }
      ],
      "source": [
        "gscv.fit(X_train,y_train)"
      ]
    },
    {
      "cell_type": "code",
      "execution_count": null,
      "metadata": {
        "colab": {
          "base_uri": "https://localhost:8080/"
        },
        "id": "L4Fobl8wqBSC",
        "outputId": "89aacc07-98b5-412f-8359-23c15e381403"
      },
      "outputs": [
        {
          "output_type": "execute_result",
          "data": {
            "text/plain": [
              "{'max_depth': 7, 'n_estimators': 100, 'subsample': 0.8}"
            ]
          },
          "metadata": {},
          "execution_count": 102
        }
      ],
      "source": [
        "gscv.best_params_"
      ]
    },
    {
      "cell_type": "code",
      "execution_count": null,
      "metadata": {
        "colab": {
          "base_uri": "https://localhost:8080/"
        },
        "id": "Zl54bfR-qN7N",
        "outputId": "221e660f-66e2-49bd-b7d7-06e778d58a2a"
      },
      "outputs": [
        {
          "output_type": "execute_result",
          "data": {
            "text/plain": [
              "GradientBoostingRegressor(learning_rate=0.06, max_depth=7, random_state=0,\n",
              "                          subsample=0.8)"
            ]
          },
          "metadata": {},
          "execution_count": 39
        }
      ],
      "source": [
        "gbr = GradientBoostingRegressor(max_depth= 7, n_estimators= 100, subsample= 0.8,learning_rate=0.06,random_state=0)\n",
        "gbr.fit(X_train,y_train)\n"
      ]
    },
    {
      "cell_type": "code",
      "execution_count": null,
      "metadata": {
        "id": "NaP9ogo-qbzB"
      },
      "outputs": [],
      "source": [
        "Y_pred_gbr = gbr.predict(X_test)"
      ]
    },
    {
      "cell_type": "code",
      "execution_count": null,
      "metadata": {
        "colab": {
          "base_uri": "https://localhost:8080/"
        },
        "id": "90UhULqGqgyl",
        "outputId": "86be7a90-1e7e-47d5-ce33-0be2489de455"
      },
      "outputs": [
        {
          "output_type": "stream",
          "name": "stdout",
          "text": [
            "r2 score =  0.9999257621308251 mse =  0.7329449811206183  mae = 0.4240391728252982\n"
          ]
        }
      ],
      "source": [
        "# 1 compare mse, mae and r2 score\n",
        "r2, mse, mae = eval_fun(y_test,Y_pred_gbr) \n",
        "\n",
        "print(\"r2 score = \", r2, \"mse = \", mse, \" mae =\", mae)"
      ]
    },
    {
      "cell_type": "code",
      "source": [
        "#ticker = 'AAPL'\n",
        "#stock_a = df_2[df_2['Name'] == ticker]\n",
        "#print(stock_a)\n",
        "def xgbModel(ticker):\n",
        "  stock_a = df_2[df_2['Name'] == ticker]\n",
        "  #print(\"Stock_A\",stock_a.head())\n",
        "  #Adding new features \n",
        "  #1 Price movement during day time \n",
        "  stock_a = stock_a.set_index('date')#we set the date column as index\n",
        "  #stock_a['changeduringday'] = ((df_2['high'] - df_2['low'] )/ df_2['low'])*100\n",
        "  stock_a['changeduringday'] = ((stock_a['high'] - stock_a['low'] )/ stock_a['low'])*100\n",
        "\n",
        "  #2 Price movement \n",
        "  stock_a['changefrompreviousday'] = (abs(stock_a['close'].shift() - stock_a['close'] )/ stock_a['close'])*100\n",
        "  #print(stock_a.head())\n",
        "\n",
        "\n",
        "  #2 Price movement \n",
        "  \n",
        "\n",
        "  #2 Price movement \n",
        "  #stock_a['changefrompreviousday'] = (abs(stock_a['close'].shift() - stock_a['close'] )/ df_2['close'])*100\n",
        "\n",
        "  stock_a = stock_a.drop(['Name'], axis=1)\n",
        "  #check nan value\n",
        "  stock_a = stock_a.fillna(method='ffill')\n",
        "  #if still nan value then drop it    \n",
        "  stock_a = stock_a.dropna()\n",
        "  #check infinity value and replace it\n",
        "  value = stock_a.quantile(0.98)#if eg:2.3456785674675..... then it will be converted to 98% of 2.3456785674675.....\n",
        "  stock_a= stock_a.replace(np.inf, value) \n",
        "  X_stock_a = stock_a.drop(['close'], axis=1)\n",
        "  y_stock_a = stock_a['close']\n",
        "  #X_train.columns\n",
        "  X_stock_train, X_stock_test, y_stock_train, y_stock_test = train_test_split(X_stock_a, y_stock_a, test_size=0.2, train_size=0.8, random_state=42) \n",
        "  #print(X_stock_train.shape,X_stock_test.shape, y_stock_train.shape, y_stock_test.shape)\n",
        "  from sklearn.preprocessing import StandardScaler# it makes all mean=0 and s.d=1\n",
        "  sc = StandardScaler()\n",
        "  X_stock_train = sc.fit_transform(X_stock_train)\n",
        "  X_stock_test = sc.transform(X_stock_test)                                                                            \n",
        "    #from sklearn.preprocessing import MinMaxScaler\n",
        "    #sc = MinMaxScaler(feature_range = (0, 1))\n",
        "    #training_set_scaled = sc.fit_transform(stock_a)\n",
        "    #df = df.set_index('date')\n",
        "  X_stock_train.astype(np.float32)\n",
        "  X_stock_test.astype(np.float32)\n",
        "  X_stock_train = np.nan_to_num(X_stock_train.astype(np.float32))\n",
        "  X_stock_test = np.nan_to_num(X_stock_test.astype(np.float32))\n",
        "  y_stock_train.astype(np.float32)\n",
        "  y_stock_test.astype(np.float32)\n",
        "  y_stock_train = np.nan_to_num(y_stock_train.astype(np.float32))\n",
        "  y_stock_test = np.nan_to_num(y_stock_test.astype(np.float32))\n",
        "\n",
        "    \n",
        "  #print(X_stock_a.shape,\"zzzz\")\n",
        "  model =  gbr.fit(X_stock_a, y_stock_a)\n",
        "  \n",
        "  return model.feature_importances_,stock_a\n",
        " "
      ],
      "metadata": {
        "id": "LC_2Vr57faD_"
      },
      "execution_count": null,
      "outputs": []
    },
    {
      "cell_type": "code",
      "source": [
        "xgbModel(ticker)"
      ],
      "metadata": {
        "colab": {
          "base_uri": "https://localhost:8080/"
        },
        "id": "huqaX8Nn-g0X",
        "outputId": "9711c339-70fe-44f0-bb3c-7d4369ed0a8f"
      },
      "execution_count": null,
      "outputs": [
        {
          "output_type": "execute_result",
          "data": {
            "text/plain": [
              "(array([9.38417877e-04, 6.63097943e-01, 3.35330256e-01, 1.68295002e-04,\n",
              "        2.28050711e-04, 2.37037344e-04]),\n",
              "              open   high    low  close    volume  changeduringday  \\\n",
              " date                                                                \n",
              " 2013-02-11  14.89  15.01  14.26  14.46   8882000         5.259467   \n",
              " 2013-02-12  14.45  14.51  14.10  14.27   8126000         2.907801   \n",
              " 2013-02-13  14.30  14.94  14.25  14.66  10259500         4.842105   \n",
              " 2013-02-14  14.94  14.96  13.16  13.99  31879900        13.677812   \n",
              " 2013-02-15  13.93  14.61  13.93  14.50  15628000         4.881551   \n",
              " ...           ...    ...    ...    ...       ...              ...   \n",
              " 2018-02-01  54.00  54.64  53.59  53.88   3623078         1.959321   \n",
              " 2018-02-02  53.49  53.99  52.03  52.10   5109361         3.767057   \n",
              " 2018-02-05  51.99  52.39  49.75  49.76   6878284         5.306533   \n",
              " 2018-02-06  49.32  51.50  48.79  51.18   6782480         5.554417   \n",
              " 2018-02-07  50.91  51.98  50.89  51.40   4845831         2.141875   \n",
              " \n",
              "             changefrompreviousday  \n",
              " date                               \n",
              " 2013-02-11               2.005533  \n",
              " 2013-02-12               1.331465  \n",
              " 2013-02-13               2.660300  \n",
              " 2013-02-14               4.789135  \n",
              " 2013-02-15               3.517241  \n",
              " ...                           ...  \n",
              " 2018-02-01               0.816630  \n",
              " 2018-02-02               3.416507  \n",
              " 2018-02-05               4.702572  \n",
              " 2018-02-06               2.774521  \n",
              " 2018-02-07               0.428016  \n",
              " \n",
              " [1258 rows x 7 columns])"
            ]
          },
          "metadata": {},
          "execution_count": 43
        }
      ]
    },
    {
      "cell_type": "code",
      "execution_count": null,
      "metadata": {
        "colab": {
          "base_uri": "https://localhost:8080/",
          "height": 206
        },
        "id": "54GFTEvcrEwO",
        "outputId": "5b9b3622-be60-4c07-b4e2-77c9c71a2413"
      },
      "outputs": [
        {
          "output_type": "execute_result",
          "data": {
            "text/plain": [
              "   Y_test   Y_pred_rf  Y_pred_gbr\n",
              "0  135.73  138.487465  136.674773\n",
              "1  106.70  103.752637  105.063925\n",
              "2   38.81   42.634749   38.498129\n",
              "3   72.25   76.841524   72.178253\n",
              "4  100.57  103.752637   99.828039"
            ],
            "text/html": [
              "\n",
              "  <div id=\"df-9cee0add-c0bb-4cc0-9dc9-1876f180dfc8\">\n",
              "    <div class=\"colab-df-container\">\n",
              "      <div>\n",
              "<style scoped>\n",
              "    .dataframe tbody tr th:only-of-type {\n",
              "        vertical-align: middle;\n",
              "    }\n",
              "\n",
              "    .dataframe tbody tr th {\n",
              "        vertical-align: top;\n",
              "    }\n",
              "\n",
              "    .dataframe thead th {\n",
              "        text-align: right;\n",
              "    }\n",
              "</style>\n",
              "<table border=\"1\" class=\"dataframe\">\n",
              "  <thead>\n",
              "    <tr style=\"text-align: right;\">\n",
              "      <th></th>\n",
              "      <th>Y_test</th>\n",
              "      <th>Y_pred_rf</th>\n",
              "      <th>Y_pred_gbr</th>\n",
              "    </tr>\n",
              "  </thead>\n",
              "  <tbody>\n",
              "    <tr>\n",
              "      <th>0</th>\n",
              "      <td>135.73</td>\n",
              "      <td>138.487465</td>\n",
              "      <td>136.674773</td>\n",
              "    </tr>\n",
              "    <tr>\n",
              "      <th>1</th>\n",
              "      <td>106.70</td>\n",
              "      <td>103.752637</td>\n",
              "      <td>105.063925</td>\n",
              "    </tr>\n",
              "    <tr>\n",
              "      <th>2</th>\n",
              "      <td>38.81</td>\n",
              "      <td>42.634749</td>\n",
              "      <td>38.498129</td>\n",
              "    </tr>\n",
              "    <tr>\n",
              "      <th>3</th>\n",
              "      <td>72.25</td>\n",
              "      <td>76.841524</td>\n",
              "      <td>72.178253</td>\n",
              "    </tr>\n",
              "    <tr>\n",
              "      <th>4</th>\n",
              "      <td>100.57</td>\n",
              "      <td>103.752637</td>\n",
              "      <td>99.828039</td>\n",
              "    </tr>\n",
              "  </tbody>\n",
              "</table>\n",
              "</div>\n",
              "      <button class=\"colab-df-convert\" onclick=\"convertToInteractive('df-9cee0add-c0bb-4cc0-9dc9-1876f180dfc8')\"\n",
              "              title=\"Convert this dataframe to an interactive table.\"\n",
              "              style=\"display:none;\">\n",
              "        \n",
              "  <svg xmlns=\"http://www.w3.org/2000/svg\" height=\"24px\"viewBox=\"0 0 24 24\"\n",
              "       width=\"24px\">\n",
              "    <path d=\"M0 0h24v24H0V0z\" fill=\"none\"/>\n",
              "    <path d=\"M18.56 5.44l.94 2.06.94-2.06 2.06-.94-2.06-.94-.94-2.06-.94 2.06-2.06.94zm-11 1L8.5 8.5l.94-2.06 2.06-.94-2.06-.94L8.5 2.5l-.94 2.06-2.06.94zm10 10l.94 2.06.94-2.06 2.06-.94-2.06-.94-.94-2.06-.94 2.06-2.06.94z\"/><path d=\"M17.41 7.96l-1.37-1.37c-.4-.4-.92-.59-1.43-.59-.52 0-1.04.2-1.43.59L10.3 9.45l-7.72 7.72c-.78.78-.78 2.05 0 2.83L4 21.41c.39.39.9.59 1.41.59.51 0 1.02-.2 1.41-.59l7.78-7.78 2.81-2.81c.8-.78.8-2.07 0-2.86zM5.41 20L4 18.59l7.72-7.72 1.47 1.35L5.41 20z\"/>\n",
              "  </svg>\n",
              "      </button>\n",
              "      \n",
              "  <style>\n",
              "    .colab-df-container {\n",
              "      display:flex;\n",
              "      flex-wrap:wrap;\n",
              "      gap: 12px;\n",
              "    }\n",
              "\n",
              "    .colab-df-convert {\n",
              "      background-color: #E8F0FE;\n",
              "      border: none;\n",
              "      border-radius: 50%;\n",
              "      cursor: pointer;\n",
              "      display: none;\n",
              "      fill: #1967D2;\n",
              "      height: 32px;\n",
              "      padding: 0 0 0 0;\n",
              "      width: 32px;\n",
              "    }\n",
              "\n",
              "    .colab-df-convert:hover {\n",
              "      background-color: #E2EBFA;\n",
              "      box-shadow: 0px 1px 2px rgba(60, 64, 67, 0.3), 0px 1px 3px 1px rgba(60, 64, 67, 0.15);\n",
              "      fill: #174EA6;\n",
              "    }\n",
              "\n",
              "    [theme=dark] .colab-df-convert {\n",
              "      background-color: #3B4455;\n",
              "      fill: #D2E3FC;\n",
              "    }\n",
              "\n",
              "    [theme=dark] .colab-df-convert:hover {\n",
              "      background-color: #434B5C;\n",
              "      box-shadow: 0px 1px 3px 1px rgba(0, 0, 0, 0.15);\n",
              "      filter: drop-shadow(0px 1px 2px rgba(0, 0, 0, 0.3));\n",
              "      fill: #FFFFFF;\n",
              "    }\n",
              "  </style>\n",
              "\n",
              "      <script>\n",
              "        const buttonEl =\n",
              "          document.querySelector('#df-9cee0add-c0bb-4cc0-9dc9-1876f180dfc8 button.colab-df-convert');\n",
              "        buttonEl.style.display =\n",
              "          google.colab.kernel.accessAllowed ? 'block' : 'none';\n",
              "\n",
              "        async function convertToInteractive(key) {\n",
              "          const element = document.querySelector('#df-9cee0add-c0bb-4cc0-9dc9-1876f180dfc8');\n",
              "          const dataTable =\n",
              "            await google.colab.kernel.invokeFunction('convertToInteractive',\n",
              "                                                     [key], {});\n",
              "          if (!dataTable) return;\n",
              "\n",
              "          const docLinkHtml = 'Like what you see? Visit the ' +\n",
              "            '<a target=\"_blank\" href=https://colab.research.google.com/notebooks/data_table.ipynb>data table notebook</a>'\n",
              "            + ' to learn more about interactive tables.';\n",
              "          element.innerHTML = '';\n",
              "          dataTable['output_type'] = 'display_data';\n",
              "          await google.colab.output.renderOutput(dataTable, element);\n",
              "          const docLink = document.createElement('div');\n",
              "          docLink.innerHTML = docLinkHtml;\n",
              "          element.appendChild(docLink);\n",
              "        }\n",
              "      </script>\n",
              "    </div>\n",
              "  </div>\n",
              "  "
            ]
          },
          "metadata": {},
          "execution_count": 114
        }
      ],
      "source": [
        "#pandas.DataFrame.T property is used to transpose index and columns of the data frame\n",
        "res = pd.DataFrame([y_test.values, Y_pred_rf, Y_pred_gbr]).T\n",
        "res.columns = ['Y_test', 'Y_pred_rf', 'Y_pred_gbr']\n",
        "res.head()"
      ]
    },
    {
      "cell_type": "code",
      "source": [
        "#Statistics Significance test  \n",
        "\n",
        "from sklearn.model_selection import cross_val_score\n",
        "from scipy import stats\n",
        "\n",
        "def display_scores(scores):\n",
        "    print(\"Scores\", scores,\"Mean\", scores.mean(),\"Standard deviation\", scores.std())\n",
        "\n",
        "kFolds=20\n",
        "\n",
        "rf_score = cross_val_score(rf, X_train, y_train,scoring=\"neg_mean_squared_error\", cv=kFolds)\n",
        "control =np.sqrt(-rf_score)#rmse score\n",
        "display_scores(control)\n",
        "\n",
        "scores = cross_val_score(gbr, X_train, y_train,scoring=\"neg_mean_squared_error\", cv=kFolds)\n",
        "treatment = np.sqrt(-scores)\n",
        "display_scores(treatment)\n",
        "\n",
        "#paired t-test,values before and after the training\n",
        "(t_score, p_value) = stats.ttest_rel(control, treatment)\n",
        "print(\"The p-value = %0.5f for a t-score = %0.5f.\" %(p_value, t_score))"
      ],
      "metadata": {
        "id": "G2-DGzqPtuFL",
        "colab": {
          "base_uri": "https://localhost:8080/"
        },
        "outputId": "5530f9d6-173d-4deb-b75e-52d3b6d48f66"
      },
      "execution_count": null,
      "outputs": [
        {
          "output_type": "stream",
          "name": "stdout",
          "text": [
            "Scores [4.31850639 4.26543827 4.59150379 4.26914372 4.22091076 4.44391259\n",
            " 4.28652718 4.39028282 4.30726812 4.26240701 4.16016114 4.26122658\n",
            " 4.419463   4.61056828 4.30431011 4.42186728 4.3297806  4.39463257\n",
            " 4.34825856 4.2871549 ] Mean 4.344666183210454 Standard deviation 0.11029854161787081\n",
            "Scores [0.86554889 0.90704012 0.84039248 0.79025846 0.72117752 0.94144715\n",
            " 0.80540126 0.8840849  0.74632936 0.85332881 0.84421333 0.84580153\n",
            " 0.80708013 0.76584876 0.78782344 0.77098481 0.95641201 0.89079648\n",
            " 0.79933733 0.75950302] Mean 0.8291404884929221 Standard deviation 0.06330477966911502\n",
            "The p-value = 0.00000 for a t-score = 123.47044.\n"
          ]
        }
      ]
    },
    {
      "cell_type": "code",
      "source": [
        "if p_value > 0.05/2:  #Two sided \n",
        "    print('There is no significant difference between the two machine learning (Accept H0)')\n",
        "else:\n",
        "    print('The two machine learning  are different (reject H0) \\n(t_score, p_value) = (%.2f, %.5f)'%(t_score, p_value) )\n",
        "    if t_score < 0.0:\n",
        "        print('Machine learning random forest is better than xgboost')\n",
        "    else:\n",
        "        print('Machine learning xgboost is better than random forest')"
      ],
      "metadata": {
        "colab": {
          "base_uri": "https://localhost:8080/"
        },
        "id": "wJXki8Z-v6DO",
        "outputId": "ae5b0fba-bcd9-4c59-f3af-c50ef7da1439"
      },
      "execution_count": null,
      "outputs": [
        {
          "output_type": "stream",
          "name": "stdout",
          "text": [
            "The two machine learning  are different (reject H0) \n",
            "(t_score, p_value) = (123.47, 0.00000)\n",
            "Machine learning xgboost is better than random forest\n"
          ]
        }
      ]
    },
    {
      "cell_type": "code",
      "source": [
        "#Classification function homegrown logic based on stock price mean variation  \n",
        "def classify (meanValue):\n",
        "    if meanValue <=1.5:\n",
        "        return 'Low'\n",
        "    elif meanValue >1.5 and  meanValue <=2.5:\n",
        "        return 'Medium'\n",
        "    elif meanValue >2.5:\n",
        "        return 'High'"
      ],
      "metadata": {
        "id": "6MrccGYGwMBS"
      },
      "execution_count": null,
      "outputs": []
    },
    {
      "cell_type": "code",
      "source": [
        "#using all the 500 stocks for training \n",
        "ticker_list = np.unique(df_2['Name'])\n",
        "#print(ticker_list)\n",
        "df_1 = pd.DataFrame(columns=['TICKER','CLASS','Coef for open','Coef for high','Coef for low','Coef for volume','Coef for change within day','Coef for change from prev day'])\n",
        "#df_1 is a new dataframe for calculated coefficients ie it has columns ('TICKER','CLASS','Coef for open','Coef for high','Coef fo......)\n",
        "for ticker in ticker_list[:500]:\n",
        "  #print(ticker)\n",
        "  #model,stock_a = linearModel(ticker)    \n",
        "  stock_a = df_2[df_2['Name'] == ticker]\n",
        "  value = df_2.quantile(0.98)\n",
        "  #print(stock_a)\n",
        "  \n",
        "  stock_a['changeduringday'] = ((df_2['high'] - df_2['low'] )/ df_2['low'])*100\n",
        "  stock_a['changefrompreviousday'] = (abs(stock_a['close'].shift() - stock_a['close'] )/ df_2['close'])*100\n",
        "  stock_a = stock_a.drop(['date', 'Name'], axis=1)\n",
        "  #stock_a.columns\n",
        "  #stock_a.head()\n",
        "  stock_a = stock_a.fillna(method='ffill')    \n",
        "  stock_a= stock_a.replace(np.inf, value) \n",
        "  X_stock_a = stock_a.drop(['close'], axis=1)\n",
        "  y_stock_a = stock_a['close']\n",
        "  #X_train.columns\n",
        "  X_stock_train, X_stock_test, y_stock_train, y_stock_test = train_test_split(X_stock_a, y_stock_a, test_size=0.2,  random_state=42) \n",
        "                                                                              \n",
        "    #from sklearn.preprocessing import MinMaxScaler\n",
        "    #sc = MinMaxScaler(feature_range = (0, 1))\n",
        "    #training_set_scaled = sc.fit_transform(stock_a)\n",
        "    #df = df.set_index('date')\n",
        "  X_stock_train.astype(np.float32)\n",
        "  X_stock_test.astype(np.float32)\n",
        "  X_stock_train = np.nan_to_num(X_stock_train.astype(np.float32))\n",
        "  X_stock_test = np.nan_to_num(X_stock_test.astype(np.float32))\n",
        "  y_stock_train.astype(np.float32)\n",
        "  y_stock_test.astype(np.float32)\n",
        "  y_stock_train = np.nan_to_num(y_stock_train.astype(np.float32))\n",
        "  y_stock_test = np.nan_to_num(y_stock_test.astype(np.float32))\n",
        "  model = gbr.fit(X_stock_train, y_stock_train)\n",
        "    \n",
        "    #model = rf.named_steps['lr']\n",
        "    #print(\"Mean value:\",stock_a[\"changeduringday\"].mean())\n",
        "    #adding target class \n",
        "  stock_features = np.concatenate((np.asarray([ticker,classify(stock_a[\"changeduringday\"].mean())]),model.feature_importances_))\n",
        "    #changeduringday is passed as a parameter  to the function classify defined above\n",
        "  df_1.loc[-1] = stock_features  # adding a row (ie making a column which store high,medium,low risk)\n",
        "  df_1.index = df_1.index + 1  # shifting index\n",
        "  df_1 = df_1.sort_index() \n",
        "   \n",
        "#print(df)\n",
        "\n",
        "#saving feature coefficients and target class for 500 stocks \n",
        "#converting dataframe to csv file\n",
        "df_1.to_csv('coeff1.csv', mode='a',header=['TICKER','CLASS','Coef for open','Coef for high','Coef for low','Coef for volume','Coef for change within day','Coef for change from prev day'])"
      ],
      "metadata": {
        "id": "Muta_NlQe_di"
      },
      "execution_count": null,
      "outputs": []
    },
    {
      "cell_type": "code",
      "source": [
        "df = read_csv('/content/coeff1.csv',header=0)\n",
        "df.head()"
      ],
      "metadata": {
        "colab": {
          "base_uri": "https://localhost:8080/",
          "height": 267
        },
        "id": "NaUsOqOrya81",
        "outputId": "5385b289-22ad-4513-a2b4-f1e6226c094b"
      },
      "execution_count": null,
      "outputs": [
        {
          "output_type": "execute_result",
          "data": {
            "text/plain": [
              "   Unnamed: 0 TICKER   CLASS  Coef for open  Coef for high  Coef for low  \\\n",
              "0           0    XRX  Medium       0.002190       0.429211      0.567883   \n",
              "1           1   XRAY  Medium       0.086401       0.685318      0.227484   \n",
              "2           2    XOM     Low       0.000758       0.644630      0.352740   \n",
              "3           3   XLNX  Medium       0.219305       0.197295      0.582867   \n",
              "4           4     XL  Medium       0.001729       0.802704      0.194414   \n",
              "\n",
              "   Coef for volume  Coef for change within day  Coef for change from prev day  \n",
              "0         0.000199                    0.000217                       0.000301  \n",
              "1         0.000221                    0.000239                       0.000337  \n",
              "2         0.000654                    0.000665                       0.000553  \n",
              "3         0.000148                    0.000167                       0.000217  \n",
              "4         0.000375                    0.000276                       0.000503  "
            ],
            "text/html": [
              "\n",
              "  <div id=\"df-a3b81480-93b1-4f2b-a4b8-e821dd8525be\">\n",
              "    <div class=\"colab-df-container\">\n",
              "      <div>\n",
              "<style scoped>\n",
              "    .dataframe tbody tr th:only-of-type {\n",
              "        vertical-align: middle;\n",
              "    }\n",
              "\n",
              "    .dataframe tbody tr th {\n",
              "        vertical-align: top;\n",
              "    }\n",
              "\n",
              "    .dataframe thead th {\n",
              "        text-align: right;\n",
              "    }\n",
              "</style>\n",
              "<table border=\"1\" class=\"dataframe\">\n",
              "  <thead>\n",
              "    <tr style=\"text-align: right;\">\n",
              "      <th></th>\n",
              "      <th>Unnamed: 0</th>\n",
              "      <th>TICKER</th>\n",
              "      <th>CLASS</th>\n",
              "      <th>Coef for open</th>\n",
              "      <th>Coef for high</th>\n",
              "      <th>Coef for low</th>\n",
              "      <th>Coef for volume</th>\n",
              "      <th>Coef for change within day</th>\n",
              "      <th>Coef for change from prev day</th>\n",
              "    </tr>\n",
              "  </thead>\n",
              "  <tbody>\n",
              "    <tr>\n",
              "      <th>0</th>\n",
              "      <td>0</td>\n",
              "      <td>XRX</td>\n",
              "      <td>Medium</td>\n",
              "      <td>0.002190</td>\n",
              "      <td>0.429211</td>\n",
              "      <td>0.567883</td>\n",
              "      <td>0.000199</td>\n",
              "      <td>0.000217</td>\n",
              "      <td>0.000301</td>\n",
              "    </tr>\n",
              "    <tr>\n",
              "      <th>1</th>\n",
              "      <td>1</td>\n",
              "      <td>XRAY</td>\n",
              "      <td>Medium</td>\n",
              "      <td>0.086401</td>\n",
              "      <td>0.685318</td>\n",
              "      <td>0.227484</td>\n",
              "      <td>0.000221</td>\n",
              "      <td>0.000239</td>\n",
              "      <td>0.000337</td>\n",
              "    </tr>\n",
              "    <tr>\n",
              "      <th>2</th>\n",
              "      <td>2</td>\n",
              "      <td>XOM</td>\n",
              "      <td>Low</td>\n",
              "      <td>0.000758</td>\n",
              "      <td>0.644630</td>\n",
              "      <td>0.352740</td>\n",
              "      <td>0.000654</td>\n",
              "      <td>0.000665</td>\n",
              "      <td>0.000553</td>\n",
              "    </tr>\n",
              "    <tr>\n",
              "      <th>3</th>\n",
              "      <td>3</td>\n",
              "      <td>XLNX</td>\n",
              "      <td>Medium</td>\n",
              "      <td>0.219305</td>\n",
              "      <td>0.197295</td>\n",
              "      <td>0.582867</td>\n",
              "      <td>0.000148</td>\n",
              "      <td>0.000167</td>\n",
              "      <td>0.000217</td>\n",
              "    </tr>\n",
              "    <tr>\n",
              "      <th>4</th>\n",
              "      <td>4</td>\n",
              "      <td>XL</td>\n",
              "      <td>Medium</td>\n",
              "      <td>0.001729</td>\n",
              "      <td>0.802704</td>\n",
              "      <td>0.194414</td>\n",
              "      <td>0.000375</td>\n",
              "      <td>0.000276</td>\n",
              "      <td>0.000503</td>\n",
              "    </tr>\n",
              "  </tbody>\n",
              "</table>\n",
              "</div>\n",
              "      <button class=\"colab-df-convert\" onclick=\"convertToInteractive('df-a3b81480-93b1-4f2b-a4b8-e821dd8525be')\"\n",
              "              title=\"Convert this dataframe to an interactive table.\"\n",
              "              style=\"display:none;\">\n",
              "        \n",
              "  <svg xmlns=\"http://www.w3.org/2000/svg\" height=\"24px\"viewBox=\"0 0 24 24\"\n",
              "       width=\"24px\">\n",
              "    <path d=\"M0 0h24v24H0V0z\" fill=\"none\"/>\n",
              "    <path d=\"M18.56 5.44l.94 2.06.94-2.06 2.06-.94-2.06-.94-.94-2.06-.94 2.06-2.06.94zm-11 1L8.5 8.5l.94-2.06 2.06-.94-2.06-.94L8.5 2.5l-.94 2.06-2.06.94zm10 10l.94 2.06.94-2.06 2.06-.94-2.06-.94-.94-2.06-.94 2.06-2.06.94z\"/><path d=\"M17.41 7.96l-1.37-1.37c-.4-.4-.92-.59-1.43-.59-.52 0-1.04.2-1.43.59L10.3 9.45l-7.72 7.72c-.78.78-.78 2.05 0 2.83L4 21.41c.39.39.9.59 1.41.59.51 0 1.02-.2 1.41-.59l7.78-7.78 2.81-2.81c.8-.78.8-2.07 0-2.86zM5.41 20L4 18.59l7.72-7.72 1.47 1.35L5.41 20z\"/>\n",
              "  </svg>\n",
              "      </button>\n",
              "      \n",
              "  <style>\n",
              "    .colab-df-container {\n",
              "      display:flex;\n",
              "      flex-wrap:wrap;\n",
              "      gap: 12px;\n",
              "    }\n",
              "\n",
              "    .colab-df-convert {\n",
              "      background-color: #E8F0FE;\n",
              "      border: none;\n",
              "      border-radius: 50%;\n",
              "      cursor: pointer;\n",
              "      display: none;\n",
              "      fill: #1967D2;\n",
              "      height: 32px;\n",
              "      padding: 0 0 0 0;\n",
              "      width: 32px;\n",
              "    }\n",
              "\n",
              "    .colab-df-convert:hover {\n",
              "      background-color: #E2EBFA;\n",
              "      box-shadow: 0px 1px 2px rgba(60, 64, 67, 0.3), 0px 1px 3px 1px rgba(60, 64, 67, 0.15);\n",
              "      fill: #174EA6;\n",
              "    }\n",
              "\n",
              "    [theme=dark] .colab-df-convert {\n",
              "      background-color: #3B4455;\n",
              "      fill: #D2E3FC;\n",
              "    }\n",
              "\n",
              "    [theme=dark] .colab-df-convert:hover {\n",
              "      background-color: #434B5C;\n",
              "      box-shadow: 0px 1px 3px 1px rgba(0, 0, 0, 0.15);\n",
              "      filter: drop-shadow(0px 1px 2px rgba(0, 0, 0, 0.3));\n",
              "      fill: #FFFFFF;\n",
              "    }\n",
              "  </style>\n",
              "\n",
              "      <script>\n",
              "        const buttonEl =\n",
              "          document.querySelector('#df-a3b81480-93b1-4f2b-a4b8-e821dd8525be button.colab-df-convert');\n",
              "        buttonEl.style.display =\n",
              "          google.colab.kernel.accessAllowed ? 'block' : 'none';\n",
              "\n",
              "        async function convertToInteractive(key) {\n",
              "          const element = document.querySelector('#df-a3b81480-93b1-4f2b-a4b8-e821dd8525be');\n",
              "          const dataTable =\n",
              "            await google.colab.kernel.invokeFunction('convertToInteractive',\n",
              "                                                     [key], {});\n",
              "          if (!dataTable) return;\n",
              "\n",
              "          const docLinkHtml = 'Like what you see? Visit the ' +\n",
              "            '<a target=\"_blank\" href=https://colab.research.google.com/notebooks/data_table.ipynb>data table notebook</a>'\n",
              "            + ' to learn more about interactive tables.';\n",
              "          element.innerHTML = '';\n",
              "          dataTable['output_type'] = 'display_data';\n",
              "          await google.colab.output.renderOutput(dataTable, element);\n",
              "          const docLink = document.createElement('div');\n",
              "          docLink.innerHTML = docLinkHtml;\n",
              "          element.appendChild(docLink);\n",
              "        }\n",
              "      </script>\n",
              "    </div>\n",
              "  </div>\n",
              "  "
            ]
          },
          "metadata": {},
          "execution_count": 98
        }
      ]
    },
    {
      "cell_type": "code",
      "source": [
        "#print(df.iloc[:1])\n",
        "df.info()"
      ],
      "metadata": {
        "colab": {
          "base_uri": "https://localhost:8080/"
        },
        "id": "XaOgZOgQNqtF",
        "outputId": "f8540fb5-0e3c-4bc3-f279-bd1be93d1940"
      },
      "execution_count": null,
      "outputs": [
        {
          "output_type": "stream",
          "name": "stdout",
          "text": [
            "<class 'pandas.core.frame.DataFrame'>\n",
            "RangeIndex: 500 entries, 0 to 499\n",
            "Data columns (total 9 columns):\n",
            " #   Column                         Non-Null Count  Dtype  \n",
            "---  ------                         --------------  -----  \n",
            " 0   Unnamed: 0                     500 non-null    int64  \n",
            " 1   TICKER                         500 non-null    object \n",
            " 2   CLASS                          500 non-null    object \n",
            " 3   Coef for open                  500 non-null    float64\n",
            " 4   Coef for high                  500 non-null    float64\n",
            " 5   Coef for low                   500 non-null    float64\n",
            " 6   Coef for volume                500 non-null    float64\n",
            " 7   Coef for change within day     500 non-null    float64\n",
            " 8   Coef for change from prev day  500 non-null    float64\n",
            "dtypes: float64(6), int64(1), object(2)\n",
            "memory usage: 35.3+ KB\n"
          ]
        }
      ]
    },
    {
      "cell_type": "code",
      "source": [
        "# loading libraries\n",
        "import numpy as np\n",
        "from sklearn.model_selection import train_test_split\n",
        "#df=float(df)\n",
        "X_class = df.drop(['CLASS','TICKER','Unnamed: 0'],axis=1) #drop(['close'], axis=1)\n",
        "y_class = df['CLASS']\n",
        "\n",
        "# split into train and test\n",
        "X_train_class, X_test_class, y_train_class, y_test_class = train_test_split(X_class, y_class, test_size=0.2, random_state=42)"
      ],
      "metadata": {
        "id": "VuQSQEe8yf42"
      },
      "execution_count": null,
      "outputs": []
    },
    {
      "cell_type": "code",
      "source": [
        "X_class.head(10)"
      ],
      "metadata": {
        "id": "b-u4G28myjQj",
        "colab": {
          "base_uri": "https://localhost:8080/",
          "height": 407
        },
        "outputId": "6f66ef62-c5dd-478c-cfd2-9263a96a4c4e"
      },
      "execution_count": null,
      "outputs": [
        {
          "output_type": "execute_result",
          "data": {
            "text/plain": [
              "   Coef for open  Coef for high  Coef for low  Coef for volume  \\\n",
              "0       0.002190       0.429211      0.567883         0.000199   \n",
              "1       0.086401       0.685318      0.227484         0.000221   \n",
              "2       0.000758       0.644630      0.352740         0.000654   \n",
              "3       0.219305       0.197295      0.582867         0.000148   \n",
              "4       0.001729       0.802704      0.194414         0.000375   \n",
              "5       0.201077       0.607974      0.190585         0.000119   \n",
              "6       0.003156       0.641884      0.353235         0.000483   \n",
              "7       0.051612       0.293349      0.654644         0.000126   \n",
              "8       0.001964       0.379999      0.617444         0.000174   \n",
              "9       0.009113       0.688400      0.299468         0.000842   \n",
              "\n",
              "   Coef for change within day  Coef for change from prev day  \n",
              "0                    0.000217                       0.000301  \n",
              "1                    0.000239                       0.000337  \n",
              "2                    0.000665                       0.000553  \n",
              "3                    0.000167                       0.000217  \n",
              "4                    0.000276                       0.000503  \n",
              "5                    0.000124                       0.000121  \n",
              "6                    0.000573                       0.000668  \n",
              "7                    0.000136                       0.000133  \n",
              "8                    0.000198                       0.000221  \n",
              "9                    0.001069                       0.001108  "
            ],
            "text/html": [
              "\n",
              "  <div id=\"df-915c8be6-41f3-4a45-a25f-74aec5fa27ff\">\n",
              "    <div class=\"colab-df-container\">\n",
              "      <div>\n",
              "<style scoped>\n",
              "    .dataframe tbody tr th:only-of-type {\n",
              "        vertical-align: middle;\n",
              "    }\n",
              "\n",
              "    .dataframe tbody tr th {\n",
              "        vertical-align: top;\n",
              "    }\n",
              "\n",
              "    .dataframe thead th {\n",
              "        text-align: right;\n",
              "    }\n",
              "</style>\n",
              "<table border=\"1\" class=\"dataframe\">\n",
              "  <thead>\n",
              "    <tr style=\"text-align: right;\">\n",
              "      <th></th>\n",
              "      <th>Coef for open</th>\n",
              "      <th>Coef for high</th>\n",
              "      <th>Coef for low</th>\n",
              "      <th>Coef for volume</th>\n",
              "      <th>Coef for change within day</th>\n",
              "      <th>Coef for change from prev day</th>\n",
              "    </tr>\n",
              "  </thead>\n",
              "  <tbody>\n",
              "    <tr>\n",
              "      <th>0</th>\n",
              "      <td>0.002190</td>\n",
              "      <td>0.429211</td>\n",
              "      <td>0.567883</td>\n",
              "      <td>0.000199</td>\n",
              "      <td>0.000217</td>\n",
              "      <td>0.000301</td>\n",
              "    </tr>\n",
              "    <tr>\n",
              "      <th>1</th>\n",
              "      <td>0.086401</td>\n",
              "      <td>0.685318</td>\n",
              "      <td>0.227484</td>\n",
              "      <td>0.000221</td>\n",
              "      <td>0.000239</td>\n",
              "      <td>0.000337</td>\n",
              "    </tr>\n",
              "    <tr>\n",
              "      <th>2</th>\n",
              "      <td>0.000758</td>\n",
              "      <td>0.644630</td>\n",
              "      <td>0.352740</td>\n",
              "      <td>0.000654</td>\n",
              "      <td>0.000665</td>\n",
              "      <td>0.000553</td>\n",
              "    </tr>\n",
              "    <tr>\n",
              "      <th>3</th>\n",
              "      <td>0.219305</td>\n",
              "      <td>0.197295</td>\n",
              "      <td>0.582867</td>\n",
              "      <td>0.000148</td>\n",
              "      <td>0.000167</td>\n",
              "      <td>0.000217</td>\n",
              "    </tr>\n",
              "    <tr>\n",
              "      <th>4</th>\n",
              "      <td>0.001729</td>\n",
              "      <td>0.802704</td>\n",
              "      <td>0.194414</td>\n",
              "      <td>0.000375</td>\n",
              "      <td>0.000276</td>\n",
              "      <td>0.000503</td>\n",
              "    </tr>\n",
              "    <tr>\n",
              "      <th>5</th>\n",
              "      <td>0.201077</td>\n",
              "      <td>0.607974</td>\n",
              "      <td>0.190585</td>\n",
              "      <td>0.000119</td>\n",
              "      <td>0.000124</td>\n",
              "      <td>0.000121</td>\n",
              "    </tr>\n",
              "    <tr>\n",
              "      <th>6</th>\n",
              "      <td>0.003156</td>\n",
              "      <td>0.641884</td>\n",
              "      <td>0.353235</td>\n",
              "      <td>0.000483</td>\n",
              "      <td>0.000573</td>\n",
              "      <td>0.000668</td>\n",
              "    </tr>\n",
              "    <tr>\n",
              "      <th>7</th>\n",
              "      <td>0.051612</td>\n",
              "      <td>0.293349</td>\n",
              "      <td>0.654644</td>\n",
              "      <td>0.000126</td>\n",
              "      <td>0.000136</td>\n",
              "      <td>0.000133</td>\n",
              "    </tr>\n",
              "    <tr>\n",
              "      <th>8</th>\n",
              "      <td>0.001964</td>\n",
              "      <td>0.379999</td>\n",
              "      <td>0.617444</td>\n",
              "      <td>0.000174</td>\n",
              "      <td>0.000198</td>\n",
              "      <td>0.000221</td>\n",
              "    </tr>\n",
              "    <tr>\n",
              "      <th>9</th>\n",
              "      <td>0.009113</td>\n",
              "      <td>0.688400</td>\n",
              "      <td>0.299468</td>\n",
              "      <td>0.000842</td>\n",
              "      <td>0.001069</td>\n",
              "      <td>0.001108</td>\n",
              "    </tr>\n",
              "  </tbody>\n",
              "</table>\n",
              "</div>\n",
              "      <button class=\"colab-df-convert\" onclick=\"convertToInteractive('df-915c8be6-41f3-4a45-a25f-74aec5fa27ff')\"\n",
              "              title=\"Convert this dataframe to an interactive table.\"\n",
              "              style=\"display:none;\">\n",
              "        \n",
              "  <svg xmlns=\"http://www.w3.org/2000/svg\" height=\"24px\"viewBox=\"0 0 24 24\"\n",
              "       width=\"24px\">\n",
              "    <path d=\"M0 0h24v24H0V0z\" fill=\"none\"/>\n",
              "    <path d=\"M18.56 5.44l.94 2.06.94-2.06 2.06-.94-2.06-.94-.94-2.06-.94 2.06-2.06.94zm-11 1L8.5 8.5l.94-2.06 2.06-.94-2.06-.94L8.5 2.5l-.94 2.06-2.06.94zm10 10l.94 2.06.94-2.06 2.06-.94-2.06-.94-.94-2.06-.94 2.06-2.06.94z\"/><path d=\"M17.41 7.96l-1.37-1.37c-.4-.4-.92-.59-1.43-.59-.52 0-1.04.2-1.43.59L10.3 9.45l-7.72 7.72c-.78.78-.78 2.05 0 2.83L4 21.41c.39.39.9.59 1.41.59.51 0 1.02-.2 1.41-.59l7.78-7.78 2.81-2.81c.8-.78.8-2.07 0-2.86zM5.41 20L4 18.59l7.72-7.72 1.47 1.35L5.41 20z\"/>\n",
              "  </svg>\n",
              "      </button>\n",
              "      \n",
              "  <style>\n",
              "    .colab-df-container {\n",
              "      display:flex;\n",
              "      flex-wrap:wrap;\n",
              "      gap: 12px;\n",
              "    }\n",
              "\n",
              "    .colab-df-convert {\n",
              "      background-color: #E8F0FE;\n",
              "      border: none;\n",
              "      border-radius: 50%;\n",
              "      cursor: pointer;\n",
              "      display: none;\n",
              "      fill: #1967D2;\n",
              "      height: 32px;\n",
              "      padding: 0 0 0 0;\n",
              "      width: 32px;\n",
              "    }\n",
              "\n",
              "    .colab-df-convert:hover {\n",
              "      background-color: #E2EBFA;\n",
              "      box-shadow: 0px 1px 2px rgba(60, 64, 67, 0.3), 0px 1px 3px 1px rgba(60, 64, 67, 0.15);\n",
              "      fill: #174EA6;\n",
              "    }\n",
              "\n",
              "    [theme=dark] .colab-df-convert {\n",
              "      background-color: #3B4455;\n",
              "      fill: #D2E3FC;\n",
              "    }\n",
              "\n",
              "    [theme=dark] .colab-df-convert:hover {\n",
              "      background-color: #434B5C;\n",
              "      box-shadow: 0px 1px 3px 1px rgba(0, 0, 0, 0.15);\n",
              "      filter: drop-shadow(0px 1px 2px rgba(0, 0, 0, 0.3));\n",
              "      fill: #FFFFFF;\n",
              "    }\n",
              "  </style>\n",
              "\n",
              "      <script>\n",
              "        const buttonEl =\n",
              "          document.querySelector('#df-915c8be6-41f3-4a45-a25f-74aec5fa27ff button.colab-df-convert');\n",
              "        buttonEl.style.display =\n",
              "          google.colab.kernel.accessAllowed ? 'block' : 'none';\n",
              "\n",
              "        async function convertToInteractive(key) {\n",
              "          const element = document.querySelector('#df-915c8be6-41f3-4a45-a25f-74aec5fa27ff');\n",
              "          const dataTable =\n",
              "            await google.colab.kernel.invokeFunction('convertToInteractive',\n",
              "                                                     [key], {});\n",
              "          if (!dataTable) return;\n",
              "\n",
              "          const docLinkHtml = 'Like what you see? Visit the ' +\n",
              "            '<a target=\"_blank\" href=https://colab.research.google.com/notebooks/data_table.ipynb>data table notebook</a>'\n",
              "            + ' to learn more about interactive tables.';\n",
              "          element.innerHTML = '';\n",
              "          dataTable['output_type'] = 'display_data';\n",
              "          await google.colab.output.renderOutput(dataTable, element);\n",
              "          const docLink = document.createElement('div');\n",
              "          docLink.innerHTML = docLinkHtml;\n",
              "          element.appendChild(docLink);\n",
              "        }\n",
              "      </script>\n",
              "    </div>\n",
              "  </div>\n",
              "  "
            ]
          },
          "metadata": {},
          "execution_count": 101
        }
      ]
    },
    {
      "cell_type": "code",
      "source": [
        "y_class.head()"
      ],
      "metadata": {
        "id": "npzdIp2cytux",
        "colab": {
          "base_uri": "https://localhost:8080/"
        },
        "outputId": "d00b53b8-6bcb-4568-b912-5cb84fe4ca8d"
      },
      "execution_count": null,
      "outputs": [
        {
          "output_type": "execute_result",
          "data": {
            "text/plain": [
              "0    Medium\n",
              "1    Medium\n",
              "2       Low\n",
              "3    Medium\n",
              "4    Medium\n",
              "Name: CLASS, dtype: object"
            ]
          },
          "metadata": {},
          "execution_count": 102
        }
      ]
    },
    {
      "cell_type": "code",
      "source": [
        "sc_X = StandardScaler()\n",
        "X_train_class = sc_X.fit_transform(X_train_class)\n",
        "X_test_class = sc_X.fit_transform(X_test_class)"
      ],
      "metadata": {
        "id": "TnY0iiG6ywr7"
      },
      "execution_count": null,
      "outputs": []
    },
    {
      "cell_type": "code",
      "source": [
        "from sklearn.neighbors import KNeighborsClassifier\n",
        "from sklearn.metrics import accuracy_score\n",
        "# instantiate learning model (k = 3)\n",
        "knn = KNeighborsClassifier(n_neighbors=10)\n",
        "\n",
        "# fitting the model\n",
        "knn.fit(X_train_class, y_train_class)\n",
        "knn.score(X_test_class,y_test_class)\n",
        "# predict the response\n",
        "pred = knn.predict(X_test_class)\n",
        "\n",
        "# evaluate accuracy\n",
        "print (\"Accuracy of KNN \", accuracy_score(y_test_class, pred))\n",
        "print (\"score of KNN \",knn.score(X_test_class,y_test_class) )"
      ],
      "metadata": {
        "id": "HOJlH_VayzGu",
        "colab": {
          "base_uri": "https://localhost:8080/"
        },
        "outputId": "61b8f748-7cec-41fe-c645-b80c933659de"
      },
      "execution_count": null,
      "outputs": [
        {
          "output_type": "stream",
          "name": "stdout",
          "text": [
            "Accuracy of KNN  0.65\n",
            "score of KNN  0.65\n"
          ]
        }
      ]
    },
    {
      "cell_type": "code",
      "source": [
        "from sklearn.metrics import confusion_matrix\n",
        "y_pred = knn.predict(X_test_class)\n",
        "cm = confusion_matrix(y_test_class,y_pred)\n",
        "cm"
      ],
      "metadata": {
        "id": "UyeNNLTJsSZ9",
        "colab": {
          "base_uri": "https://localhost:8080/"
        },
        "outputId": "3f013e53-a685-489d-9358-a21ed3352546"
      },
      "execution_count": null,
      "outputs": [
        {
          "output_type": "execute_result",
          "data": {
            "text/plain": [
              "array([[ 1,  0, 20],\n",
              "       [ 0,  1, 14],\n",
              "       [ 1,  0, 63]])"
            ]
          },
          "metadata": {},
          "execution_count": 105
        }
      ]
    },
    {
      "cell_type": "code",
      "source": [
        "#delete the cell later\n",
        "from sklearn.neighbors import KNeighborsClassifier\n",
        "from sklearn.metrics import accuracy_score\n",
        "# instantiate learning model (k = 3)\n",
        "knn = KNeighborsClassifier(n_neighbors=4)\n",
        "\n",
        "# fitting the model\n",
        "knn.fit(X_train_class, y_train_class)\n",
        "\n",
        "# predict the response\n",
        "pred = knn.predict(X_test_class)\n",
        "\n",
        "# evaluate accuracy\n",
        "print (\"Accuracy of KNN \", accuracy_score(y_test_class, pred))"
      ],
      "metadata": {
        "id": "pUFnpMPMztF3",
        "colab": {
          "base_uri": "https://localhost:8080/"
        },
        "outputId": "f8f9bce4-4794-4f12-efcd-d181dfc45e4d"
      },
      "execution_count": null,
      "outputs": [
        {
          "output_type": "stream",
          "name": "stdout",
          "text": [
            "Accuracy of KNN  0.63\n"
          ]
        }
      ]
    },
    {
      "cell_type": "code",
      "source": [
        "from sklearn.cluster import KMeans\n",
        "# since class is target col and ticker is object/chracter col\n",
        "X_class = df.drop(['CLASS','TICKER','Unnamed: 0'],axis=1) \t# end index is exclusive\n",
        "\n",
        "k_mean = KMeans()\n",
        "\n",
        "#number of clusters will be decided by K-mean++ , by default \n",
        "k_mean_model_1 = k_mean.fit(X_class)\n",
        "\n",
        "print(\"Number of clusters\",k_mean_model_1.n_clusters)"
      ],
      "metadata": {
        "id": "qSjSGDpszwqT",
        "colab": {
          "base_uri": "https://localhost:8080/"
        },
        "outputId": "48cf63d1-b9d2-468f-ef04-a01744df9ec3"
      },
      "execution_count": null,
      "outputs": [
        {
          "output_type": "stream",
          "name": "stdout",
          "text": [
            "Number of clusters 8\n"
          ]
        }
      ]
    },
    {
      "cell_type": "code",
      "source": [
        "df.head()"
      ],
      "metadata": {
        "id": "35VbUY5uz5Ku",
        "colab": {
          "base_uri": "https://localhost:8080/",
          "height": 267
        },
        "outputId": "c2fd2231-c1b6-4954-df09-0f870cdb6a5e"
      },
      "execution_count": null,
      "outputs": [
        {
          "output_type": "execute_result",
          "data": {
            "text/plain": [
              "   Unnamed: 0 TICKER   CLASS  Coef for open  Coef for high  Coef for low  \\\n",
              "0           0    XRX  Medium       0.002190       0.429211      0.567883   \n",
              "1           1   XRAY  Medium       0.086401       0.685318      0.227484   \n",
              "2           2    XOM     Low       0.000758       0.644630      0.352740   \n",
              "3           3   XLNX  Medium       0.219305       0.197295      0.582867   \n",
              "4           4     XL  Medium       0.001729       0.802704      0.194414   \n",
              "\n",
              "   Coef for volume  Coef for change within day  Coef for change from prev day  \n",
              "0         0.000199                    0.000217                       0.000301  \n",
              "1         0.000221                    0.000239                       0.000337  \n",
              "2         0.000654                    0.000665                       0.000553  \n",
              "3         0.000148                    0.000167                       0.000217  \n",
              "4         0.000375                    0.000276                       0.000503  "
            ],
            "text/html": [
              "\n",
              "  <div id=\"df-ce5144d4-8480-44d5-9121-1ce5dcc46d5a\">\n",
              "    <div class=\"colab-df-container\">\n",
              "      <div>\n",
              "<style scoped>\n",
              "    .dataframe tbody tr th:only-of-type {\n",
              "        vertical-align: middle;\n",
              "    }\n",
              "\n",
              "    .dataframe tbody tr th {\n",
              "        vertical-align: top;\n",
              "    }\n",
              "\n",
              "    .dataframe thead th {\n",
              "        text-align: right;\n",
              "    }\n",
              "</style>\n",
              "<table border=\"1\" class=\"dataframe\">\n",
              "  <thead>\n",
              "    <tr style=\"text-align: right;\">\n",
              "      <th></th>\n",
              "      <th>Unnamed: 0</th>\n",
              "      <th>TICKER</th>\n",
              "      <th>CLASS</th>\n",
              "      <th>Coef for open</th>\n",
              "      <th>Coef for high</th>\n",
              "      <th>Coef for low</th>\n",
              "      <th>Coef for volume</th>\n",
              "      <th>Coef for change within day</th>\n",
              "      <th>Coef for change from prev day</th>\n",
              "    </tr>\n",
              "  </thead>\n",
              "  <tbody>\n",
              "    <tr>\n",
              "      <th>0</th>\n",
              "      <td>0</td>\n",
              "      <td>XRX</td>\n",
              "      <td>Medium</td>\n",
              "      <td>0.002190</td>\n",
              "      <td>0.429211</td>\n",
              "      <td>0.567883</td>\n",
              "      <td>0.000199</td>\n",
              "      <td>0.000217</td>\n",
              "      <td>0.000301</td>\n",
              "    </tr>\n",
              "    <tr>\n",
              "      <th>1</th>\n",
              "      <td>1</td>\n",
              "      <td>XRAY</td>\n",
              "      <td>Medium</td>\n",
              "      <td>0.086401</td>\n",
              "      <td>0.685318</td>\n",
              "      <td>0.227484</td>\n",
              "      <td>0.000221</td>\n",
              "      <td>0.000239</td>\n",
              "      <td>0.000337</td>\n",
              "    </tr>\n",
              "    <tr>\n",
              "      <th>2</th>\n",
              "      <td>2</td>\n",
              "      <td>XOM</td>\n",
              "      <td>Low</td>\n",
              "      <td>0.000758</td>\n",
              "      <td>0.644630</td>\n",
              "      <td>0.352740</td>\n",
              "      <td>0.000654</td>\n",
              "      <td>0.000665</td>\n",
              "      <td>0.000553</td>\n",
              "    </tr>\n",
              "    <tr>\n",
              "      <th>3</th>\n",
              "      <td>3</td>\n",
              "      <td>XLNX</td>\n",
              "      <td>Medium</td>\n",
              "      <td>0.219305</td>\n",
              "      <td>0.197295</td>\n",
              "      <td>0.582867</td>\n",
              "      <td>0.000148</td>\n",
              "      <td>0.000167</td>\n",
              "      <td>0.000217</td>\n",
              "    </tr>\n",
              "    <tr>\n",
              "      <th>4</th>\n",
              "      <td>4</td>\n",
              "      <td>XL</td>\n",
              "      <td>Medium</td>\n",
              "      <td>0.001729</td>\n",
              "      <td>0.802704</td>\n",
              "      <td>0.194414</td>\n",
              "      <td>0.000375</td>\n",
              "      <td>0.000276</td>\n",
              "      <td>0.000503</td>\n",
              "    </tr>\n",
              "  </tbody>\n",
              "</table>\n",
              "</div>\n",
              "      <button class=\"colab-df-convert\" onclick=\"convertToInteractive('df-ce5144d4-8480-44d5-9121-1ce5dcc46d5a')\"\n",
              "              title=\"Convert this dataframe to an interactive table.\"\n",
              "              style=\"display:none;\">\n",
              "        \n",
              "  <svg xmlns=\"http://www.w3.org/2000/svg\" height=\"24px\"viewBox=\"0 0 24 24\"\n",
              "       width=\"24px\">\n",
              "    <path d=\"M0 0h24v24H0V0z\" fill=\"none\"/>\n",
              "    <path d=\"M18.56 5.44l.94 2.06.94-2.06 2.06-.94-2.06-.94-.94-2.06-.94 2.06-2.06.94zm-11 1L8.5 8.5l.94-2.06 2.06-.94-2.06-.94L8.5 2.5l-.94 2.06-2.06.94zm10 10l.94 2.06.94-2.06 2.06-.94-2.06-.94-.94-2.06-.94 2.06-2.06.94z\"/><path d=\"M17.41 7.96l-1.37-1.37c-.4-.4-.92-.59-1.43-.59-.52 0-1.04.2-1.43.59L10.3 9.45l-7.72 7.72c-.78.78-.78 2.05 0 2.83L4 21.41c.39.39.9.59 1.41.59.51 0 1.02-.2 1.41-.59l7.78-7.78 2.81-2.81c.8-.78.8-2.07 0-2.86zM5.41 20L4 18.59l7.72-7.72 1.47 1.35L5.41 20z\"/>\n",
              "  </svg>\n",
              "      </button>\n",
              "      \n",
              "  <style>\n",
              "    .colab-df-container {\n",
              "      display:flex;\n",
              "      flex-wrap:wrap;\n",
              "      gap: 12px;\n",
              "    }\n",
              "\n",
              "    .colab-df-convert {\n",
              "      background-color: #E8F0FE;\n",
              "      border: none;\n",
              "      border-radius: 50%;\n",
              "      cursor: pointer;\n",
              "      display: none;\n",
              "      fill: #1967D2;\n",
              "      height: 32px;\n",
              "      padding: 0 0 0 0;\n",
              "      width: 32px;\n",
              "    }\n",
              "\n",
              "    .colab-df-convert:hover {\n",
              "      background-color: #E2EBFA;\n",
              "      box-shadow: 0px 1px 2px rgba(60, 64, 67, 0.3), 0px 1px 3px 1px rgba(60, 64, 67, 0.15);\n",
              "      fill: #174EA6;\n",
              "    }\n",
              "\n",
              "    [theme=dark] .colab-df-convert {\n",
              "      background-color: #3B4455;\n",
              "      fill: #D2E3FC;\n",
              "    }\n",
              "\n",
              "    [theme=dark] .colab-df-convert:hover {\n",
              "      background-color: #434B5C;\n",
              "      box-shadow: 0px 1px 3px 1px rgba(0, 0, 0, 0.15);\n",
              "      filter: drop-shadow(0px 1px 2px rgba(0, 0, 0, 0.3));\n",
              "      fill: #FFFFFF;\n",
              "    }\n",
              "  </style>\n",
              "\n",
              "      <script>\n",
              "        const buttonEl =\n",
              "          document.querySelector('#df-ce5144d4-8480-44d5-9121-1ce5dcc46d5a button.colab-df-convert');\n",
              "        buttonEl.style.display =\n",
              "          google.colab.kernel.accessAllowed ? 'block' : 'none';\n",
              "\n",
              "        async function convertToInteractive(key) {\n",
              "          const element = document.querySelector('#df-ce5144d4-8480-44d5-9121-1ce5dcc46d5a');\n",
              "          const dataTable =\n",
              "            await google.colab.kernel.invokeFunction('convertToInteractive',\n",
              "                                                     [key], {});\n",
              "          if (!dataTable) return;\n",
              "\n",
              "          const docLinkHtml = 'Like what you see? Visit the ' +\n",
              "            '<a target=\"_blank\" href=https://colab.research.google.com/notebooks/data_table.ipynb>data table notebook</a>'\n",
              "            + ' to learn more about interactive tables.';\n",
              "          element.innerHTML = '';\n",
              "          dataTable['output_type'] = 'display_data';\n",
              "          await google.colab.output.renderOutput(dataTable, element);\n",
              "          const docLink = document.createElement('div');\n",
              "          docLink.innerHTML = docLinkHtml;\n",
              "          element.appendChild(docLink);\n",
              "        }\n",
              "      </script>\n",
              "    </div>\n",
              "  </div>\n",
              "  "
            ]
          },
          "metadata": {},
          "execution_count": 87
        }
      ]
    },
    {
      "cell_type": "code",
      "source": [
        "#Predicting the cluster assignment for 500 stocks \n",
        "\n",
        "#Dropping the CLASS column added as part of classification , we don't need for clustering\n",
        "df_cluster = df.drop(['CLASS'], axis=1)\n",
        "\n",
        "#Selecting features from dataframe , there are 6 features \n",
        "X_cluster = df.drop(['CLASS','TICKER'], axis=1)\n",
        "\n",
        "y_pred = k_mean_model_1.predict(X_cluster)\n",
        "\n",
        "pred_df = pd.DataFrame({ 'Stock': df_cluster['TICKER'],'Cluster': y_pred})"
      ],
      "metadata": {
        "id": "MhZuWzeHz7zs"
      },
      "execution_count": null,
      "outputs": []
    },
    {
      "cell_type": "code",
      "source": [
        "labels =k_mean_model_1.labels_\n",
        "labels"
      ],
      "metadata": {
        "id": "GkvG9L44z-7M",
        "colab": {
          "base_uri": "https://localhost:8080/"
        },
        "outputId": "1c64d028-c1d3-4619-eb45-da213e5f6f5e"
      },
      "execution_count": null,
      "outputs": [
        {
          "output_type": "execute_result",
          "data": {
            "text/plain": [
              "array([5, 5, 5, 5, 5, 5, 5, 5, 5, 5, 5, 5, 5, 5, 5, 5, 5, 5, 5, 5, 5, 5,\n",
              "       5, 5, 5, 5, 5, 5, 5, 5, 5, 5, 5, 5, 5, 5, 5, 5, 5, 5, 5, 5, 5, 5,\n",
              "       5, 5, 5, 5, 5, 5, 5, 5, 5, 5, 5, 5, 5, 5, 5, 5, 1, 1, 1, 1, 1, 1,\n",
              "       1, 1, 1, 1, 1, 1, 1, 1, 1, 1, 1, 1, 1, 1, 1, 1, 1, 1, 1, 1, 1, 1,\n",
              "       1, 1, 1, 1, 1, 1, 1, 1, 1, 1, 1, 1, 1, 1, 1, 1, 1, 1, 1, 1, 1, 1,\n",
              "       1, 1, 1, 1, 1, 1, 1, 1, 1, 1, 1, 6, 6, 6, 6, 6, 6, 6, 6, 6, 6, 6,\n",
              "       6, 6, 6, 6, 6, 6, 6, 6, 6, 6, 6, 6, 6, 6, 6, 6, 6, 6, 6, 6, 6, 6,\n",
              "       6, 6, 6, 6, 6, 6, 6, 6, 6, 6, 6, 6, 6, 6, 6, 6, 6, 6, 6, 6, 6, 6,\n",
              "       6, 6, 6, 6, 6, 6, 6, 3, 3, 3, 3, 3, 3, 3, 3, 3, 3, 3, 3, 3, 3, 3,\n",
              "       3, 3, 3, 3, 3, 3, 3, 3, 3, 3, 3, 3, 3, 3, 3, 3, 3, 3, 3, 3, 3, 3,\n",
              "       3, 3, 3, 3, 3, 3, 3, 3, 3, 3, 3, 3, 3, 3, 3, 3, 3, 3, 3, 3, 3, 3,\n",
              "       3, 3, 3, 3, 0, 0, 0, 0, 0, 0, 0, 0, 0, 0, 0, 0, 0, 0, 0, 0, 0, 0,\n",
              "       0, 0, 0, 0, 0, 0, 0, 0, 0, 0, 0, 0, 0, 0, 0, 0, 0, 0, 0, 0, 0, 0,\n",
              "       0, 0, 0, 0, 0, 0, 0, 0, 0, 0, 0, 0, 0, 0, 0, 0, 0, 0, 0, 0, 0, 0,\n",
              "       0, 0, 0, 4, 4, 4, 4, 4, 4, 4, 4, 4, 4, 4, 4, 4, 4, 4, 4, 4, 4, 4,\n",
              "       4, 4, 4, 4, 4, 4, 4, 4, 4, 4, 4, 4, 4, 4, 4, 4, 4, 4, 4, 4, 4, 4,\n",
              "       4, 4, 4, 4, 4, 4, 4, 4, 4, 4, 4, 4, 4, 4, 4, 4, 4, 4, 4, 4, 4, 4,\n",
              "       4, 7, 7, 7, 7, 7, 7, 7, 7, 7, 7, 7, 7, 7, 7, 7, 7, 7, 7, 7, 7, 7,\n",
              "       7, 7, 7, 7, 7, 7, 7, 7, 7, 7, 7, 7, 7, 7, 7, 7, 7, 7, 7, 7, 7, 7,\n",
              "       7, 7, 7, 7, 7, 7, 7, 7, 7, 7, 7, 7, 7, 7, 7, 7, 7, 7, 7, 7, 2, 2,\n",
              "       2, 2, 2, 2, 2, 2, 2, 2, 2, 2, 2, 2, 2, 2, 2, 2, 2, 2, 2, 2, 2, 2,\n",
              "       2, 2, 2, 2, 2, 2, 2, 2, 2, 2, 2, 2, 2, 2, 2, 2, 2, 2, 2, 2, 2, 2,\n",
              "       2, 2, 2, 2, 2, 2, 2, 2, 2, 2, 2, 2, 2, 2, 2, 2], dtype=int32)"
            ]
          },
          "metadata": {},
          "execution_count": 179
        }
      ]
    },
    {
      "cell_type": "code",
      "source": [
        "pred_df.head(n=20)"
      ],
      "metadata": {
        "id": "ggVAUSy_0Brw",
        "colab": {
          "base_uri": "https://localhost:8080/",
          "height": 676
        },
        "outputId": "506ee816-e08f-4348-c646-e58f726065de"
      },
      "execution_count": null,
      "outputs": [
        {
          "output_type": "execute_result",
          "data": {
            "text/plain": [
              "   Stock  Cluster\n",
              "0    XRX        5\n",
              "1   XRAY        5\n",
              "2    XOM        5\n",
              "3   XLNX        5\n",
              "4     XL        5\n",
              "5    XEL        5\n",
              "6    XEC        5\n",
              "7   WYNN        5\n",
              "8    WYN        5\n",
              "9     WY        5\n",
              "10    WU        5\n",
              "11   WRK        5\n",
              "12   WMT        5\n",
              "13   WMB        5\n",
              "14    WM        5\n",
              "15  WLTW        5\n",
              "16   WHR        5\n",
              "17   WFC        5\n",
              "18   WEC        5\n",
              "19   WDC        5"
            ],
            "text/html": [
              "\n",
              "  <div id=\"df-a172105a-9176-416b-bf4a-24ccc42b28dc\">\n",
              "    <div class=\"colab-df-container\">\n",
              "      <div>\n",
              "<style scoped>\n",
              "    .dataframe tbody tr th:only-of-type {\n",
              "        vertical-align: middle;\n",
              "    }\n",
              "\n",
              "    .dataframe tbody tr th {\n",
              "        vertical-align: top;\n",
              "    }\n",
              "\n",
              "    .dataframe thead th {\n",
              "        text-align: right;\n",
              "    }\n",
              "</style>\n",
              "<table border=\"1\" class=\"dataframe\">\n",
              "  <thead>\n",
              "    <tr style=\"text-align: right;\">\n",
              "      <th></th>\n",
              "      <th>Stock</th>\n",
              "      <th>Cluster</th>\n",
              "    </tr>\n",
              "  </thead>\n",
              "  <tbody>\n",
              "    <tr>\n",
              "      <th>0</th>\n",
              "      <td>XRX</td>\n",
              "      <td>5</td>\n",
              "    </tr>\n",
              "    <tr>\n",
              "      <th>1</th>\n",
              "      <td>XRAY</td>\n",
              "      <td>5</td>\n",
              "    </tr>\n",
              "    <tr>\n",
              "      <th>2</th>\n",
              "      <td>XOM</td>\n",
              "      <td>5</td>\n",
              "    </tr>\n",
              "    <tr>\n",
              "      <th>3</th>\n",
              "      <td>XLNX</td>\n",
              "      <td>5</td>\n",
              "    </tr>\n",
              "    <tr>\n",
              "      <th>4</th>\n",
              "      <td>XL</td>\n",
              "      <td>5</td>\n",
              "    </tr>\n",
              "    <tr>\n",
              "      <th>5</th>\n",
              "      <td>XEL</td>\n",
              "      <td>5</td>\n",
              "    </tr>\n",
              "    <tr>\n",
              "      <th>6</th>\n",
              "      <td>XEC</td>\n",
              "      <td>5</td>\n",
              "    </tr>\n",
              "    <tr>\n",
              "      <th>7</th>\n",
              "      <td>WYNN</td>\n",
              "      <td>5</td>\n",
              "    </tr>\n",
              "    <tr>\n",
              "      <th>8</th>\n",
              "      <td>WYN</td>\n",
              "      <td>5</td>\n",
              "    </tr>\n",
              "    <tr>\n",
              "      <th>9</th>\n",
              "      <td>WY</td>\n",
              "      <td>5</td>\n",
              "    </tr>\n",
              "    <tr>\n",
              "      <th>10</th>\n",
              "      <td>WU</td>\n",
              "      <td>5</td>\n",
              "    </tr>\n",
              "    <tr>\n",
              "      <th>11</th>\n",
              "      <td>WRK</td>\n",
              "      <td>5</td>\n",
              "    </tr>\n",
              "    <tr>\n",
              "      <th>12</th>\n",
              "      <td>WMT</td>\n",
              "      <td>5</td>\n",
              "    </tr>\n",
              "    <tr>\n",
              "      <th>13</th>\n",
              "      <td>WMB</td>\n",
              "      <td>5</td>\n",
              "    </tr>\n",
              "    <tr>\n",
              "      <th>14</th>\n",
              "      <td>WM</td>\n",
              "      <td>5</td>\n",
              "    </tr>\n",
              "    <tr>\n",
              "      <th>15</th>\n",
              "      <td>WLTW</td>\n",
              "      <td>5</td>\n",
              "    </tr>\n",
              "    <tr>\n",
              "      <th>16</th>\n",
              "      <td>WHR</td>\n",
              "      <td>5</td>\n",
              "    </tr>\n",
              "    <tr>\n",
              "      <th>17</th>\n",
              "      <td>WFC</td>\n",
              "      <td>5</td>\n",
              "    </tr>\n",
              "    <tr>\n",
              "      <th>18</th>\n",
              "      <td>WEC</td>\n",
              "      <td>5</td>\n",
              "    </tr>\n",
              "    <tr>\n",
              "      <th>19</th>\n",
              "      <td>WDC</td>\n",
              "      <td>5</td>\n",
              "    </tr>\n",
              "  </tbody>\n",
              "</table>\n",
              "</div>\n",
              "      <button class=\"colab-df-convert\" onclick=\"convertToInteractive('df-a172105a-9176-416b-bf4a-24ccc42b28dc')\"\n",
              "              title=\"Convert this dataframe to an interactive table.\"\n",
              "              style=\"display:none;\">\n",
              "        \n",
              "  <svg xmlns=\"http://www.w3.org/2000/svg\" height=\"24px\"viewBox=\"0 0 24 24\"\n",
              "       width=\"24px\">\n",
              "    <path d=\"M0 0h24v24H0V0z\" fill=\"none\"/>\n",
              "    <path d=\"M18.56 5.44l.94 2.06.94-2.06 2.06-.94-2.06-.94-.94-2.06-.94 2.06-2.06.94zm-11 1L8.5 8.5l.94-2.06 2.06-.94-2.06-.94L8.5 2.5l-.94 2.06-2.06.94zm10 10l.94 2.06.94-2.06 2.06-.94-2.06-.94-.94-2.06-.94 2.06-2.06.94z\"/><path d=\"M17.41 7.96l-1.37-1.37c-.4-.4-.92-.59-1.43-.59-.52 0-1.04.2-1.43.59L10.3 9.45l-7.72 7.72c-.78.78-.78 2.05 0 2.83L4 21.41c.39.39.9.59 1.41.59.51 0 1.02-.2 1.41-.59l7.78-7.78 2.81-2.81c.8-.78.8-2.07 0-2.86zM5.41 20L4 18.59l7.72-7.72 1.47 1.35L5.41 20z\"/>\n",
              "  </svg>\n",
              "      </button>\n",
              "      \n",
              "  <style>\n",
              "    .colab-df-container {\n",
              "      display:flex;\n",
              "      flex-wrap:wrap;\n",
              "      gap: 12px;\n",
              "    }\n",
              "\n",
              "    .colab-df-convert {\n",
              "      background-color: #E8F0FE;\n",
              "      border: none;\n",
              "      border-radius: 50%;\n",
              "      cursor: pointer;\n",
              "      display: none;\n",
              "      fill: #1967D2;\n",
              "      height: 32px;\n",
              "      padding: 0 0 0 0;\n",
              "      width: 32px;\n",
              "    }\n",
              "\n",
              "    .colab-df-convert:hover {\n",
              "      background-color: #E2EBFA;\n",
              "      box-shadow: 0px 1px 2px rgba(60, 64, 67, 0.3), 0px 1px 3px 1px rgba(60, 64, 67, 0.15);\n",
              "      fill: #174EA6;\n",
              "    }\n",
              "\n",
              "    [theme=dark] .colab-df-convert {\n",
              "      background-color: #3B4455;\n",
              "      fill: #D2E3FC;\n",
              "    }\n",
              "\n",
              "    [theme=dark] .colab-df-convert:hover {\n",
              "      background-color: #434B5C;\n",
              "      box-shadow: 0px 1px 3px 1px rgba(0, 0, 0, 0.15);\n",
              "      filter: drop-shadow(0px 1px 2px rgba(0, 0, 0, 0.3));\n",
              "      fill: #FFFFFF;\n",
              "    }\n",
              "  </style>\n",
              "\n",
              "      <script>\n",
              "        const buttonEl =\n",
              "          document.querySelector('#df-a172105a-9176-416b-bf4a-24ccc42b28dc button.colab-df-convert');\n",
              "        buttonEl.style.display =\n",
              "          google.colab.kernel.accessAllowed ? 'block' : 'none';\n",
              "\n",
              "        async function convertToInteractive(key) {\n",
              "          const element = document.querySelector('#df-a172105a-9176-416b-bf4a-24ccc42b28dc');\n",
              "          const dataTable =\n",
              "            await google.colab.kernel.invokeFunction('convertToInteractive',\n",
              "                                                     [key], {});\n",
              "          if (!dataTable) return;\n",
              "\n",
              "          const docLinkHtml = 'Like what you see? Visit the ' +\n",
              "            '<a target=\"_blank\" href=https://colab.research.google.com/notebooks/data_table.ipynb>data table notebook</a>'\n",
              "            + ' to learn more about interactive tables.';\n",
              "          element.innerHTML = '';\n",
              "          dataTable['output_type'] = 'display_data';\n",
              "          await google.colab.output.renderOutput(dataTable, element);\n",
              "          const docLink = document.createElement('div');\n",
              "          docLink.innerHTML = docLinkHtml;\n",
              "          element.appendChild(docLink);\n",
              "        }\n",
              "      </script>\n",
              "    </div>\n",
              "  </div>\n",
              "  "
            ]
          },
          "metadata": {},
          "execution_count": 180
        }
      ]
    },
    {
      "cell_type": "markdown",
      "source": [
        "      Appling kmeans"
      ],
      "metadata": {
        "id": "ZZUGC5BYGtrd"
      }
    },
    {
      "cell_type": "code",
      "source": [
        "df.head()"
      ],
      "metadata": {
        "colab": {
          "base_uri": "https://localhost:8080/",
          "height": 267
        },
        "id": "bTmOFVhETfLv",
        "outputId": "79120ddb-c9a8-489b-8403-7873164cf022"
      },
      "execution_count": null,
      "outputs": [
        {
          "output_type": "execute_result",
          "data": {
            "text/plain": [
              "   Unnamed: 0 TICKER   CLASS  Coef for open  Coef for high  Coef for low  \\\n",
              "0           0    XRX  Medium       0.002190       0.429211      0.567883   \n",
              "1           1   XRAY  Medium       0.086401       0.685318      0.227484   \n",
              "2           2    XOM     Low       0.000758       0.644630      0.352740   \n",
              "3           3   XLNX  Medium       0.219305       0.197295      0.582867   \n",
              "4           4     XL  Medium       0.001729       0.802704      0.194414   \n",
              "\n",
              "   Coef for volume  Coef for change within day  Coef for change from prev day  \n",
              "0         0.000199                    0.000217                       0.000301  \n",
              "1         0.000221                    0.000239                       0.000337  \n",
              "2         0.000654                    0.000665                       0.000553  \n",
              "3         0.000148                    0.000167                       0.000217  \n",
              "4         0.000375                    0.000276                       0.000503  "
            ],
            "text/html": [
              "\n",
              "  <div id=\"df-dd7f56f5-210f-41ee-b034-fe3387b56813\">\n",
              "    <div class=\"colab-df-container\">\n",
              "      <div>\n",
              "<style scoped>\n",
              "    .dataframe tbody tr th:only-of-type {\n",
              "        vertical-align: middle;\n",
              "    }\n",
              "\n",
              "    .dataframe tbody tr th {\n",
              "        vertical-align: top;\n",
              "    }\n",
              "\n",
              "    .dataframe thead th {\n",
              "        text-align: right;\n",
              "    }\n",
              "</style>\n",
              "<table border=\"1\" class=\"dataframe\">\n",
              "  <thead>\n",
              "    <tr style=\"text-align: right;\">\n",
              "      <th></th>\n",
              "      <th>Unnamed: 0</th>\n",
              "      <th>TICKER</th>\n",
              "      <th>CLASS</th>\n",
              "      <th>Coef for open</th>\n",
              "      <th>Coef for high</th>\n",
              "      <th>Coef for low</th>\n",
              "      <th>Coef for volume</th>\n",
              "      <th>Coef for change within day</th>\n",
              "      <th>Coef for change from prev day</th>\n",
              "    </tr>\n",
              "  </thead>\n",
              "  <tbody>\n",
              "    <tr>\n",
              "      <th>0</th>\n",
              "      <td>0</td>\n",
              "      <td>XRX</td>\n",
              "      <td>Medium</td>\n",
              "      <td>0.002190</td>\n",
              "      <td>0.429211</td>\n",
              "      <td>0.567883</td>\n",
              "      <td>0.000199</td>\n",
              "      <td>0.000217</td>\n",
              "      <td>0.000301</td>\n",
              "    </tr>\n",
              "    <tr>\n",
              "      <th>1</th>\n",
              "      <td>1</td>\n",
              "      <td>XRAY</td>\n",
              "      <td>Medium</td>\n",
              "      <td>0.086401</td>\n",
              "      <td>0.685318</td>\n",
              "      <td>0.227484</td>\n",
              "      <td>0.000221</td>\n",
              "      <td>0.000239</td>\n",
              "      <td>0.000337</td>\n",
              "    </tr>\n",
              "    <tr>\n",
              "      <th>2</th>\n",
              "      <td>2</td>\n",
              "      <td>XOM</td>\n",
              "      <td>Low</td>\n",
              "      <td>0.000758</td>\n",
              "      <td>0.644630</td>\n",
              "      <td>0.352740</td>\n",
              "      <td>0.000654</td>\n",
              "      <td>0.000665</td>\n",
              "      <td>0.000553</td>\n",
              "    </tr>\n",
              "    <tr>\n",
              "      <th>3</th>\n",
              "      <td>3</td>\n",
              "      <td>XLNX</td>\n",
              "      <td>Medium</td>\n",
              "      <td>0.219305</td>\n",
              "      <td>0.197295</td>\n",
              "      <td>0.582867</td>\n",
              "      <td>0.000148</td>\n",
              "      <td>0.000167</td>\n",
              "      <td>0.000217</td>\n",
              "    </tr>\n",
              "    <tr>\n",
              "      <th>4</th>\n",
              "      <td>4</td>\n",
              "      <td>XL</td>\n",
              "      <td>Medium</td>\n",
              "      <td>0.001729</td>\n",
              "      <td>0.802704</td>\n",
              "      <td>0.194414</td>\n",
              "      <td>0.000375</td>\n",
              "      <td>0.000276</td>\n",
              "      <td>0.000503</td>\n",
              "    </tr>\n",
              "  </tbody>\n",
              "</table>\n",
              "</div>\n",
              "      <button class=\"colab-df-convert\" onclick=\"convertToInteractive('df-dd7f56f5-210f-41ee-b034-fe3387b56813')\"\n",
              "              title=\"Convert this dataframe to an interactive table.\"\n",
              "              style=\"display:none;\">\n",
              "        \n",
              "  <svg xmlns=\"http://www.w3.org/2000/svg\" height=\"24px\"viewBox=\"0 0 24 24\"\n",
              "       width=\"24px\">\n",
              "    <path d=\"M0 0h24v24H0V0z\" fill=\"none\"/>\n",
              "    <path d=\"M18.56 5.44l.94 2.06.94-2.06 2.06-.94-2.06-.94-.94-2.06-.94 2.06-2.06.94zm-11 1L8.5 8.5l.94-2.06 2.06-.94-2.06-.94L8.5 2.5l-.94 2.06-2.06.94zm10 10l.94 2.06.94-2.06 2.06-.94-2.06-.94-.94-2.06-.94 2.06-2.06.94z\"/><path d=\"M17.41 7.96l-1.37-1.37c-.4-.4-.92-.59-1.43-.59-.52 0-1.04.2-1.43.59L10.3 9.45l-7.72 7.72c-.78.78-.78 2.05 0 2.83L4 21.41c.39.39.9.59 1.41.59.51 0 1.02-.2 1.41-.59l7.78-7.78 2.81-2.81c.8-.78.8-2.07 0-2.86zM5.41 20L4 18.59l7.72-7.72 1.47 1.35L5.41 20z\"/>\n",
              "  </svg>\n",
              "      </button>\n",
              "      \n",
              "  <style>\n",
              "    .colab-df-container {\n",
              "      display:flex;\n",
              "      flex-wrap:wrap;\n",
              "      gap: 12px;\n",
              "    }\n",
              "\n",
              "    .colab-df-convert {\n",
              "      background-color: #E8F0FE;\n",
              "      border: none;\n",
              "      border-radius: 50%;\n",
              "      cursor: pointer;\n",
              "      display: none;\n",
              "      fill: #1967D2;\n",
              "      height: 32px;\n",
              "      padding: 0 0 0 0;\n",
              "      width: 32px;\n",
              "    }\n",
              "\n",
              "    .colab-df-convert:hover {\n",
              "      background-color: #E2EBFA;\n",
              "      box-shadow: 0px 1px 2px rgba(60, 64, 67, 0.3), 0px 1px 3px 1px rgba(60, 64, 67, 0.15);\n",
              "      fill: #174EA6;\n",
              "    }\n",
              "\n",
              "    [theme=dark] .colab-df-convert {\n",
              "      background-color: #3B4455;\n",
              "      fill: #D2E3FC;\n",
              "    }\n",
              "\n",
              "    [theme=dark] .colab-df-convert:hover {\n",
              "      background-color: #434B5C;\n",
              "      box-shadow: 0px 1px 3px 1px rgba(0, 0, 0, 0.15);\n",
              "      filter: drop-shadow(0px 1px 2px rgba(0, 0, 0, 0.3));\n",
              "      fill: #FFFFFF;\n",
              "    }\n",
              "  </style>\n",
              "\n",
              "      <script>\n",
              "        const buttonEl =\n",
              "          document.querySelector('#df-dd7f56f5-210f-41ee-b034-fe3387b56813 button.colab-df-convert');\n",
              "        buttonEl.style.display =\n",
              "          google.colab.kernel.accessAllowed ? 'block' : 'none';\n",
              "\n",
              "        async function convertToInteractive(key) {\n",
              "          const element = document.querySelector('#df-dd7f56f5-210f-41ee-b034-fe3387b56813');\n",
              "          const dataTable =\n",
              "            await google.colab.kernel.invokeFunction('convertToInteractive',\n",
              "                                                     [key], {});\n",
              "          if (!dataTable) return;\n",
              "\n",
              "          const docLinkHtml = 'Like what you see? Visit the ' +\n",
              "            '<a target=\"_blank\" href=https://colab.research.google.com/notebooks/data_table.ipynb>data table notebook</a>'\n",
              "            + ' to learn more about interactive tables.';\n",
              "          element.innerHTML = '';\n",
              "          dataTable['output_type'] = 'display_data';\n",
              "          await google.colab.output.renderOutput(dataTable, element);\n",
              "          const docLink = document.createElement('div');\n",
              "          docLink.innerHTML = docLinkHtml;\n",
              "          element.appendChild(docLink);\n",
              "        }\n",
              "      </script>\n",
              "    </div>\n",
              "  </div>\n",
              "  "
            ]
          },
          "metadata": {},
          "execution_count": 107
        }
      ]
    },
    {
      "cell_type": "code",
      "source": [
        "from sklearn.cluster import KMeans\n",
        "\n",
        "X_class = df.drop(['CLASS','TICKER','Unnamed: 0'],axis=1) \t# end index is exclusive\n",
        "X_class.head()"
      ],
      "metadata": {
        "colab": {
          "base_uri": "https://localhost:8080/",
          "height": 250
        },
        "id": "iuTLP6MGTmqb",
        "outputId": "828b8b12-1f53-42a1-8c26-473e01a43690"
      },
      "execution_count": null,
      "outputs": [
        {
          "output_type": "execute_result",
          "data": {
            "text/plain": [
              "   Coef for open  Coef for high  Coef for low  Coef for volume  \\\n",
              "0       0.002190       0.429211      0.567883         0.000199   \n",
              "1       0.086401       0.685318      0.227484         0.000221   \n",
              "2       0.000758       0.644630      0.352740         0.000654   \n",
              "3       0.219305       0.197295      0.582867         0.000148   \n",
              "4       0.001729       0.802704      0.194414         0.000375   \n",
              "\n",
              "   Coef for change within day  Coef for change from prev day  \n",
              "0                    0.000217                       0.000301  \n",
              "1                    0.000239                       0.000337  \n",
              "2                    0.000665                       0.000553  \n",
              "3                    0.000167                       0.000217  \n",
              "4                    0.000276                       0.000503  "
            ],
            "text/html": [
              "\n",
              "  <div id=\"df-e8f67420-7ecf-4ad1-aeeb-5addd10970e6\">\n",
              "    <div class=\"colab-df-container\">\n",
              "      <div>\n",
              "<style scoped>\n",
              "    .dataframe tbody tr th:only-of-type {\n",
              "        vertical-align: middle;\n",
              "    }\n",
              "\n",
              "    .dataframe tbody tr th {\n",
              "        vertical-align: top;\n",
              "    }\n",
              "\n",
              "    .dataframe thead th {\n",
              "        text-align: right;\n",
              "    }\n",
              "</style>\n",
              "<table border=\"1\" class=\"dataframe\">\n",
              "  <thead>\n",
              "    <tr style=\"text-align: right;\">\n",
              "      <th></th>\n",
              "      <th>Coef for open</th>\n",
              "      <th>Coef for high</th>\n",
              "      <th>Coef for low</th>\n",
              "      <th>Coef for volume</th>\n",
              "      <th>Coef for change within day</th>\n",
              "      <th>Coef for change from prev day</th>\n",
              "    </tr>\n",
              "  </thead>\n",
              "  <tbody>\n",
              "    <tr>\n",
              "      <th>0</th>\n",
              "      <td>0.002190</td>\n",
              "      <td>0.429211</td>\n",
              "      <td>0.567883</td>\n",
              "      <td>0.000199</td>\n",
              "      <td>0.000217</td>\n",
              "      <td>0.000301</td>\n",
              "    </tr>\n",
              "    <tr>\n",
              "      <th>1</th>\n",
              "      <td>0.086401</td>\n",
              "      <td>0.685318</td>\n",
              "      <td>0.227484</td>\n",
              "      <td>0.000221</td>\n",
              "      <td>0.000239</td>\n",
              "      <td>0.000337</td>\n",
              "    </tr>\n",
              "    <tr>\n",
              "      <th>2</th>\n",
              "      <td>0.000758</td>\n",
              "      <td>0.644630</td>\n",
              "      <td>0.352740</td>\n",
              "      <td>0.000654</td>\n",
              "      <td>0.000665</td>\n",
              "      <td>0.000553</td>\n",
              "    </tr>\n",
              "    <tr>\n",
              "      <th>3</th>\n",
              "      <td>0.219305</td>\n",
              "      <td>0.197295</td>\n",
              "      <td>0.582867</td>\n",
              "      <td>0.000148</td>\n",
              "      <td>0.000167</td>\n",
              "      <td>0.000217</td>\n",
              "    </tr>\n",
              "    <tr>\n",
              "      <th>4</th>\n",
              "      <td>0.001729</td>\n",
              "      <td>0.802704</td>\n",
              "      <td>0.194414</td>\n",
              "      <td>0.000375</td>\n",
              "      <td>0.000276</td>\n",
              "      <td>0.000503</td>\n",
              "    </tr>\n",
              "  </tbody>\n",
              "</table>\n",
              "</div>\n",
              "      <button class=\"colab-df-convert\" onclick=\"convertToInteractive('df-e8f67420-7ecf-4ad1-aeeb-5addd10970e6')\"\n",
              "              title=\"Convert this dataframe to an interactive table.\"\n",
              "              style=\"display:none;\">\n",
              "        \n",
              "  <svg xmlns=\"http://www.w3.org/2000/svg\" height=\"24px\"viewBox=\"0 0 24 24\"\n",
              "       width=\"24px\">\n",
              "    <path d=\"M0 0h24v24H0V0z\" fill=\"none\"/>\n",
              "    <path d=\"M18.56 5.44l.94 2.06.94-2.06 2.06-.94-2.06-.94-.94-2.06-.94 2.06-2.06.94zm-11 1L8.5 8.5l.94-2.06 2.06-.94-2.06-.94L8.5 2.5l-.94 2.06-2.06.94zm10 10l.94 2.06.94-2.06 2.06-.94-2.06-.94-.94-2.06-.94 2.06-2.06.94z\"/><path d=\"M17.41 7.96l-1.37-1.37c-.4-.4-.92-.59-1.43-.59-.52 0-1.04.2-1.43.59L10.3 9.45l-7.72 7.72c-.78.78-.78 2.05 0 2.83L4 21.41c.39.39.9.59 1.41.59.51 0 1.02-.2 1.41-.59l7.78-7.78 2.81-2.81c.8-.78.8-2.07 0-2.86zM5.41 20L4 18.59l7.72-7.72 1.47 1.35L5.41 20z\"/>\n",
              "  </svg>\n",
              "      </button>\n",
              "      \n",
              "  <style>\n",
              "    .colab-df-container {\n",
              "      display:flex;\n",
              "      flex-wrap:wrap;\n",
              "      gap: 12px;\n",
              "    }\n",
              "\n",
              "    .colab-df-convert {\n",
              "      background-color: #E8F0FE;\n",
              "      border: none;\n",
              "      border-radius: 50%;\n",
              "      cursor: pointer;\n",
              "      display: none;\n",
              "      fill: #1967D2;\n",
              "      height: 32px;\n",
              "      padding: 0 0 0 0;\n",
              "      width: 32px;\n",
              "    }\n",
              "\n",
              "    .colab-df-convert:hover {\n",
              "      background-color: #E2EBFA;\n",
              "      box-shadow: 0px 1px 2px rgba(60, 64, 67, 0.3), 0px 1px 3px 1px rgba(60, 64, 67, 0.15);\n",
              "      fill: #174EA6;\n",
              "    }\n",
              "\n",
              "    [theme=dark] .colab-df-convert {\n",
              "      background-color: #3B4455;\n",
              "      fill: #D2E3FC;\n",
              "    }\n",
              "\n",
              "    [theme=dark] .colab-df-convert:hover {\n",
              "      background-color: #434B5C;\n",
              "      box-shadow: 0px 1px 3px 1px rgba(0, 0, 0, 0.15);\n",
              "      filter: drop-shadow(0px 1px 2px rgba(0, 0, 0, 0.3));\n",
              "      fill: #FFFFFF;\n",
              "    }\n",
              "  </style>\n",
              "\n",
              "      <script>\n",
              "        const buttonEl =\n",
              "          document.querySelector('#df-e8f67420-7ecf-4ad1-aeeb-5addd10970e6 button.colab-df-convert');\n",
              "        buttonEl.style.display =\n",
              "          google.colab.kernel.accessAllowed ? 'block' : 'none';\n",
              "\n",
              "        async function convertToInteractive(key) {\n",
              "          const element = document.querySelector('#df-e8f67420-7ecf-4ad1-aeeb-5addd10970e6');\n",
              "          const dataTable =\n",
              "            await google.colab.kernel.invokeFunction('convertToInteractive',\n",
              "                                                     [key], {});\n",
              "          if (!dataTable) return;\n",
              "\n",
              "          const docLinkHtml = 'Like what you see? Visit the ' +\n",
              "            '<a target=\"_blank\" href=https://colab.research.google.com/notebooks/data_table.ipynb>data table notebook</a>'\n",
              "            + ' to learn more about interactive tables.';\n",
              "          element.innerHTML = '';\n",
              "          dataTable['output_type'] = 'display_data';\n",
              "          await google.colab.output.renderOutput(dataTable, element);\n",
              "          const docLink = document.createElement('div');\n",
              "          docLink.innerHTML = docLinkHtml;\n",
              "          element.appendChild(docLink);\n",
              "        }\n",
              "      </script>\n",
              "    </div>\n",
              "  </div>\n",
              "  "
            ]
          },
          "metadata": {},
          "execution_count": 108
        }
      ]
    },
    {
      "cell_type": "code",
      "source": [
        "#from sklearn.cluster import KMeans\n",
        "\n",
        "#X_class = df.drop(['CLASS','TICKER','Unnamed: 0'],axis=1) \t# end index is exclusive\n",
        "\n",
        "k_mean = KMeans()\n",
        "\n",
        "#number of clusters will be decided by K-mean++ , by default \n",
        "k_mean_model = k_mean.fit(X_class)\n",
        "\n",
        "print(\"Number of clusters\",k_mean_model.n_clusters) "
      ],
      "metadata": {
        "id": "RI1V9AGdGwSW",
        "colab": {
          "base_uri": "https://localhost:8080/"
        },
        "outputId": "2ebe64c7-b17a-47bf-85cb-8f6b24bb679d"
      },
      "execution_count": null,
      "outputs": [
        {
          "output_type": "stream",
          "name": "stdout",
          "text": [
            "Number of clusters 8\n"
          ]
        }
      ]
    },
    {
      "cell_type": "code",
      "source": [
        "df.head()"
      ],
      "metadata": {
        "id": "zsLiqxShG42H",
        "colab": {
          "base_uri": "https://localhost:8080/",
          "height": 267
        },
        "outputId": "25f79da9-c7c2-45cd-ad31-2bc05f9373d3"
      },
      "execution_count": null,
      "outputs": [
        {
          "output_type": "execute_result",
          "data": {
            "text/plain": [
              "   Unnamed: 0 TICKER   CLASS  Coef for open  Coef for high  Coef for low  \\\n",
              "0           0    XRX  Medium       0.002190       0.429211      0.567883   \n",
              "1           1   XRAY  Medium       0.086401       0.685318      0.227484   \n",
              "2           2    XOM     Low       0.000758       0.644630      0.352740   \n",
              "3           3   XLNX  Medium       0.219305       0.197295      0.582867   \n",
              "4           4     XL  Medium       0.001729       0.802704      0.194414   \n",
              "\n",
              "   Coef for volume  Coef for change within day  Coef for change from prev day  \n",
              "0         0.000199                    0.000217                       0.000301  \n",
              "1         0.000221                    0.000239                       0.000337  \n",
              "2         0.000654                    0.000665                       0.000553  \n",
              "3         0.000148                    0.000167                       0.000217  \n",
              "4         0.000375                    0.000276                       0.000503  "
            ],
            "text/html": [
              "\n",
              "  <div id=\"df-d61cff11-bf43-461b-8d99-ccfa7018b39e\">\n",
              "    <div class=\"colab-df-container\">\n",
              "      <div>\n",
              "<style scoped>\n",
              "    .dataframe tbody tr th:only-of-type {\n",
              "        vertical-align: middle;\n",
              "    }\n",
              "\n",
              "    .dataframe tbody tr th {\n",
              "        vertical-align: top;\n",
              "    }\n",
              "\n",
              "    .dataframe thead th {\n",
              "        text-align: right;\n",
              "    }\n",
              "</style>\n",
              "<table border=\"1\" class=\"dataframe\">\n",
              "  <thead>\n",
              "    <tr style=\"text-align: right;\">\n",
              "      <th></th>\n",
              "      <th>Unnamed: 0</th>\n",
              "      <th>TICKER</th>\n",
              "      <th>CLASS</th>\n",
              "      <th>Coef for open</th>\n",
              "      <th>Coef for high</th>\n",
              "      <th>Coef for low</th>\n",
              "      <th>Coef for volume</th>\n",
              "      <th>Coef for change within day</th>\n",
              "      <th>Coef for change from prev day</th>\n",
              "    </tr>\n",
              "  </thead>\n",
              "  <tbody>\n",
              "    <tr>\n",
              "      <th>0</th>\n",
              "      <td>0</td>\n",
              "      <td>XRX</td>\n",
              "      <td>Medium</td>\n",
              "      <td>0.002190</td>\n",
              "      <td>0.429211</td>\n",
              "      <td>0.567883</td>\n",
              "      <td>0.000199</td>\n",
              "      <td>0.000217</td>\n",
              "      <td>0.000301</td>\n",
              "    </tr>\n",
              "    <tr>\n",
              "      <th>1</th>\n",
              "      <td>1</td>\n",
              "      <td>XRAY</td>\n",
              "      <td>Medium</td>\n",
              "      <td>0.086401</td>\n",
              "      <td>0.685318</td>\n",
              "      <td>0.227484</td>\n",
              "      <td>0.000221</td>\n",
              "      <td>0.000239</td>\n",
              "      <td>0.000337</td>\n",
              "    </tr>\n",
              "    <tr>\n",
              "      <th>2</th>\n",
              "      <td>2</td>\n",
              "      <td>XOM</td>\n",
              "      <td>Low</td>\n",
              "      <td>0.000758</td>\n",
              "      <td>0.644630</td>\n",
              "      <td>0.352740</td>\n",
              "      <td>0.000654</td>\n",
              "      <td>0.000665</td>\n",
              "      <td>0.000553</td>\n",
              "    </tr>\n",
              "    <tr>\n",
              "      <th>3</th>\n",
              "      <td>3</td>\n",
              "      <td>XLNX</td>\n",
              "      <td>Medium</td>\n",
              "      <td>0.219305</td>\n",
              "      <td>0.197295</td>\n",
              "      <td>0.582867</td>\n",
              "      <td>0.000148</td>\n",
              "      <td>0.000167</td>\n",
              "      <td>0.000217</td>\n",
              "    </tr>\n",
              "    <tr>\n",
              "      <th>4</th>\n",
              "      <td>4</td>\n",
              "      <td>XL</td>\n",
              "      <td>Medium</td>\n",
              "      <td>0.001729</td>\n",
              "      <td>0.802704</td>\n",
              "      <td>0.194414</td>\n",
              "      <td>0.000375</td>\n",
              "      <td>0.000276</td>\n",
              "      <td>0.000503</td>\n",
              "    </tr>\n",
              "  </tbody>\n",
              "</table>\n",
              "</div>\n",
              "      <button class=\"colab-df-convert\" onclick=\"convertToInteractive('df-d61cff11-bf43-461b-8d99-ccfa7018b39e')\"\n",
              "              title=\"Convert this dataframe to an interactive table.\"\n",
              "              style=\"display:none;\">\n",
              "        \n",
              "  <svg xmlns=\"http://www.w3.org/2000/svg\" height=\"24px\"viewBox=\"0 0 24 24\"\n",
              "       width=\"24px\">\n",
              "    <path d=\"M0 0h24v24H0V0z\" fill=\"none\"/>\n",
              "    <path d=\"M18.56 5.44l.94 2.06.94-2.06 2.06-.94-2.06-.94-.94-2.06-.94 2.06-2.06.94zm-11 1L8.5 8.5l.94-2.06 2.06-.94-2.06-.94L8.5 2.5l-.94 2.06-2.06.94zm10 10l.94 2.06.94-2.06 2.06-.94-2.06-.94-.94-2.06-.94 2.06-2.06.94z\"/><path d=\"M17.41 7.96l-1.37-1.37c-.4-.4-.92-.59-1.43-.59-.52 0-1.04.2-1.43.59L10.3 9.45l-7.72 7.72c-.78.78-.78 2.05 0 2.83L4 21.41c.39.39.9.59 1.41.59.51 0 1.02-.2 1.41-.59l7.78-7.78 2.81-2.81c.8-.78.8-2.07 0-2.86zM5.41 20L4 18.59l7.72-7.72 1.47 1.35L5.41 20z\"/>\n",
              "  </svg>\n",
              "      </button>\n",
              "      \n",
              "  <style>\n",
              "    .colab-df-container {\n",
              "      display:flex;\n",
              "      flex-wrap:wrap;\n",
              "      gap: 12px;\n",
              "    }\n",
              "\n",
              "    .colab-df-convert {\n",
              "      background-color: #E8F0FE;\n",
              "      border: none;\n",
              "      border-radius: 50%;\n",
              "      cursor: pointer;\n",
              "      display: none;\n",
              "      fill: #1967D2;\n",
              "      height: 32px;\n",
              "      padding: 0 0 0 0;\n",
              "      width: 32px;\n",
              "    }\n",
              "\n",
              "    .colab-df-convert:hover {\n",
              "      background-color: #E2EBFA;\n",
              "      box-shadow: 0px 1px 2px rgba(60, 64, 67, 0.3), 0px 1px 3px 1px rgba(60, 64, 67, 0.15);\n",
              "      fill: #174EA6;\n",
              "    }\n",
              "\n",
              "    [theme=dark] .colab-df-convert {\n",
              "      background-color: #3B4455;\n",
              "      fill: #D2E3FC;\n",
              "    }\n",
              "\n",
              "    [theme=dark] .colab-df-convert:hover {\n",
              "      background-color: #434B5C;\n",
              "      box-shadow: 0px 1px 3px 1px rgba(0, 0, 0, 0.15);\n",
              "      filter: drop-shadow(0px 1px 2px rgba(0, 0, 0, 0.3));\n",
              "      fill: #FFFFFF;\n",
              "    }\n",
              "  </style>\n",
              "\n",
              "      <script>\n",
              "        const buttonEl =\n",
              "          document.querySelector('#df-d61cff11-bf43-461b-8d99-ccfa7018b39e button.colab-df-convert');\n",
              "        buttonEl.style.display =\n",
              "          google.colab.kernel.accessAllowed ? 'block' : 'none';\n",
              "\n",
              "        async function convertToInteractive(key) {\n",
              "          const element = document.querySelector('#df-d61cff11-bf43-461b-8d99-ccfa7018b39e');\n",
              "          const dataTable =\n",
              "            await google.colab.kernel.invokeFunction('convertToInteractive',\n",
              "                                                     [key], {});\n",
              "          if (!dataTable) return;\n",
              "\n",
              "          const docLinkHtml = 'Like what you see? Visit the ' +\n",
              "            '<a target=\"_blank\" href=https://colab.research.google.com/notebooks/data_table.ipynb>data table notebook</a>'\n",
              "            + ' to learn more about interactive tables.';\n",
              "          element.innerHTML = '';\n",
              "          dataTable['output_type'] = 'display_data';\n",
              "          await google.colab.output.renderOutput(dataTable, element);\n",
              "          const docLink = document.createElement('div');\n",
              "          docLink.innerHTML = docLinkHtml;\n",
              "          element.appendChild(docLink);\n",
              "        }\n",
              "      </script>\n",
              "    </div>\n",
              "  </div>\n",
              "  "
            ]
          },
          "metadata": {},
          "execution_count": 110
        }
      ]
    },
    {
      "cell_type": "code",
      "source": [
        "#Predicting the cluster assignment for 500 stocks \n",
        "\n",
        "#Dropping the CLASS column added as part of classification , we don't need for clustering\n",
        "df_cluster = df.drop(['CLASS'], axis=1)\n",
        "\n",
        "#Selecting features from dataframe , there are 6 features \n",
        "X_cluster = df.drop(['CLASS','TICKER','Unnamed: 0'], axis=1)\n",
        "\n",
        "y_pred = k_mean_model.predict(X_cluster)\n",
        "\n",
        "pred_df = pd.DataFrame({ 'Stock': df_cluster['TICKER'],'Cluster': y_pred})"
      ],
      "metadata": {
        "id": "JqT6dzcFG67P"
      },
      "execution_count": null,
      "outputs": []
    },
    {
      "cell_type": "code",
      "source": [
        "labels =k_mean_model.labels_\n",
        "labels"
      ],
      "metadata": {
        "id": "sMHbj_DjG9LS",
        "colab": {
          "base_uri": "https://localhost:8080/"
        },
        "outputId": "43f52a71-fc32-4cfc-b8a9-e6c8e2620970"
      },
      "execution_count": null,
      "outputs": [
        {
          "output_type": "execute_result",
          "data": {
            "text/plain": [
              "array([2, 0, 5, 7, 4, 6, 5, 1, 1, 0, 1, 0, 2, 0, 7, 6, 1, 0, 4, 1, 4, 1,\n",
              "       5, 3, 3, 0, 1, 1, 1, 5, 3, 1, 1, 5, 2, 6, 5, 2, 1, 7, 2, 0, 0, 0,\n",
              "       1, 6, 3, 4, 0, 5, 3, 2, 1, 5, 7, 5, 6, 0, 6, 5, 1, 5, 1, 7, 1, 3,\n",
              "       4, 2, 2, 0, 3, 1, 1, 3, 2, 7, 3, 0, 0, 1, 1, 2, 0, 0, 3, 5, 4, 3,\n",
              "       1, 6, 0, 1, 0, 0, 5, 7, 3, 5, 7, 0, 4, 3, 7, 1, 3, 7, 5, 0, 4, 0,\n",
              "       3, 3, 6, 0, 0, 0, 3, 3, 0, 2, 3, 3, 1, 0, 4, 6, 1, 0, 0, 0, 2, 6,\n",
              "       0, 1, 4, 4, 0, 3, 0, 2, 3, 0, 1, 0, 1, 4, 4, 5, 2, 3, 2, 0, 2, 2,\n",
              "       0, 1, 1, 0, 3, 1, 0, 0, 6, 0, 5, 0, 4, 0, 0, 5, 3, 0, 5, 2, 5, 2,\n",
              "       0, 0, 2, 7, 1, 3, 2, 1, 3, 0, 1, 4, 3, 4, 5, 1, 3, 6, 1, 1, 5, 0,\n",
              "       7, 1, 1, 6, 2, 1, 5, 0, 5, 2, 1, 2, 2, 3, 5, 5, 2, 1, 2, 2, 1, 3,\n",
              "       2, 5, 2, 3, 4, 1, 0, 1, 2, 1, 2, 3, 2, 6, 4, 0, 7, 5, 2, 1, 4, 4,\n",
              "       3, 6, 1, 6, 0, 7, 1, 2, 4, 2, 0, 4, 0, 2, 5, 3, 3, 3, 1, 4, 1, 5,\n",
              "       2, 3, 2, 7, 7, 3, 2, 4, 1, 7, 5, 5, 0, 0, 1, 1, 6, 1, 1, 0, 3, 0,\n",
              "       5, 0, 0, 4, 1, 3, 2, 2, 2, 5, 2, 0, 5, 5, 6, 6, 5, 3, 1, 1, 4, 3,\n",
              "       2, 0, 2, 4, 0, 1, 1, 0, 5, 5, 1, 1, 3, 3, 6, 5, 2, 5, 0, 1, 1, 1,\n",
              "       6, 6, 0, 5, 2, 5, 2, 1, 0, 5, 2, 3, 2, 0, 1, 7, 5, 6, 5, 7, 3, 3,\n",
              "       3, 2, 2, 1, 3, 0, 7, 4, 6, 2, 3, 5, 2, 2, 0, 0, 0, 3, 5, 5, 2, 0,\n",
              "       1, 6, 4, 2, 6, 4, 5, 6, 0, 2, 7, 3, 1, 2, 0, 1, 5, 0, 4, 0, 1, 1,\n",
              "       1, 6, 4, 0, 0, 3, 5, 4, 4, 2, 6, 1, 0, 5, 0, 2, 1, 5, 2, 3, 5, 6,\n",
              "       2, 3, 2, 5, 3, 1, 4, 6, 0, 0, 2, 2, 5, 6, 3, 5, 3, 0, 0, 2, 7, 5,\n",
              "       6, 7, 1, 2, 5, 6, 0, 0, 1, 0, 2, 7, 2, 0, 3, 2, 2, 1, 5, 7, 1, 4,\n",
              "       1, 1, 3, 4, 7, 7, 1, 0, 5, 2, 3, 6, 7, 5, 7, 2, 2, 4, 1, 2, 6, 1,\n",
              "       3, 4, 0, 0, 6, 5, 4, 6, 5, 3, 2, 6, 1, 3, 2, 3], dtype=int32)"
            ]
          },
          "metadata": {},
          "execution_count": 112
        }
      ]
    },
    {
      "cell_type": "code",
      "source": [
        "pred_df.head(n=15)"
      ],
      "metadata": {
        "id": "8FGTsj-eG_rj",
        "colab": {
          "base_uri": "https://localhost:8080/",
          "height": 520
        },
        "outputId": "4f8aec51-6977-4186-e1fa-54954a8c8c2d"
      },
      "execution_count": null,
      "outputs": [
        {
          "output_type": "execute_result",
          "data": {
            "text/plain": [
              "   Stock  Cluster\n",
              "0    XRX        2\n",
              "1   XRAY        0\n",
              "2    XOM        5\n",
              "3   XLNX        7\n",
              "4     XL        4\n",
              "5    XEL        6\n",
              "6    XEC        5\n",
              "7   WYNN        1\n",
              "8    WYN        1\n",
              "9     WY        0\n",
              "10    WU        1\n",
              "11   WRK        0\n",
              "12   WMT        2\n",
              "13   WMB        0\n",
              "14    WM        7"
            ],
            "text/html": [
              "\n",
              "  <div id=\"df-c9f57f03-c929-40c6-9bfd-6eb1ae685176\">\n",
              "    <div class=\"colab-df-container\">\n",
              "      <div>\n",
              "<style scoped>\n",
              "    .dataframe tbody tr th:only-of-type {\n",
              "        vertical-align: middle;\n",
              "    }\n",
              "\n",
              "    .dataframe tbody tr th {\n",
              "        vertical-align: top;\n",
              "    }\n",
              "\n",
              "    .dataframe thead th {\n",
              "        text-align: right;\n",
              "    }\n",
              "</style>\n",
              "<table border=\"1\" class=\"dataframe\">\n",
              "  <thead>\n",
              "    <tr style=\"text-align: right;\">\n",
              "      <th></th>\n",
              "      <th>Stock</th>\n",
              "      <th>Cluster</th>\n",
              "    </tr>\n",
              "  </thead>\n",
              "  <tbody>\n",
              "    <tr>\n",
              "      <th>0</th>\n",
              "      <td>XRX</td>\n",
              "      <td>2</td>\n",
              "    </tr>\n",
              "    <tr>\n",
              "      <th>1</th>\n",
              "      <td>XRAY</td>\n",
              "      <td>0</td>\n",
              "    </tr>\n",
              "    <tr>\n",
              "      <th>2</th>\n",
              "      <td>XOM</td>\n",
              "      <td>5</td>\n",
              "    </tr>\n",
              "    <tr>\n",
              "      <th>3</th>\n",
              "      <td>XLNX</td>\n",
              "      <td>7</td>\n",
              "    </tr>\n",
              "    <tr>\n",
              "      <th>4</th>\n",
              "      <td>XL</td>\n",
              "      <td>4</td>\n",
              "    </tr>\n",
              "    <tr>\n",
              "      <th>5</th>\n",
              "      <td>XEL</td>\n",
              "      <td>6</td>\n",
              "    </tr>\n",
              "    <tr>\n",
              "      <th>6</th>\n",
              "      <td>XEC</td>\n",
              "      <td>5</td>\n",
              "    </tr>\n",
              "    <tr>\n",
              "      <th>7</th>\n",
              "      <td>WYNN</td>\n",
              "      <td>1</td>\n",
              "    </tr>\n",
              "    <tr>\n",
              "      <th>8</th>\n",
              "      <td>WYN</td>\n",
              "      <td>1</td>\n",
              "    </tr>\n",
              "    <tr>\n",
              "      <th>9</th>\n",
              "      <td>WY</td>\n",
              "      <td>0</td>\n",
              "    </tr>\n",
              "    <tr>\n",
              "      <th>10</th>\n",
              "      <td>WU</td>\n",
              "      <td>1</td>\n",
              "    </tr>\n",
              "    <tr>\n",
              "      <th>11</th>\n",
              "      <td>WRK</td>\n",
              "      <td>0</td>\n",
              "    </tr>\n",
              "    <tr>\n",
              "      <th>12</th>\n",
              "      <td>WMT</td>\n",
              "      <td>2</td>\n",
              "    </tr>\n",
              "    <tr>\n",
              "      <th>13</th>\n",
              "      <td>WMB</td>\n",
              "      <td>0</td>\n",
              "    </tr>\n",
              "    <tr>\n",
              "      <th>14</th>\n",
              "      <td>WM</td>\n",
              "      <td>7</td>\n",
              "    </tr>\n",
              "  </tbody>\n",
              "</table>\n",
              "</div>\n",
              "      <button class=\"colab-df-convert\" onclick=\"convertToInteractive('df-c9f57f03-c929-40c6-9bfd-6eb1ae685176')\"\n",
              "              title=\"Convert this dataframe to an interactive table.\"\n",
              "              style=\"display:none;\">\n",
              "        \n",
              "  <svg xmlns=\"http://www.w3.org/2000/svg\" height=\"24px\"viewBox=\"0 0 24 24\"\n",
              "       width=\"24px\">\n",
              "    <path d=\"M0 0h24v24H0V0z\" fill=\"none\"/>\n",
              "    <path d=\"M18.56 5.44l.94 2.06.94-2.06 2.06-.94-2.06-.94-.94-2.06-.94 2.06-2.06.94zm-11 1L8.5 8.5l.94-2.06 2.06-.94-2.06-.94L8.5 2.5l-.94 2.06-2.06.94zm10 10l.94 2.06.94-2.06 2.06-.94-2.06-.94-.94-2.06-.94 2.06-2.06.94z\"/><path d=\"M17.41 7.96l-1.37-1.37c-.4-.4-.92-.59-1.43-.59-.52 0-1.04.2-1.43.59L10.3 9.45l-7.72 7.72c-.78.78-.78 2.05 0 2.83L4 21.41c.39.39.9.59 1.41.59.51 0 1.02-.2 1.41-.59l7.78-7.78 2.81-2.81c.8-.78.8-2.07 0-2.86zM5.41 20L4 18.59l7.72-7.72 1.47 1.35L5.41 20z\"/>\n",
              "  </svg>\n",
              "      </button>\n",
              "      \n",
              "  <style>\n",
              "    .colab-df-container {\n",
              "      display:flex;\n",
              "      flex-wrap:wrap;\n",
              "      gap: 12px;\n",
              "    }\n",
              "\n",
              "    .colab-df-convert {\n",
              "      background-color: #E8F0FE;\n",
              "      border: none;\n",
              "      border-radius: 50%;\n",
              "      cursor: pointer;\n",
              "      display: none;\n",
              "      fill: #1967D2;\n",
              "      height: 32px;\n",
              "      padding: 0 0 0 0;\n",
              "      width: 32px;\n",
              "    }\n",
              "\n",
              "    .colab-df-convert:hover {\n",
              "      background-color: #E2EBFA;\n",
              "      box-shadow: 0px 1px 2px rgba(60, 64, 67, 0.3), 0px 1px 3px 1px rgba(60, 64, 67, 0.15);\n",
              "      fill: #174EA6;\n",
              "    }\n",
              "\n",
              "    [theme=dark] .colab-df-convert {\n",
              "      background-color: #3B4455;\n",
              "      fill: #D2E3FC;\n",
              "    }\n",
              "\n",
              "    [theme=dark] .colab-df-convert:hover {\n",
              "      background-color: #434B5C;\n",
              "      box-shadow: 0px 1px 3px 1px rgba(0, 0, 0, 0.15);\n",
              "      filter: drop-shadow(0px 1px 2px rgba(0, 0, 0, 0.3));\n",
              "      fill: #FFFFFF;\n",
              "    }\n",
              "  </style>\n",
              "\n",
              "      <script>\n",
              "        const buttonEl =\n",
              "          document.querySelector('#df-c9f57f03-c929-40c6-9bfd-6eb1ae685176 button.colab-df-convert');\n",
              "        buttonEl.style.display =\n",
              "          google.colab.kernel.accessAllowed ? 'block' : 'none';\n",
              "\n",
              "        async function convertToInteractive(key) {\n",
              "          const element = document.querySelector('#df-c9f57f03-c929-40c6-9bfd-6eb1ae685176');\n",
              "          const dataTable =\n",
              "            await google.colab.kernel.invokeFunction('convertToInteractive',\n",
              "                                                     [key], {});\n",
              "          if (!dataTable) return;\n",
              "\n",
              "          const docLinkHtml = 'Like what you see? Visit the ' +\n",
              "            '<a target=\"_blank\" href=https://colab.research.google.com/notebooks/data_table.ipynb>data table notebook</a>'\n",
              "            + ' to learn more about interactive tables.';\n",
              "          element.innerHTML = '';\n",
              "          dataTable['output_type'] = 'display_data';\n",
              "          await google.colab.output.renderOutput(dataTable, element);\n",
              "          const docLink = document.createElement('div');\n",
              "          docLink.innerHTML = docLinkHtml;\n",
              "          element.appendChild(docLink);\n",
              "        }\n",
              "      </script>\n",
              "    </div>\n",
              "  </div>\n",
              "  "
            ]
          },
          "metadata": {},
          "execution_count": 113
        }
      ]
    },
    {
      "cell_type": "markdown",
      "source": [
        "      investor and use of xgboost model and clustering models"
      ],
      "metadata": {
        "id": "UszGG5jhHXXE"
      }
    },
    {
      "cell_type": "code",
      "source": [
        "#Taking investor's current portfolio in following form \n",
        "#[['Stock1','$dollar investment'],['Stock2','$investment']]\n",
        "#[['AAPL','4000'],['GOOGL','5000'],['GE','7000']]\n",
        "from pandas import read_csv\n",
        "#stock_portfolio_file = input(\"Enter the stock portfolio CSV file name (default is portfolio.csv) ?\") or '../input/stock-portfolio/stock portfolio.csv'\n",
        "#print(stock_portfolio_file)\n",
        "      \n",
        "stock_portfolio_csv =pd.read_csv('/content/stock_portfolio (2).csv')\n",
        "stock_portfolio_csv.head()"
      ],
      "metadata": {
        "id": "yON7Ek7pHdm3",
        "colab": {
          "base_uri": "https://localhost:8080/",
          "height": 206
        },
        "outputId": "7cefee20-4d21-42b0-b2fd-69de3b1f9f64"
      },
      "execution_count": null,
      "outputs": [
        {
          "output_type": "execute_result",
          "data": {
            "text/plain": [
              "  Ticker  Investment\n",
              "0   MSFT        8000\n",
              "1    IBM       10000\n",
              "2   NFLX        2000\n",
              "3   AAPL        5000\n",
              "4   NFLX        2000"
            ],
            "text/html": [
              "\n",
              "  <div id=\"df-892473fe-3487-418d-a8a3-b279c41f5a39\">\n",
              "    <div class=\"colab-df-container\">\n",
              "      <div>\n",
              "<style scoped>\n",
              "    .dataframe tbody tr th:only-of-type {\n",
              "        vertical-align: middle;\n",
              "    }\n",
              "\n",
              "    .dataframe tbody tr th {\n",
              "        vertical-align: top;\n",
              "    }\n",
              "\n",
              "    .dataframe thead th {\n",
              "        text-align: right;\n",
              "    }\n",
              "</style>\n",
              "<table border=\"1\" class=\"dataframe\">\n",
              "  <thead>\n",
              "    <tr style=\"text-align: right;\">\n",
              "      <th></th>\n",
              "      <th>Ticker</th>\n",
              "      <th>Investment</th>\n",
              "    </tr>\n",
              "  </thead>\n",
              "  <tbody>\n",
              "    <tr>\n",
              "      <th>0</th>\n",
              "      <td>MSFT</td>\n",
              "      <td>8000</td>\n",
              "    </tr>\n",
              "    <tr>\n",
              "      <th>1</th>\n",
              "      <td>IBM</td>\n",
              "      <td>10000</td>\n",
              "    </tr>\n",
              "    <tr>\n",
              "      <th>2</th>\n",
              "      <td>NFLX</td>\n",
              "      <td>2000</td>\n",
              "    </tr>\n",
              "    <tr>\n",
              "      <th>3</th>\n",
              "      <td>AAPL</td>\n",
              "      <td>5000</td>\n",
              "    </tr>\n",
              "    <tr>\n",
              "      <th>4</th>\n",
              "      <td>NFLX</td>\n",
              "      <td>2000</td>\n",
              "    </tr>\n",
              "  </tbody>\n",
              "</table>\n",
              "</div>\n",
              "      <button class=\"colab-df-convert\" onclick=\"convertToInteractive('df-892473fe-3487-418d-a8a3-b279c41f5a39')\"\n",
              "              title=\"Convert this dataframe to an interactive table.\"\n",
              "              style=\"display:none;\">\n",
              "        \n",
              "  <svg xmlns=\"http://www.w3.org/2000/svg\" height=\"24px\"viewBox=\"0 0 24 24\"\n",
              "       width=\"24px\">\n",
              "    <path d=\"M0 0h24v24H0V0z\" fill=\"none\"/>\n",
              "    <path d=\"M18.56 5.44l.94 2.06.94-2.06 2.06-.94-2.06-.94-.94-2.06-.94 2.06-2.06.94zm-11 1L8.5 8.5l.94-2.06 2.06-.94-2.06-.94L8.5 2.5l-.94 2.06-2.06.94zm10 10l.94 2.06.94-2.06 2.06-.94-2.06-.94-.94-2.06-.94 2.06-2.06.94z\"/><path d=\"M17.41 7.96l-1.37-1.37c-.4-.4-.92-.59-1.43-.59-.52 0-1.04.2-1.43.59L10.3 9.45l-7.72 7.72c-.78.78-.78 2.05 0 2.83L4 21.41c.39.39.9.59 1.41.59.51 0 1.02-.2 1.41-.59l7.78-7.78 2.81-2.81c.8-.78.8-2.07 0-2.86zM5.41 20L4 18.59l7.72-7.72 1.47 1.35L5.41 20z\"/>\n",
              "  </svg>\n",
              "      </button>\n",
              "      \n",
              "  <style>\n",
              "    .colab-df-container {\n",
              "      display:flex;\n",
              "      flex-wrap:wrap;\n",
              "      gap: 12px;\n",
              "    }\n",
              "\n",
              "    .colab-df-convert {\n",
              "      background-color: #E8F0FE;\n",
              "      border: none;\n",
              "      border-radius: 50%;\n",
              "      cursor: pointer;\n",
              "      display: none;\n",
              "      fill: #1967D2;\n",
              "      height: 32px;\n",
              "      padding: 0 0 0 0;\n",
              "      width: 32px;\n",
              "    }\n",
              "\n",
              "    .colab-df-convert:hover {\n",
              "      background-color: #E2EBFA;\n",
              "      box-shadow: 0px 1px 2px rgba(60, 64, 67, 0.3), 0px 1px 3px 1px rgba(60, 64, 67, 0.15);\n",
              "      fill: #174EA6;\n",
              "    }\n",
              "\n",
              "    [theme=dark] .colab-df-convert {\n",
              "      background-color: #3B4455;\n",
              "      fill: #D2E3FC;\n",
              "    }\n",
              "\n",
              "    [theme=dark] .colab-df-convert:hover {\n",
              "      background-color: #434B5C;\n",
              "      box-shadow: 0px 1px 3px 1px rgba(0, 0, 0, 0.15);\n",
              "      filter: drop-shadow(0px 1px 2px rgba(0, 0, 0, 0.3));\n",
              "      fill: #FFFFFF;\n",
              "    }\n",
              "  </style>\n",
              "\n",
              "      <script>\n",
              "        const buttonEl =\n",
              "          document.querySelector('#df-892473fe-3487-418d-a8a3-b279c41f5a39 button.colab-df-convert');\n",
              "        buttonEl.style.display =\n",
              "          google.colab.kernel.accessAllowed ? 'block' : 'none';\n",
              "\n",
              "        async function convertToInteractive(key) {\n",
              "          const element = document.querySelector('#df-892473fe-3487-418d-a8a3-b279c41f5a39');\n",
              "          const dataTable =\n",
              "            await google.colab.kernel.invokeFunction('convertToInteractive',\n",
              "                                                     [key], {});\n",
              "          if (!dataTable) return;\n",
              "\n",
              "          const docLinkHtml = 'Like what you see? Visit the ' +\n",
              "            '<a target=\"_blank\" href=https://colab.research.google.com/notebooks/data_table.ipynb>data table notebook</a>'\n",
              "            + ' to learn more about interactive tables.';\n",
              "          element.innerHTML = '';\n",
              "          dataTable['output_type'] = 'display_data';\n",
              "          await google.colab.output.renderOutput(dataTable, element);\n",
              "          const docLink = document.createElement('div');\n",
              "          docLink.innerHTML = docLinkHtml;\n",
              "          element.appendChild(docLink);\n",
              "        }\n",
              "      </script>\n",
              "    </div>\n",
              "  </div>\n",
              "  "
            ]
          },
          "metadata": {},
          "execution_count": 114
        }
      ]
    },
    {
      "cell_type": "code",
      "source": [
        "#Pie chart for the stock investment distribution based on individual stocks \n",
        "\n",
        "import matplotlib.pyplot as plt\n",
        "\n",
        "import matplotlib as mpl\n",
        "mpl.rcParams['font.size'] = 12.0\n",
        "\n",
        "# Pie chart, where the slices will be ordered and plotted counter-clockwise:\n",
        "labels = stock_portfolio_csv['Ticker']\n",
        "sizes = stock_portfolio_csv['Investment']\n",
        "\n",
        "fig1, ax1 = plt.subplots(figsize=(12, 10))\n",
        "\n",
        "patches, texts, autotexts = ax1.pie(sizes,  labels=labels, autopct='%1.1f%%',\n",
        "        shadow=True, startangle=90)\n",
        "ax1.axis('equal')  # Equal aspect ratio ensures that pie is drawn as a circle.\n",
        "ax1.set_title(\"Investment diversification per stock\")\n",
        "plt.legend(patches, labels, loc=\"best\")\n",
        "\n",
        "plt.show()"
      ],
      "metadata": {
        "id": "zI6BZtDLHm2Z",
        "colab": {
          "base_uri": "https://localhost:8080/",
          "height": 592
        },
        "outputId": "87258ad0-5151-4e77-a7c9-15d3427893ae"
      },
      "execution_count": null,
      "outputs": [
        {
          "output_type": "display_data",
          "data": {
            "text/plain": [
              "<Figure size 864x720 with 1 Axes>"
            ],
            "image/png": "[encoded data removed]"
          },
          "metadata": {}
        }
      ]
    },
    {
      "cell_type": "code",
      "source": [
        "#Predicting cluster for investor's portfolio stocks based on the clustering model \n",
        "\n",
        "pred_stock_portfolio_df= pd.DataFrame(columns=['Ticker','Predicted_cluster','Investment'])\n",
        "pd"
      ],
      "metadata": {
        "id": "afD_WBQEg3Dn",
        "colab": {
          "base_uri": "https://localhost:8080/"
        },
        "outputId": "a12e1544-795b-48cc-8d70-1747d732b3dc"
      },
      "execution_count": null,
      "outputs": [
        {
          "output_type": "execute_result",
          "data": {
            "text/plain": [
              "<module 'pandas' from '/usr/local/lib/python3.7/dist-packages/pandas/__init__.py'>"
            ]
          },
          "metadata": {},
          "execution_count": 116
        }
      ]
    },
    {
      "cell_type": "code",
      "source": [
        "pred_stock_portfolio_df.columns\n",
        "# print(\"test\")"
      ],
      "metadata": {
        "colab": {
          "base_uri": "https://localhost:8080/"
        },
        "id": "E1ld_y6Jsdka",
        "outputId": "44d1dbf4-6679-4fc7-ee95-a4180101014d"
      },
      "execution_count": null,
      "outputs": [
        {
          "output_type": "execute_result",
          "data": {
            "text/plain": [
              "Index(['Ticker', 'Predicted_cluster', 'Investment'], dtype='object')"
            ]
          },
          "metadata": {},
          "execution_count": 117
        }
      ]
    },
    {
      "cell_type": "code",
      "source": [
        "#Predicting cluster for investor's portfolio stocks based on the clustering model \n",
        "\n",
        "#pred_stock_portfolio_df = pd.DataFrame(columns=['Ticker','Predicted_cluster','Investment'])\n",
        "\n",
        "#iterate over all the stock tickers and predict cluster \n",
        "for index, row  in stock_portfolio_csv.iterrows():\n",
        "    # print(row['Ticker'])\n",
        "    # print(xgbModel(row['Ticker']))\n",
        "    #print(type(xgbModel))\n",
        "    customer_stock_model,stock_modified = xgbModel(row['Ticker'])\n",
        "    #print(customer_stock_model)\n",
        "    #print(stock_modified)\n",
        "    customer_stock_cluster_pred = k_mean_model.predict([customer_stock_model])[0]\n",
        "  \n",
        "    pred_stock_portfolio_df.loc[len(pred_stock_portfolio_df)] = [row['Ticker'],customer_stock_cluster_pred , row['Investment']]\n",
        "    \n",
        "print (pred_stock_portfolio_df)"
      ],
      "metadata": {
        "id": "PjeAhRnvHwuU",
        "colab": {
          "base_uri": "https://localhost:8080/"
        },
        "outputId": "e882cf0e-6e7f-4517-d350-f9486916f74c"
      },
      "execution_count": null,
      "outputs": [
        {
          "output_type": "stream",
          "name": "stdout",
          "text": [
            "  Ticker Predicted_cluster Investment\n",
            "0   MSFT                 5       8000\n",
            "1    IBM                 1      10000\n",
            "2   NFLX                 4       2000\n",
            "3   AAPL                 1       5000\n",
            "4   NFLX                 4       2000\n"
          ]
        }
      ]
    },
    {
      "cell_type": "code",
      "source": [
        "#Grouping the investment per cluster ,as we want investor to balance the investment per cluster \n",
        "\n",
        "pred_stock_portfolio_grouped_df =pred_stock_portfolio_df.groupby('Predicted_cluster', as_index=False).agg({\"Investment\": \"sum\"})\n",
        "\n",
        "pred_stock_portfolio_grouped_df"
      ],
      "metadata": {
        "id": "9Cy_31GPH0Bb",
        "colab": {
          "base_uri": "https://localhost:8080/",
          "height": 143
        },
        "outputId": "635e6c83-3bea-4c44-b5ff-a202ed6856cd"
      },
      "execution_count": null,
      "outputs": [
        {
          "output_type": "execute_result",
          "data": {
            "text/plain": [
              "   Predicted_cluster  Investment\n",
              "0                  1       15000\n",
              "1                  4        4000\n",
              "2                  5        8000"
            ],
            "text/html": [
              "\n",
              "  <div id=\"df-8b96cace-3309-4392-b8f3-f40cb8638239\">\n",
              "    <div class=\"colab-df-container\">\n",
              "      <div>\n",
              "<style scoped>\n",
              "    .dataframe tbody tr th:only-of-type {\n",
              "        vertical-align: middle;\n",
              "    }\n",
              "\n",
              "    .dataframe tbody tr th {\n",
              "        vertical-align: top;\n",
              "    }\n",
              "\n",
              "    .dataframe thead th {\n",
              "        text-align: right;\n",
              "    }\n",
              "</style>\n",
              "<table border=\"1\" class=\"dataframe\">\n",
              "  <thead>\n",
              "    <tr style=\"text-align: right;\">\n",
              "      <th></th>\n",
              "      <th>Predicted_cluster</th>\n",
              "      <th>Investment</th>\n",
              "    </tr>\n",
              "  </thead>\n",
              "  <tbody>\n",
              "    <tr>\n",
              "      <th>0</th>\n",
              "      <td>1</td>\n",
              "      <td>15000</td>\n",
              "    </tr>\n",
              "    <tr>\n",
              "      <th>1</th>\n",
              "      <td>4</td>\n",
              "      <td>4000</td>\n",
              "    </tr>\n",
              "    <tr>\n",
              "      <th>2</th>\n",
              "      <td>5</td>\n",
              "      <td>8000</td>\n",
              "    </tr>\n",
              "  </tbody>\n",
              "</table>\n",
              "</div>\n",
              "      <button class=\"colab-df-convert\" onclick=\"convertToInteractive('df-8b96cace-3309-4392-b8f3-f40cb8638239')\"\n",
              "              title=\"Convert this dataframe to an interactive table.\"\n",
              "              style=\"display:none;\">\n",
              "        \n",
              "  <svg xmlns=\"http://www.w3.org/2000/svg\" height=\"24px\"viewBox=\"0 0 24 24\"\n",
              "       width=\"24px\">\n",
              "    <path d=\"M0 0h24v24H0V0z\" fill=\"none\"/>\n",
              "    <path d=\"M18.56 5.44l.94 2.06.94-2.06 2.06-.94-2.06-.94-.94-2.06-.94 2.06-2.06.94zm-11 1L8.5 8.5l.94-2.06 2.06-.94-2.06-.94L8.5 2.5l-.94 2.06-2.06.94zm10 10l.94 2.06.94-2.06 2.06-.94-2.06-.94-.94-2.06-.94 2.06-2.06.94z\"/><path d=\"M17.41 7.96l-1.37-1.37c-.4-.4-.92-.59-1.43-.59-.52 0-1.04.2-1.43.59L10.3 9.45l-7.72 7.72c-.78.78-.78 2.05 0 2.83L4 21.41c.39.39.9.59 1.41.59.51 0 1.02-.2 1.41-.59l7.78-7.78 2.81-2.81c.8-.78.8-2.07 0-2.86zM5.41 20L4 18.59l7.72-7.72 1.47 1.35L5.41 20z\"/>\n",
              "  </svg>\n",
              "      </button>\n",
              "      \n",
              "  <style>\n",
              "    .colab-df-container {\n",
              "      display:flex;\n",
              "      flex-wrap:wrap;\n",
              "      gap: 12px;\n",
              "    }\n",
              "\n",
              "    .colab-df-convert {\n",
              "      background-color: #E8F0FE;\n",
              "      border: none;\n",
              "      border-radius: 50%;\n",
              "      cursor: pointer;\n",
              "      display: none;\n",
              "      fill: #1967D2;\n",
              "      height: 32px;\n",
              "      padding: 0 0 0 0;\n",
              "      width: 32px;\n",
              "    }\n",
              "\n",
              "    .colab-df-convert:hover {\n",
              "      background-color: #E2EBFA;\n",
              "      box-shadow: 0px 1px 2px rgba(60, 64, 67, 0.3), 0px 1px 3px 1px rgba(60, 64, 67, 0.15);\n",
              "      fill: #174EA6;\n",
              "    }\n",
              "\n",
              "    [theme=dark] .colab-df-convert {\n",
              "      background-color: #3B4455;\n",
              "      fill: #D2E3FC;\n",
              "    }\n",
              "\n",
              "    [theme=dark] .colab-df-convert:hover {\n",
              "      background-color: #434B5C;\n",
              "      box-shadow: 0px 1px 3px 1px rgba(0, 0, 0, 0.15);\n",
              "      filter: drop-shadow(0px 1px 2px rgba(0, 0, 0, 0.3));\n",
              "      fill: #FFFFFF;\n",
              "    }\n",
              "  </style>\n",
              "\n",
              "      <script>\n",
              "        const buttonEl =\n",
              "          document.querySelector('#df-8b96cace-3309-4392-b8f3-f40cb8638239 button.colab-df-convert');\n",
              "        buttonEl.style.display =\n",
              "          google.colab.kernel.accessAllowed ? 'block' : 'none';\n",
              "\n",
              "        async function convertToInteractive(key) {\n",
              "          const element = document.querySelector('#df-8b96cace-3309-4392-b8f3-f40cb8638239');\n",
              "          const dataTable =\n",
              "            await google.colab.kernel.invokeFunction('convertToInteractive',\n",
              "                                                     [key], {});\n",
              "          if (!dataTable) return;\n",
              "\n",
              "          const docLinkHtml = 'Like what you see? Visit the ' +\n",
              "            '<a target=\"_blank\" href=https://colab.research.google.com/notebooks/data_table.ipynb>data table notebook</a>'\n",
              "            + ' to learn more about interactive tables.';\n",
              "          element.innerHTML = '';\n",
              "          dataTable['output_type'] = 'display_data';\n",
              "          await google.colab.output.renderOutput(dataTable, element);\n",
              "          const docLink = document.createElement('div');\n",
              "          docLink.innerHTML = docLinkHtml;\n",
              "          element.appendChild(docLink);\n",
              "        }\n",
              "      </script>\n",
              "    </div>\n",
              "  </div>\n",
              "  "
            ]
          },
          "metadata": {},
          "execution_count": 119
        }
      ]
    },
    {
      "cell_type": "code",
      "source": [
        "# Pie chart, to show distribution of investment per cluster \n",
        "labels = pred_stock_portfolio_grouped_df['Predicted_cluster']\n",
        "sizes = pred_stock_portfolio_grouped_df['Investment']\n",
        "\n",
        "\n",
        "fig1, ax1 = plt.subplots(figsize=(8, 8))\n",
        "patches, texts, autotexts = ax1.pie(sizes,  labels=labels, autopct='%1.1f%%',\n",
        "        shadow=True, startangle=90)\n",
        "\n",
        "plt.legend(patches, labels, loc=\"best\")\n",
        "ax1.axis('equal')  # Equal aspect ratio ensures that pie is drawn as a circle.\n",
        "ax1.set_title(\"Investment per Cluster\")\n",
        "\n",
        "plt.show()"
      ],
      "metadata": {
        "id": "PUFWbtEmH2hs",
        "colab": {
          "base_uri": "https://localhost:8080/",
          "height": 483
        },
        "outputId": "9b6d6ddb-27b1-4fc1-d5cb-03ceab35dcbc"
      },
      "execution_count": null,
      "outputs": [
        {
          "output_type": "display_data",
          "data": {
            "text/plain": [
              "<Figure size 576x576 with 1 Axes>"
            ],
            "image/png": "[encoded data removed]"
          },
          "metadata": {}
        }
      ]
    },
    {
      "cell_type": "code",
      "source": [
        "#Taking Investors input regarding the new investment she/he wants to make \n",
        "\n",
        "stock_customer = input(\"Enter the stock ticker customer is interested in buying(we will use clustering) ?\") or 'AAPL'\n",
        "print(stock_customer)"
      ],
      "metadata": {
        "id": "KP8L54kfH6qP",
        "colab": {
          "base_uri": "https://localhost:8080/"
        },
        "outputId": "1c871fe8-f4e4-491a-e0ea-cacbec5e89dd"
      },
      "execution_count": null,
      "outputs": [
        {
          "output_type": "stream",
          "name": "stdout",
          "text": [
            "Enter the stock ticker customer is interested in buying(we will use clustering) ?IBM\n",
            "IBM\n"
          ]
        }
      ]
    },
    {
      "cell_type": "code",
      "source": [
        "customer_stock_model,stock_modified = xgbModel(stock_customer)\n",
        "customer_stock_class_pred = knn.predict([customer_stock_model])"
      ],
      "metadata": {
        "id": "qgp4O0REH8_y"
      },
      "execution_count": null,
      "outputs": []
    },
    {
      "cell_type": "code",
      "source": [
        "print(\"Class Prediction for Investor's new Stock\",customer_stock_class_pred)"
      ],
      "metadata": {
        "id": "QR2iNeIhH_Bp",
        "colab": {
          "base_uri": "https://localhost:8080/"
        },
        "outputId": "3200cf56-31dd-4f16-e4be-e360c916feb9"
      },
      "execution_count": null,
      "outputs": [
        {
          "output_type": "stream",
          "name": "stdout",
          "text": [
            "Class Prediction for Investor's new Stock ['High']\n"
          ]
        }
      ]
    },
    {
      "cell_type": "code",
      "source": [
        "customer_stock_model,stock_modified = xgbModel(stock_customer)\n",
        "\n",
        "#print(customer_stock_model.coef_)\n",
        "\n",
        "customer_stock_class_pred = k_mean_model_1.predict([customer_stock_model])"
      ],
      "metadata": {
        "id": "Ukt4RPeTIBsO"
      },
      "execution_count": null,
      "outputs": []
    },
    {
      "cell_type": "code",
      "source": [
        "print(\"Cluster for Investor's new Stock:\",stock_customer, \" is :\",customer_stock_class_pred[0])"
      ],
      "metadata": {
        "id": "GI9WfmCQIFKO",
        "colab": {
          "base_uri": "https://localhost:8080/"
        },
        "outputId": "07debf51-b006-42c9-ddf0-b29c9c7f1328"
      },
      "execution_count": null,
      "outputs": [
        {
          "output_type": "stream",
          "name": "stdout",
          "text": [
            "Cluster for Investor's new Stock: IBM  is : 1\n"
          ]
        }
      ]
    },
    {
      "cell_type": "code",
      "source": [
        "pip install pickle5"
      ],
      "metadata": {
        "colab": {
          "base_uri": "https://localhost:8080/"
        },
        "id": "04KrUqUlCyee",
        "outputId": "ffa47997-efa4-4989-9e6f-ab651d7d43c5"
      },
      "execution_count": null,
      "outputs": [
        {
          "output_type": "stream",
          "name": "stdout",
          "text": [
            "Looking in indexes: https://pypi.org/simple, https://us-python.pkg.dev/colab-wheels/public/simple/\n",
            "Collecting pickle5\n",
            "  Downloading pickle5-0.0.12-cp37-cp37m-manylinux_2_5_x86_64.manylinux1_x86_64.whl (256 kB)\n",
            "\u001b[K     |████████████████████████████████| 256 kB 5.1 MB/s \n",
            "\u001b[?25hInstalling collected packages: pickle5\n",
            "Successfully installed pickle5-0.0.12\n"
          ]
        }
      ]
    },
    {
      "cell_type": "code",
      "source": [
        "import pickle"
      ],
      "metadata": {
        "id": "vM0_vICTDMEW"
      },
      "execution_count": null,
      "outputs": []
    },
    {
      "cell_type": "code",
      "source": [
        "filename = 'XGBoost.sav'"
      ],
      "metadata": {
        "id": "axTZ6GKxD4sV"
      },
      "execution_count": null,
      "outputs": []
    },
    {
      "cell_type": "code",
      "source": [
        "pickle.dump(gbr,open(filename,'wb'))"
      ],
      "metadata": {
        "colab": {
          "base_uri": "https://localhost:8080/",
          "height": 165
        },
        "id": "4vgEPEEpECoH",
        "outputId": "df98c0b4-cdf2-4276-c849-978afe8c1355"
      },
      "execution_count": null,
      "outputs": [
        {
          "output_type": "error",
          "ename": "NameError",
          "evalue": "ignored",
          "traceback": [
            "\u001b[0;31m---------------------------------------------------------------------------\u001b[0m",
            "\u001b[0;31mNameError\u001b[0m                                 Traceback (most recent call last)",
            "\u001b[0;32m<ipython-input-4-82bb90fab548>\u001b[0m in \u001b[0;36m<module>\u001b[0;34m\u001b[0m\n\u001b[0;32m----> 1\u001b[0;31m \u001b[0mpickle\u001b[0m\u001b[0;34m.\u001b[0m\u001b[0mdump\u001b[0m\u001b[0;34m(\u001b[0m\u001b[0mgbr\u001b[0m\u001b[0;34m,\u001b[0m\u001b[0mopen\u001b[0m\u001b[0;34m(\u001b[0m\u001b[0mfilename\u001b[0m\u001b[0;34m,\u001b[0m\u001b[0;34m'wb'\u001b[0m\u001b[0;34m)\u001b[0m\u001b[0;34m)\u001b[0m\u001b[0;34m\u001b[0m\u001b[0;34m\u001b[0m\u001b[0m\n\u001b[0m",
            "\u001b[0;31mNameError\u001b[0m: name 'gbr' is not defined"
          ]
        }
      ]
    }
  ],
  "metadata": {
    "colab": {
      "collapsed_sections": [],
      "provenance": []
    },
    "kernelspec": {
      "display_name": "Python 3",
      "name": "python3"
    },
    "language_info": {
      "name": "python"
    }
  },
  "nbformat": 4,
  "nbformat_minor": 0
}